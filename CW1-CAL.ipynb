{
 "cells": [
  {
   "cell_type": "markdown",
   "metadata": {
    "deletable": false,
    "editable": false,
    "nbgrader": {
     "cell_type": "markdown",
     "checksum": "97c34a98e82df5b0c8a9ec4d056a1ed7",
     "grade": false,
     "grade_id": "cell-731ac646155705ac",
     "locked": true,
     "schema_version": 3,
     "solution": false,
     "task": false
    }
   },
   "source": [
    "# Coursework 1 - CAL  #\n",
    "\n",
    "This question is associated with the core module Calculus (CAL).\n",
    "\n",
    "### Marks \n",
    "- There are 3 subquestions, each is worth 30 marks.\n",
    "- The number of marks asssociated with test-cell is indicated in a comment at the top of that cell.\n",
    "- The number of marks associated to a manually marked taks. (like drawing a graph) is indicated in the text immediately above this cell. \n",
    "\n",
    "#### How to Answer\n",
    "Write your code in the \"answer\" cell where it says \"# YOUR CODE HERE\"\n",
    "and remove both the line \"# YOUR CODE HERE\" and the line \"raise NotImplementedError()\"\n",
    "\n",
    "**Important**: Do not change the name or remove the existing function and write all your code \"inside\" the existing function, i.e. with at least one-tab's indentation.\n",
    "\n",
    "\n",
    "When you have written your code you should evaluate the cell and then evaluate the \"Test\" cells following it. If you don't see any errors then your code is (hopefully) correct and you can go on to the next question. \n",
    "\n",
    "If you see some errors then you have to go back and edit your code and try to fix the \"bug\". \n",
    "\n"
   ]
  },
  {
   "cell_type": "markdown",
   "metadata": {
    "deletable": false,
    "editable": false,
    "nbgrader": {
     "cell_type": "markdown",
     "checksum": "2b3f98b4462238b6f9ca24d33188818b",
     "grade": false,
     "grade_id": "cell-8b5cd382f8f8f817",
     "locked": true,
     "schema_version": 3,
     "solution": false,
     "task": false
    }
   },
   "source": [
    "## Introduction\n",
    "The Bernoulli numbers $B_{m}$, where $m=0,1,2,\\ldots$ are a sequence of rational numbers with many applications. \n",
    "The $m$th Bernoulli number can be defined explicitly by \n",
    "$$\n",
    "B_{m}=\\sum_{k=0}^{m}\\sum_{v=0}^{k}(-1)^{v}{k \\choose v}\\frac{v^{m}}{k+1}.\n",
    "$$\n",
    "It is easy to see that $B_0=1$ and it can be shown that $B_{m}=0$ for any odd $m>1$ and the first few non-zero values are\n",
    "\n",
    "$$\n",
    "B_0=1,\\quad B_1=-\\frac{1}{2},\\quad B_2=\\frac{1}{6}=0.166666\\ldots, \\quad B_4=-\\frac{1}{30}=-0.033333\\cdots\n",
    "$$\n",
    "\n",
    "**a)** Write a program which uses the formula above to compute the Bernoulli number $B_{m}$ for $0\\le m\\le 12$. \n",
    "\n",
    "Note that without using higher precision this algorithm is not very good for large $m$ due to catastrophic cancellation. For this reason the tests used will also require less and less precision of the output (as you will see below).\n",
    "\n",
    "- Hint 1: the binomial coefficient ${k \\choose v}$ is given by `math.comb(k,v)`.\n",
    "- Hint 2: watch the indexes!\n",
    "\n",
    "**[5 marks]**"
   ]
  },
  {
   "cell_type": "code",
   "execution_count": 1,
   "metadata": {
    "deletable": false,
    "nbgrader": {
     "cell_type": "code",
     "checksum": "dce29e63680839e99a81f486bf8d98a3",
     "grade": false,
     "grade_id": "cell-306c43c7c2ad317b",
     "locked": false,
     "schema_version": 3,
     "solution": true,
     "task": false
    }
   },
   "outputs": [],
   "source": [
    "import math\n",
    "def bernoulli(m):\n",
    "    r\"\"\"\n",
    "    A function that uses the `sum` formula to compute $B_m$\n",
    "    \"\"\"\n",
    "    sum_k = []\n",
    "    sum_m = []\n",
    "    # YOUR CODE HERE\n",
    "    for k in range(m+1):\n",
    "        for v in range(k+1):\n",
    "            sum_k.append(((-1)**v)*math.comb(k,v)*((v**m)/(k+1)))\n",
    "        sum_m.append(sum(sum_k))\n",
    "        sum_k = []\n",
    "    return sum(sum_m)\n",
    "            \n",
    "    raise NotImplementedError()"
   ]
  },
  {
   "cell_type": "code",
   "execution_count": 2,
   "metadata": {
    "deletable": false,
    "editable": false,
    "nbgrader": {
     "cell_type": "code",
     "checksum": "1f980a92cd7f592c7f53baa61a482b64",
     "grade": true,
     "grade_id": "cell-43034d20ee0ece10",
     "locked": true,
     "points": 5,
     "schema_version": 3,
     "solution": false,
     "task": false
    }
   },
   "outputs": [],
   "source": [
    "# [5 marks]\n",
    "from nose.tools import assert_equal,assert_almost_equal\n",
    "assert_equal(bernoulli(0),1)\n"
   ]
  },
  {
   "cell_type": "code",
   "execution_count": 3,
   "metadata": {
    "deletable": false,
    "editable": false,
    "nbgrader": {
     "cell_type": "code",
     "checksum": "4b8bb6f95f1976d2d2c1034216076a15",
     "grade": true,
     "grade_id": "cell-58742b76c083ff94",
     "locked": true,
     "points": 5,
     "schema_version": 3,
     "solution": false,
     "task": false
    }
   },
   "outputs": [],
   "source": [
    "# [5 marks]\n",
    "from nose.tools import assert_equal,assert_almost_equal\n",
    "# This cell contains hidden tests"
   ]
  },
  {
   "cell_type": "code",
   "execution_count": 4,
   "metadata": {
    "deletable": false,
    "editable": false,
    "nbgrader": {
     "cell_type": "code",
     "checksum": "8ca0244c4ac7fd1f27f398b547b20671",
     "grade": true,
     "grade_id": "cell-d712d08794830e3e",
     "locked": true,
     "points": 5,
     "schema_version": 3,
     "solution": false,
     "task": false
    }
   },
   "outputs": [],
   "source": [
    "# [5 marks]\n",
    "from nose.tools import assert_equal,assert_almost_equal\n",
    "assert_almost_equal(bernoulli(2),0.166666666666666,delta=1e-6)\n"
   ]
  },
  {
   "cell_type": "code",
   "execution_count": 5,
   "metadata": {
    "deletable": false,
    "editable": false,
    "nbgrader": {
     "cell_type": "code",
     "checksum": "33cacacf80df69af2d1a85911b778eea",
     "grade": true,
     "grade_id": "cell-7b7230918edfce39",
     "locked": true,
     "points": 5,
     "schema_version": 3,
     "solution": false,
     "task": false
    }
   },
   "outputs": [],
   "source": [
    "# [5 marks]\n",
    "from nose.tools import assert_equal,assert_almost_equal\n",
    "assert_almost_equal(bernoulli(11),0.0,delta=1e-2)"
   ]
  },
  {
   "cell_type": "code",
   "execution_count": 6,
   "metadata": {
    "deletable": false,
    "editable": false,
    "nbgrader": {
     "cell_type": "code",
     "checksum": "8e014a313a74424981e3acff2c505d4b",
     "grade": true,
     "grade_id": "cell-48cdb2f834dd3aed",
     "locked": true,
     "points": 5,
     "schema_version": 3,
     "solution": false,
     "task": false
    }
   },
   "outputs": [],
   "source": [
    "# [5 marks]\n",
    "from nose.tools import assert_equal,assert_almost_equal\n",
    "# This cell contains hidden tests"
   ]
  },
  {
   "cell_type": "code",
   "execution_count": 7,
   "metadata": {
    "deletable": false,
    "editable": false,
    "nbgrader": {
     "cell_type": "code",
     "checksum": "e39e39d7d9acd61274d616acbd0ac127",
     "grade": true,
     "grade_id": "cell-17a45015bfd2bc08",
     "locked": true,
     "points": 5,
     "schema_version": 3,
     "solution": false,
     "task": false
    }
   },
   "outputs": [],
   "source": [
    "# [5 marks]\n",
    "from nose.tools import assert_equal,assert_almost_equal\n",
    "# This cell contains hidden tests\n"
   ]
  },
  {
   "cell_type": "markdown",
   "metadata": {
    "deletable": false,
    "editable": false,
    "nbgrader": {
     "cell_type": "markdown",
     "checksum": "29e5b7f79483e5d0ec36689f43962699",
     "grade": false,
     "grade_id": "cell-b5176200e8e2a114",
     "locked": true,
     "schema_version": 3,
     "solution": false,
     "task": false
    }
   },
   "source": [
    "**b)**\n",
    "The first n terms of the Maclaurin series of tan x are given by \n",
    "\n",
    "$$\n",
    "p_n(x) = \\sum_{k=1}^{n} \\frac{B_{2k}}{(2k)!}(−4)^k(1 − 4^k)x^{2k−1}\n",
    "$$\n",
    "Write a function called 'pn' with parameters $n$ and $x$ and returns the value of $p_n(x)$. The function should work for at least $$n=1,2,3$$ but does not need to work for higher values of $n$.\n",
    "\n",
    "*Note:* In your code you do not need to repeat the definition of 'bernoulli' from part (a). You can simply assume that this function is available (even if you did not complete part (a)) and works as described there.\n"
   ]
  },
  {
   "cell_type": "code",
   "execution_count": 8,
   "metadata": {
    "deletable": false,
    "nbgrader": {
     "cell_type": "code",
     "checksum": "584f55ee9c8aaafb84cd8468dfe7c59a",
     "grade": false,
     "grade_id": "cell-eb789979cc9ddd2c",
     "locked": false,
     "schema_version": 3,
     "solution": true,
     "task": false
    }
   },
   "outputs": [],
   "source": [
    "\n",
    "def pn(n,x):\n",
    "    r\"\"\"\n",
    "    Function that computes the $n$-th McLaurin polynomials for $\\tan$ at the point $x$. \n",
    "    \"\"\"\n",
    "    # YOUR CODE HERE\n",
    "    sum_n = []\n",
    "    for k in range(1,n+1):\n",
    "        #print((bernoulli(2*k)/(math.factorial(2*k))*((-4)**k)*(1-4**k)*x**(2*k-1)))\n",
    "        sum_n.append((bernoulli(2*k)/(math.factorial(2*k))*((-4)**k)*(1-4**k)*x**(2*k-1)))\n",
    "        #print(sum_n)\n",
    "    return sum(sum_n)\n",
    "    raise NotImplementedError()\n",
    "#pn(1,0.5)"
   ]
  },
  {
   "cell_type": "code",
   "execution_count": 9,
   "metadata": {
    "deletable": false,
    "editable": false,
    "nbgrader": {
     "cell_type": "code",
     "checksum": "7b735606a26cf41e7a5fd8b9600d467b",
     "grade": true,
     "grade_id": "cell-edd2e8efc74e8fe0",
     "locked": true,
     "points": 5,
     "schema_version": 3,
     "solution": false,
     "task": false
    }
   },
   "outputs": [],
   "source": [
    "# [5 marks]\n",
    "from nose.tools import assert_equal,assert_almost_equal\n",
    "\n",
    "\n",
    "assert_almost_equal(pn(1,0.5),0.5,delta=1e-8)"
   ]
  },
  {
   "cell_type": "code",
   "execution_count": 10,
   "metadata": {
    "deletable": false,
    "editable": false,
    "nbgrader": {
     "cell_type": "code",
     "checksum": "9dbf976206e5064362b021140aa9fbc4",
     "grade": true,
     "grade_id": "cell-910785e7d8ce5631",
     "locked": true,
     "points": 5,
     "schema_version": 3,
     "solution": false,
     "task": false
    }
   },
   "outputs": [],
   "source": [
    "# [5 marks]\n",
    "from nose.tools import assert_equal,assert_almost_equal\n",
    "\n",
    "assert_almost_equal(pn(2,0.5),0.54166666666666,delta=1e-8)\n"
   ]
  },
  {
   "cell_type": "code",
   "execution_count": 11,
   "metadata": {
    "deletable": false,
    "editable": false,
    "nbgrader": {
     "cell_type": "code",
     "checksum": "eaa6568f9bb2fa12cbc601a39e7d4c88",
     "grade": true,
     "grade_id": "cell-bf1506807984c089",
     "locked": true,
     "points": 5,
     "schema_version": 3,
     "solution": false,
     "task": false
    }
   },
   "outputs": [],
   "source": [
    "# [5 marks]\n",
    "from nose.tools import assert_equal,assert_almost_equal\n",
    "\n",
    "\n",
    "assert_almost_equal(pn(3,0.5),0.54583333333333,delta=1e-8)\n",
    "\n"
   ]
  },
  {
   "cell_type": "code",
   "execution_count": 12,
   "metadata": {
    "deletable": false,
    "editable": false,
    "nbgrader": {
     "cell_type": "code",
     "checksum": "4137fab465463bda1ca55aad9e72baf0",
     "grade": true,
     "grade_id": "cell-0e5bd3e2ecdf7da9",
     "locked": true,
     "points": 5,
     "schema_version": 3,
     "solution": false,
     "task": false
    }
   },
   "outputs": [],
   "source": [
    "# [5 marks]\n",
    "from nose.tools import assert_equal,assert_almost_equal\n",
    "# This cell contains hidden tests"
   ]
  },
  {
   "cell_type": "code",
   "execution_count": 13,
   "metadata": {
    "deletable": false,
    "editable": false,
    "nbgrader": {
     "cell_type": "code",
     "checksum": "cca67f00bbb8cc92a8798edd5d51aa09",
     "grade": true,
     "grade_id": "cell-f1b0c27adad8abda",
     "locked": true,
     "points": 5,
     "schema_version": 3,
     "solution": false,
     "task": false
    }
   },
   "outputs": [],
   "source": [
    "# [5 marks]\n",
    "from nose.tools import assert_equal,assert_almost_equal\n",
    "# This cell contains hidden tests"
   ]
  },
  {
   "cell_type": "code",
   "execution_count": 14,
   "metadata": {
    "deletable": false,
    "editable": false,
    "nbgrader": {
     "cell_type": "code",
     "checksum": "c0b7bc4b784bb70c3699184d89a76291",
     "grade": true,
     "grade_id": "cell-9dfe3f3fe440c802",
     "locked": true,
     "points": 5,
     "schema_version": 3,
     "solution": false,
     "task": false
    }
   },
   "outputs": [],
   "source": [
    "# [5 marks]\n",
    "from nose.tools import assert_equal,assert_almost_equal\n",
    "# This cell contains hidden tests"
   ]
  },
  {
   "cell_type": "markdown",
   "metadata": {
    "deletable": false,
    "editable": false,
    "nbgrader": {
     "cell_type": "markdown",
     "checksum": "50000f8a0780847af80a4e9f65ed22ef",
     "grade": false,
     "grade_id": "cell-48f15e83c2929071",
     "locked": true,
     "schema_version": 3,
     "solution": false,
     "task": false
    }
   },
   "source": [
    "**c)** \n",
    "Plot the graphs of $\\tan(x)$, $p_1(x)$, $p_2(x)$ and $p_3(x)$ in the range \n",
    "$-\\frac{\\pi}{3}\\le x\\le \\frac{\\pi}{3}$\n",
    "in the same figure. The figure should have a legend that explains what each of the graphs represent as well as labels for the $x$ and $y$ axes. \n",
    "\n",
    "- Enter the Python code used to create the plot in the function `draw_pn_plot` below. \n",
    "- Generate the plot by running the cell below and call `draw_pn_plot`\n",
    "\n"
   ]
  },
  {
   "cell_type": "code",
   "execution_count": 15,
   "metadata": {
    "deletable": false,
    "nbgrader": {
     "cell_type": "code",
     "checksum": "729ef603cbae36a9e11edc5720f8ce51",
     "grade": false,
     "grade_id": "cell-45f4e9915776fdc5",
     "locked": false,
     "schema_version": 3,
     "solution": true,
     "task": false
    }
   },
   "outputs": [],
   "source": [
    "import pylab\n",
    "def draw_pn_plot():\n",
    "    r\"\"\"\n",
    "    Function that plots the graphs of \\tan, p_1 and p_3\n",
    "    \"\"\"\n",
    "    # YOUR CODE HERE\n",
    "    x = pylab.linspace(-math.pi/3,math.pi/3,5000)\n",
    "    pylab.plot(x,pylab.tan(x),label='tan(x)')\n",
    "    pylab.plot(x,pn(1,x),label='$p_1(x)$')\n",
    "    pylab.plot(x,pn(2,x),label='$p_2(x)$')\n",
    "    pylab.plot(x,pn(3,x),label='$p_3(x)$')\n",
    "    #pylab.ylim(-math.pi/3,math.pi/3)\n",
    "    pylab.legend(loc='lower right')\n",
    "    pylab.xlabel('$x$')\n",
    "    pylab.ylabel('$y$')\n",
    "    pylab.show()\n",
    "    return\n",
    "    raise NotImplementedError()"
   ]
  },
  {
   "cell_type": "code",
   "execution_count": 16,
   "metadata": {
    "deletable": false,
    "nbgrader": {
     "cell_type": "code",
     "checksum": "151499bec48e68ec0b01495902e561b8",
     "grade": true,
     "grade_id": "cell-8414f0d6dafc21ae",
     "locked": false,
     "points": 30,
     "schema_version": 3,
     "solution": true,
     "task": false
    }
   },
   "outputs": [
    {
     "data": {
      "image/png": "[encoded data removed]",
      "text/plain": [
       "<Figure size 432x288 with 1 Axes>"
      ]
     },
     "metadata": {
      "needs_background": "light"
     },
     "output_type": "display_data"
    }
   ],
   "source": [
    "# YOUR CODE HERE\n",
    "draw_pn_plot()\n",
    "#raise NotImplementedError()"
   ]
  }
 ],
 "metadata": {
  "kernelspec": {
   "display_name": "Python 3",
   "language": "python",
   "name": "python3"
  },
  "language_info": {
   "codemirror_mode": {
    "name": "ipython",
    "version": 3
   },
   "file_extension": ".py",
   "mimetype": "text/x-python",
   "name": "python",
   "nbconvert_exporter": "python",
   "pygments_lexer": "ipython3",
   "version": "3.8.8"
  }
 },
 "nbformat": 4,
 "nbformat_minor": 4
}
