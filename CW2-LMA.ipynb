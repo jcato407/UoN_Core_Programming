{
 "cells": [
  {
   "cell_type": "markdown",
   "metadata": {
    "deletable": false,
    "editable": false,
    "nbgrader": {
     "cell_type": "markdown",
     "checksum": "90ddc934d8414dd93882cce10ef2662a",
     "grade": false,
     "grade_id": "cell-367ba0b3c01e4b88",
     "locked": true,
     "schema_version": 3,
     "solution": false,
     "task": false
    }
   },
   "source": [
    "# Coursework 2 - LMA  #\n",
    "\n",
    "This question is associated with the core module Analytical and Computational foundations (ACF).\n",
    "\n",
    "### Marks \n",
    "- There are 3 subquestions, each is worth 30 marks.\n",
    "- The number of marks asssociated with test-cell is indicated in a comment at the top of that cell.\n",
    "- The number of marks associated to a manually marked taks. (like drawing a graph) is indicated in the text immediately above this cell. \n",
    "\n",
    "#### How to Answer\n",
    "Write your code in the \"answer\" cell where it says \"# YOUR CODE HERE\"\n",
    "and remove both the line \"# YOUR CODE HERE\" and the line \"raise NotImplementedError()\"\n",
    "\n",
    "**Important**: Do not change the name or remove the existing function and write all your code \"inside\" the existing function, i.e. with at least one-tab's indentation.\n",
    "\n",
    "\n",
    "When you have written your code you should evaluate the cell and then evaluate the \"Test\" cells following it. If you don't see any errors then your code is (hopefully) correct and you can go on to the next question. \n",
    "\n",
    "If you see some errors then you have to go back and edit your code and try to fix the \"bug\". \n",
    "\n",
    "## Introduction \n",
    "\n",
    "We have seen that it is possible to do linear algebra in NumPy with matrices described by 2-dimensional arrays. \n",
    "In this question we will write a function to perform Gaussian Elimination in Python using NumPy."
   ]
  },
  {
   "cell_type": "markdown",
   "metadata": {
    "deletable": false,
    "editable": false,
    "nbgrader": {
     "cell_type": "markdown",
     "checksum": "510673e1de3a59fef5699d871894d4c7",
     "grade": false,
     "grade_id": "cell-51985c80a042cdfd",
     "locked": true,
     "schema_version": 3,
     "solution": false,
     "task": false
    }
   },
   "source": [
    "**(a) [30 Marks]**\n",
    "\n",
    "Write a function that takes as input a Matrix A (given as a 2-dimensional NumPy-array) and two integers $i$ and $j$  and returns the entry in column $j$ with maximum absolute value amongst rows $i,i+1,..$ together with its row index (counted in the entire matrix).\n",
    "\n",
    "In other words, if $A$ is an $r\\times k$ matrix,  $A=(a_{mn})$ where $0\\le m\\le r-1$ and $0\\le n\\le k-1$, then the function should return \n",
    "\n",
    "$$\n",
    "\\max\\{|a_{mj}|\\; : {i \\le m < r } \\},\n",
    "$$\n",
    "\n",
    "together with the value of $m$ for which this maximum occurs. \n",
    "Note that indexing for rows and columns are counted from $0$ as usual. \n",
    "\n",
    "The function should raise a `ValueError` if the input $i$ is not the index of a column of $A$ or if $j$ \n",
    "is not the index of a row of $A$. \n"
   ]
  },
  {
   "cell_type": "code",
   "execution_count": 1,
   "metadata": {
    "deletable": false,
    "nbgrader": {
     "cell_type": "code",
     "checksum": "710178274ea1d57033f57b82a29945a3",
     "grade": false,
     "grade_id": "cell-8314a69148b9760e",
     "locked": false,
     "schema_version": 3,
     "solution": true,
     "task": false
    }
   },
   "outputs": [],
   "source": [
    "def find_max_column_value(A,i,j):\n",
    "    # YOUR CODE HERE\n",
    "    \n",
    "    if i > A.shape[0] or j > A.shape[1] or i < 0 or j < 0:\n",
    "        raise IndexError()\n",
    "    \n",
    "    max_value = abs(A[i][j])\n",
    "    m = i\n",
    "    for x in range((i+1),A.shape[0]):\n",
    "        if abs(A[x][j]) > abs(max_value):\n",
    "            m = x\n",
    "            max_value = abs(A[x][j])\n",
    "    return (max_value,m)\n",
    "    raise NotImplementedError()"
   ]
  },
  {
   "cell_type": "code",
   "execution_count": 2,
   "metadata": {
    "deletable": false,
    "editable": false,
    "nbgrader": {
     "cell_type": "code",
     "checksum": "e6e75cebb6afb091954ad6f657a6a25a",
     "grade": true,
     "grade_id": "cell-7c913cef76d2617e",
     "locked": true,
     "points": 5,
     "schema_version": 3,
     "solution": false,
     "task": false
    }
   },
   "outputs": [],
   "source": [
    "# Tests that the algorithm finds the correct value \n",
    "# Marks: 5\n",
    "from nose.tools import assert_equal\n",
    "import numpy as np\n",
    "A = np.array([[ 9,  6,  7,  8,  1,  7,  2], [ 8,  2,  6,  5,  1,  5,  3], [ 7,  3,  1,  4,  5, 10,  1],\n",
    "              [10,  5,  7,  5,  4,  6,  2], [ 5,  5,  2,  6,  4,  2,  7]])\n",
    "assert_equal(find_max_column_value(A,0,0),(10,3))\n"
   ]
  },
  {
   "cell_type": "code",
   "execution_count": 3,
   "metadata": {
    "deletable": false,
    "editable": false,
    "nbgrader": {
     "cell_type": "code",
     "checksum": "606c30334e4f283504411376833f6177",
     "grade": true,
     "grade_id": "cell-5cafd6d3e799ea07",
     "locked": true,
     "points": 5,
     "schema_version": 3,
     "solution": false,
     "task": false
    }
   },
   "outputs": [],
   "source": [
    "# Tests that the algorithm finds the correct value \n",
    "# Marks: 5\n",
    "from nose.tools import assert_equal\n",
    "import numpy as np\n",
    "A = np.array([[ 9,  6,  7,  8,  1,  7,  2], [ 8,  2,  6,  5,  1,  5,  3], [ 7,  3,  1,  4,  5, 10,  1],\n",
    "              [10,  5,  7,  5,  4,  6,  2], [ 5,  5,  2,  6,  4,  2,  7]])\n",
    "assert_equal(find_max_column_value(A,2,4),(5,2))\n"
   ]
  },
  {
   "cell_type": "code",
   "execution_count": 4,
   "metadata": {
    "deletable": false,
    "editable": false,
    "nbgrader": {
     "cell_type": "code",
     "checksum": "ec0a8cb7eb1b38ce5470058721147e55",
     "grade": true,
     "grade_id": "cell-ee59b89568fbcf45",
     "locked": true,
     "points": 5,
     "schema_version": 3,
     "solution": false,
     "task": false
    }
   },
   "outputs": [],
   "source": [
    "# Tests that the algorithm raises IndexError \n",
    "# Marks: 5\n",
    "from nose.tools import assert_raises\n",
    "import numpy as np\n",
    "A = np.array([[ 9,  6,  7,  8,  1,  7,  2], [ 8,  2,  6,  5,  1,  5,  3], [ 7,  3,  1,  4,  5, 10,  1],\n",
    "              [10,  5,  7,  5,  4,  6,  2], [ 5,  5,  2,  6,  4,  2,  7]])\n",
    "assert_raises(IndexError,find_max_column_value,A,-1,0)\n",
    "\n"
   ]
  },
  {
   "cell_type": "code",
   "execution_count": 5,
   "metadata": {
    "deletable": false,
    "editable": false,
    "nbgrader": {
     "cell_type": "code",
     "checksum": "89e55f4c8b34f7014a3cd251e497220a",
     "grade": true,
     "grade_id": "cell-ded2694e62fd425b",
     "locked": true,
     "points": 5,
     "schema_version": 3,
     "solution": false,
     "task": false
    }
   },
   "outputs": [],
   "source": [
    "# Tests that the algorithm raises IndexError \n",
    "# Marks: 5\n",
    "from nose.tools import assert_raises\n",
    "import numpy as np\n",
    "A = np.array([[ 9,  6,  7,  8,  1,  7,  2], [ 8,  2,  6,  5,  1,  5,  3], [ 7,  3,  1,  4,  5, 10,  1],\n",
    "              [10,  5,  7,  5,  4,  6,  2], [ 5,  5,  2,  6,  4,  2,  7]])\n",
    "assert_raises(IndexError,find_max_column_value,A,10,0)\n"
   ]
  },
  {
   "cell_type": "code",
   "execution_count": 6,
   "metadata": {
    "deletable": false,
    "editable": false,
    "nbgrader": {
     "cell_type": "code",
     "checksum": "236b76655fa637d1f037f03356efc872",
     "grade": true,
     "grade_id": "cell-5315e8ba04e5004a",
     "locked": true,
     "points": 5,
     "schema_version": 3,
     "solution": false,
     "task": false
    }
   },
   "outputs": [],
   "source": [
    "# Tests that algorithm finds the correct value for another matrix\n",
    "# Marks: 5\n",
    "from nose.tools import assert_equal\n",
    "import numpy as np"
   ]
  },
  {
   "cell_type": "code",
   "execution_count": 7,
   "metadata": {
    "deletable": false,
    "editable": false,
    "nbgrader": {
     "cell_type": "code",
     "checksum": "139b445bb9cc8e5b515702454e4075cb",
     "grade": true,
     "grade_id": "cell-966636228d3e32ff",
     "locked": true,
     "points": 5,
     "schema_version": 3,
     "solution": false,
     "task": false
    }
   },
   "outputs": [],
   "source": [
    "# Tests that the algorithm finds the correct value for another matrix\n",
    "# Marks: 5\n",
    "from nose.tools import assert_equal\n",
    "import numpy as np"
   ]
  },
  {
   "cell_type": "markdown",
   "metadata": {
    "deletable": false,
    "editable": false,
    "nbgrader": {
     "cell_type": "markdown",
     "checksum": "0b7643902607ffd3b9e134dfa21dd6ac",
     "grade": false,
     "grade_id": "cell-6905b623bc3252bc",
     "locked": true,
     "schema_version": 3,
     "solution": false,
     "task": false
    }
   },
   "source": [
    "**(b) [30 Marks]**\n",
    "\n",
    "Write two functions `swap_rows` and `swap_columns` that both take as input a matrix $A$ and two integers $i$ and $j$, and returns a copy of the matrix A where the  rows $i$ and $j$, or columns $i$ and $j$, are swapped respectively. \n",
    "\n",
    "The function should raise an `IndexError` if the input $i$ or $j$ is not the index of a row or column of $A$ respectively."
   ]
  },
  {
   "cell_type": "code",
   "execution_count": 8,
   "metadata": {
    "deletable": false,
    "nbgrader": {
     "cell_type": "code",
     "checksum": "64d4499e71845f4cefb1bb351b0c0f4f",
     "grade": false,
     "grade_id": "cell-ae15f5b597bbd508",
     "locked": false,
     "schema_version": 3,
     "solution": true,
     "task": false
    }
   },
   "outputs": [],
   "source": [
    "def swap_rows(A,i,j):\n",
    "    # YOUR CODE HERE\n",
    "    if i > A.shape[0]:\n",
    "        raise IndexError()\n",
    "    if i < 0:\n",
    "        raise IndexError()\n",
    "    if j > A.shape[0]:\n",
    "        raise IndexError()\n",
    "    if j < 0:\n",
    "        raise IndexError()\n",
    "        \n",
    "    A1 = np.zeros((A.shape))\n",
    "    for x in range(A.shape[0]):\n",
    "        if x == min(i,j):\n",
    "            A1[x] += (A[max(i,j)])\n",
    "        elif x == max(i,j):\n",
    "            A1[x] += (A[min(i,j)])\n",
    "        else:\n",
    "            A1[x] += A[x]\n",
    "    \n",
    "    return A1\n",
    "    raise NotImplementedError()"
   ]
  },
  {
   "cell_type": "code",
   "execution_count": 9,
   "metadata": {
    "deletable": false,
    "nbgrader": {
     "cell_type": "code",
     "checksum": "29f87a99a942acf818290ceeaceb5839",
     "grade": false,
     "grade_id": "cell-22104d72b1eef0a1",
     "locked": false,
     "schema_version": 3,
     "solution": true,
     "task": false
    }
   },
   "outputs": [],
   "source": [
    "def swap_cols(A,i,j):\n",
    "    # YOUR CODE HERE\n",
    "    AT = A.transpose()\n",
    "    if i > AT.shape[0]:\n",
    "        raise IndexError()\n",
    "    if i < 0:\n",
    "        raise IndexError()\n",
    "    if j > AT.shape[0]:\n",
    "        raise IndexError()\n",
    "    if j < 0:\n",
    "        raise IndexError()\n",
    "        \n",
    "    A1 = np.zeros((AT.shape))\n",
    "    for x in range(AT.shape[0]):\n",
    "        if x == min(i,j):\n",
    "            A1[x] += (AT[max(i,j)])\n",
    "        elif x == max(i,j):\n",
    "            A1[x] += (AT[min(i,j)])\n",
    "        else:\n",
    "            A1[x] += AT[x]\n",
    "    \n",
    "    return A1.transpose()\n",
    "    raise NotImplementedError()"
   ]
  },
  {
   "cell_type": "code",
   "execution_count": 10,
   "metadata": {
    "deletable": false,
    "editable": false,
    "nbgrader": {
     "cell_type": "code",
     "checksum": "5b3ec2ed258bda3030ec68cd4c8cc2b9",
     "grade": true,
     "grade_id": "cell-e5c11fdb4d8c0942",
     "locked": true,
     "points": 5,
     "schema_version": 3,
     "solution": false,
     "task": false
    }
   },
   "outputs": [],
   "source": [
    "# Check that the function 'swap_rows' work as expected\n",
    "# Marks: 5\n",
    "from nose.tools import assert_equal\n",
    "import numpy as np\n",
    "A = np.array([[ 9,  6,  7,  8,  1,  7,  2], \n",
    "              [ 8,  2,  6,  5,  1,  5,  3], \n",
    "              [ 7,  3,  1,  4,  5, 10,  1],\n",
    "              [10,  5,  7,  5,  4,  6,  2], \n",
    "              [ 5,  5,  2,  6,  4,  2,  7]])\n",
    "A1 = np.array([[ 7,  3,  1,  4,  5, 10,  1], \n",
    "               [ 8,  2,  6,  5,  1,  5,  3], \n",
    "               [ 9,  6,  7,  8,  1,  7,  2] ,\n",
    "              [10,  5,  7,  5,  4,  6,  2], \n",
    "               [ 5,  5,  2,  6,  4,  2,  7]])\n",
    "\n",
    "assert_equal( (swap_rows(A,0,2)==A1).all(),True)"
   ]
  },
  {
   "cell_type": "code",
   "execution_count": 11,
   "metadata": {
    "deletable": false,
    "editable": false,
    "nbgrader": {
     "cell_type": "code",
     "checksum": "e90ac68af0197d7c1f93c1be4760515f",
     "grade": true,
     "grade_id": "cell-8cf9aaff95b4f89c",
     "locked": true,
     "points": 5,
     "schema_version": 3,
     "solution": false,
     "task": false
    }
   },
   "outputs": [],
   "source": [
    "# Check that the function swap_rows raises an IndexError when called with a row -1\n",
    "from nose.tools import assert_raises\n",
    "import numpy as np\n",
    "A = np.array([[ 9,  6,  7,  8,  1,  7,  2], \n",
    "              [ 8,  2,  6,  5,  1,  5,  3], \n",
    "              [ 7,  3,  1,  4,  5, 10,  1],\n",
    "              [10,  5,  7,  5,  4,  6,  2], \n",
    "              [ 5,  5,  2,  6,  4,  2,  7]])\n",
    "assert_raises(IndexError,swap_rows,A,-1,1)\n",
    "assert_raises(IndexError,swap_rows,A,5,-1)"
   ]
  },
  {
   "cell_type": "code",
   "execution_count": 12,
   "metadata": {
    "deletable": false,
    "editable": false,
    "nbgrader": {
     "cell_type": "code",
     "checksum": "76b8369d147acbbc52fdff3ee098013b",
     "grade": true,
     "grade_id": "cell-c59173d62a3803c8",
     "locked": true,
     "points": 5,
     "schema_version": 3,
     "solution": false,
     "task": false
    }
   },
   "outputs": [],
   "source": [
    "# Check that the function 'swap_rows' work as expected for a different matrix.\n",
    "# Marks: 5"
   ]
  },
  {
   "cell_type": "code",
   "execution_count": 13,
   "metadata": {
    "deletable": false,
    "editable": false,
    "nbgrader": {
     "cell_type": "code",
     "checksum": "003d417a5f33f7f237f7da408fdf0cb3",
     "grade": true,
     "grade_id": "cell-8610970d3fe60e4a",
     "locked": true,
     "points": 5,
     "schema_version": 3,
     "solution": false,
     "task": false
    }
   },
   "outputs": [],
   "source": [
    "# Check that the function `swap_cols` work as expected\n",
    "# Marks: 5\n",
    "from nose.tools import assert_equal\n",
    "import numpy as np\n",
    "A = np.array([[ 9,  6,  7,  8,  1,  7,  2], \n",
    "              [ 8,  2,  6,  5,  1,  5,  3], \n",
    "              [ 7,  3,  1,  4,  5, 10,  1],\n",
    "              [10,  5,  7,  5,  4,  6,  2], \n",
    "              [ 5,  5,  2,  6,  4,  2,  7]])\n",
    "A2 = np.array([[ 8,  6,  7,  9,  1,  7,  2], \n",
    "               [ 5,  2,  6,  8,  1,  5,  3], \n",
    "               [ 4,  3,  1,  7,  5, 10,  1],\n",
    "               [ 5,  5,  7,  10,  4,  6,  2], \n",
    "               [ 6,  5,  2,  5,  4,  2,  7]])\n",
    "\n",
    "assert_equal( (swap_cols(A,0,3)==A2).all(),True)"
   ]
  },
  {
   "cell_type": "code",
   "execution_count": 14,
   "metadata": {
    "deletable": false,
    "editable": false,
    "nbgrader": {
     "cell_type": "code",
     "checksum": "d1d0c3fc4d3e109cacae4a0a9dfefc44",
     "grade": true,
     "grade_id": "cell-79dbadf3393ef2e0",
     "locked": true,
     "points": 5,
     "schema_version": 3,
     "solution": false,
     "task": false
    }
   },
   "outputs": [],
   "source": [
    "# Check that the function `swap_cols` raises IndexError when called with indexes out of bound.work as expected\n",
    "# Marks: 5\n",
    "from nose.tools import assert_raises\n",
    "import numpy as np\n",
    "A = np.array([[ 9,  6,  7,  8,  1,  7,  2], \n",
    "              [ 8,  2,  6,  5,  1,  5,  3], \n",
    "              [ 7,  3,  1,  4,  5, 10,  1],\n",
    "              [10,  5,  7,  5,  4,  6,  2], \n",
    "              [ 5,  5,  2,  6,  4,  2,  7]])\n",
    "\n",
    "assert_raises(IndexError,swap_cols,A,-1,1)\n",
    "assert_raises(IndexError,swap_cols,A,7,1)"
   ]
  },
  {
   "cell_type": "code",
   "execution_count": 15,
   "metadata": {
    "deletable": false,
    "editable": false,
    "nbgrader": {
     "cell_type": "code",
     "checksum": "f3f8e91539f50452b728670078c4a71d",
     "grade": true,
     "grade_id": "cell-50441bfd51f5a7f6",
     "locked": true,
     "points": 5,
     "schema_version": 3,
     "solution": false,
     "task": false
    }
   },
   "outputs": [],
   "source": [
    "# Check that the function `swap_cols` work as expected for a different matrix\n",
    "# Marks: 5"
   ]
  },
  {
   "cell_type": "markdown",
   "metadata": {
    "deletable": false,
    "editable": false,
    "nbgrader": {
     "cell_type": "markdown",
     "checksum": "ddcf3223a41ecbc0fa3771e4e774b715",
     "grade": false,
     "grade_id": "cell-7362f42d881d153f",
     "locked": true,
     "schema_version": 3,
     "solution": false,
     "task": false
    }
   },
   "source": [
    "**(c) [30 Marks]**\n",
    "\n",
    "In this question you are asked to use the functions find_max_column_value, swap_rows, swap_columns (from parts (a) and (b)) together with another function add_row to implement the Gaussian Elimination algorithm using elementary row operations. \n",
    "\n",
    "The necessary functions will be available to your program and a brief description of how they work follows below. \n",
    "\n",
    "The specific implementation of Gaussian Elimination that you are asked to write down works as follows:\n",
    "\n",
    "- Assume that $A=(a_{mn})$ is an $r \\times k$ matrix given by a 2-dimensional NumPy array with entries of type `float64` \n",
    "\n",
    "- Then the Gauss Elimination algorithm can be described by the following steps:\n",
    "\n",
    "\n",
    "1. Iterate over each column in turn. \n",
    "2. For each column, $j$, find the maximum absolute value below the diagonal and if larger than the diagonal value then swap the current row for the row corresponding to the maximum.\n",
    "3. If the maximum value is 0 continue with next column.\n",
    "4. Otherwise use elementary row operations to eliminate values in the current column from from all rows below the diagonal.\n",
    "5. Once we have reached the end of the columns, return the current matrix. \n",
    "\n",
    "\n",
    "Additionally requirements:\n",
    "\n",
    "- the function should raise a TypeError if the \"dtype\" is not float64\n",
    "- To make the final output nicer you you should set all matrix element that satisfy  $|a_{mn}|<\\min\\{r,k\\}\\epsilon$ to $0$, \n",
    "where $\\epsilon=1.19\\cdot 10^{-7}$ (The number $\\epsilon$ is sometimes called \"machine-epsilon\" and can be obtained in NumPy for single precision floating point numbers as `np.finfo('float32').eps`)\n",
    "\n",
    "**Note:** For testing your function you can use some small matrices and work out the steps of the Gaussian elimination algorithm by hand. \n",
    "\n",
    "You can assume that the following functions are available (so you shouldn't write them again):\n",
    "Here A is a matrix given by an NumPy array, i and j are integers and a is a float.  The functions all return an IndexError if i and j are not corresponding to rows or columns of A.\n",
    "\n",
    "- `find_max_column_value(A,i,j)`: returns the  entry of A in column $j$ with maximum absolute value amongst rows $i,i+1,..$ together with its row index (counted in the entire matrix).\n",
    "- `swap_rows(A,i,j)`: returns a copy of the matrix A where the  rows $i$ and $j$ are interchanged.\n",
    "- `swap_columns(A,i,j)`: returns a copy of the matrix A where the  columns $i$ and $j$ are interchanged.\n",
    "- `add_row(A,i,j,a)`:  returns a copy of A where row $$i$$ is replaced by row $i$ plus $a$ times row $j$\n",
    "Since the function add_row is not part of the coursework we include the function definition below.\n"
   ]
  },
  {
   "cell_type": "code",
   "execution_count": 16,
   "metadata": {
    "deletable": false,
    "nbgrader": {
     "cell_type": "code",
     "checksum": "1ef6e8dcd5f9308ed252a1d98974fc13",
     "grade": false,
     "grade_id": "cell-1f0b8c95d7800f5f",
     "locked": false,
     "schema_version": 3,
     "solution": true,
     "task": false
    },
    "scrolled": true
   },
   "outputs": [],
   "source": [
    "def add_row(A,i,j,a):\n",
    "    if i < 0 or i >= A.shape[0]:\n",
    "        raise IndexError(f\"Index i={i} out of bounds!\")\n",
    "    if j < 0 or j >= A.shape[0]:\n",
    "        raise IndexError(f\"Index i={j} out of bounds!\")\n",
    "    B = A.copy()\n",
    "    B[i] = A[i] + a*A[j]\n",
    "    return B\n",
    "\n",
    "def Gauss_elimination(A):\n",
    "    # YOUR CODE HERE\n",
    "    n = min(A.shape[0],A.shape[1])\n",
    "    for i in range(A.shape[0]):\n",
    "        for j in range(A.shape[1]):\n",
    "            if type(A[i][j]) != np.float64:\n",
    "                raise TypeError()\n",
    "    for j in range(A.shape[1]):\n",
    "        if find_max_column_value(A,min(A.shape[0],j),j)[0] > abs(A[j][j]):\n",
    "            A = swap_rows(A,j,find_max_column_value(A,j,j)[1])\n",
    "        if A[j][j] != 0:\n",
    "            for i in range(j+1,A.shape[0]):\n",
    "                A = add_row(A,i,j,(-1*(A[i][j]/A[j][j])))\n",
    "                \n",
    "    for x in range(A.shape[0]):\n",
    "        for j in range(A.shape[1]):\n",
    "            if abs(A[i][j]) < min(A.shape[0],A.shape[1])*np.finfo('float32').eps:\n",
    "                A[i][j] = 0\n",
    "    \n",
    "    return A        \n",
    "        \n",
    "    raise NotImplementedError()"
   ]
  },
  {
   "cell_type": "code",
   "execution_count": 17,
   "metadata": {
    "nbgrader": {
     "cell_type": "code",
     "checksum": "1ef6e8dcd5f9308ed252a1d98974fc13",
     "grade": false,
     "grade_id": "cell-1f0b8c95d7800f5f",
     "locked": false,
     "schema_version": 3,
     "solution": true,
     "task": false
    },
    "scrolled": true
   },
   "outputs": [],
   "source": [
    "def add_row(A,i,j,a):\n",
    "    if i < 0 or i >= A.shape[0]:\n",
    "        raise IndexError(f\"Index i={i} out of bounds!\")\n",
    "    if j < 0 or j >= A.shape[0]:\n",
    "        raise IndexError(f\"Index i={j} out of bounds!\")\n",
    "    B = A.copy()\n",
    "    B[i] = A[i] + a*A[j]\n",
    "    return B\n",
    "\n",
    "def Gauss_elimination(A):\n",
    "    # YOUR CODE HERE\n",
    "    for i in range(A.shape[0]):\n",
    "        for j in range(A.shape[1]):\n",
    "            if type(A[i][j]) != np.float64:\n",
    "                raise TypeError()\n",
    "    for j in range(min(A.shape[0],A.shape[1])):\n",
    "        if find_max_column_value(A,j,j)[0] > abs(A[j][j]):\n",
    "            A = swap_rows(A,j,find_max_column_value(A,j,j)[1])\n",
    "        if A[j][j] != 0:\n",
    "            for i in range(j+1,A.shape[0]):\n",
    "                A = add_row(A,i,j,(-1*(A[i][j]/A[j][j])))\n",
    "                \n",
    "    for x in range(A.shape[0]):\n",
    "        for j in range(A.shape[1]):\n",
    "            if abs(A[i][j]) < min(A.shape[0],A.shape[1])*np.finfo('float32').eps:\n",
    "                A[i][j] = 0\n",
    "    \n",
    "    return A        \n",
    "        \n",
    "    raise NotImplementedError()"
   ]
  },
  {
   "cell_type": "code",
   "execution_count": 18,
   "metadata": {
    "deletable": false,
    "editable": false,
    "nbgrader": {
     "cell_type": "code",
     "checksum": "65e87305194ac6a48d9dc5f1de745f04",
     "grade": true,
     "grade_id": "cell-d1e587104abc3ea4",
     "locked": true,
     "points": 5,
     "schema_version": 3,
     "solution": false,
     "task": false
    }
   },
   "outputs": [],
   "source": [
    "# Check that it works for a small example\n",
    "# Marks: 5\n",
    "from nose.tools import assert_almost_equal\n",
    "import numpy as np\n",
    "# Check that Echeblon form is correct\n",
    "A = np.array([[1,2],[3,4]],dtype='float64')\n",
    "A1 = np.array([[3. , 4. ], [0. , 2.0/3.0]])\n",
    "eps = 2**2*np.finfo(A.dtype).eps\n",
    "# Check that the Gauss elimination is calculated correctly to decent precision.\n",
    "assert_equal( (abs(Gauss_elimination(A)-A1) < eps).all(),True)\n"
   ]
  },
  {
   "cell_type": "code",
   "execution_count": 19,
   "metadata": {
    "deletable": false,
    "editable": false,
    "nbgrader": {
     "cell_type": "code",
     "checksum": "5286a7d880b6e54965930bf70c3e0782",
     "grade": true,
     "grade_id": "cell-af5e5e8bc57d1ed0",
     "locked": true,
     "points": 5,
     "schema_version": 3,
     "solution": false,
     "task": false
    }
   },
   "outputs": [],
   "source": [
    "# Check that it works if one column becomes 0\n",
    "# Marks: 5\n",
    "from nose.tools import assert_equal\n",
    "import numpy as np\n",
    "eps = 2**2*np.finfo(A.dtype).eps\n",
    "# Check that Echeblon form is correct\n",
    "A = np.array([[1,2],[2,4]],dtype='float64')\n",
    "A1 = np.array([[2., 4.], [0., 0.]])\n",
    "assert_equal( (abs(Gauss_elimination(A)-A1) < eps).all(),True)\n",
    "\n"
   ]
  },
  {
   "cell_type": "code",
   "execution_count": 20,
   "metadata": {
    "deletable": false,
    "editable": false,
    "nbgrader": {
     "cell_type": "code",
     "checksum": "e0b76a84d1a1f24ecc3d5c8ea27ab8a2",
     "grade": true,
     "grade_id": "cell-9d381a3116f0167e",
     "locked": true,
     "points": 5,
     "schema_version": 3,
     "solution": false,
     "task": false
    }
   },
   "outputs": [],
   "source": [
    "# Check that the function return a type error if called with an array of different type\n",
    "# Marks: 5\n",
    "from nose.tools import assert_raises\n",
    "import numpy as np\n",
    "eps = 2**2*np.finfo(A.dtype).eps\n",
    "# Check that Echeblon form is correct\n",
    "A = np.array([[1,2],[2,4]],dtype='int')\n",
    "assert_raises(TypeError,Gauss_elimination,A)\n"
   ]
  },
  {
   "cell_type": "code",
   "execution_count": 21,
   "metadata": {
    "deletable": false,
    "editable": false,
    "nbgrader": {
     "cell_type": "code",
     "checksum": "4e537dcb2a74b540814191b93dd592d0",
     "grade": true,
     "grade_id": "cell-37ec76cd9d9f0669",
     "locked": true,
     "points": 5,
     "schema_version": 3,
     "solution": false,
     "task": false
    },
    "scrolled": true
   },
   "outputs": [],
   "source": [
    "# check that it works for a larger matrix\n",
    "# Marks: 5\n",
    "from nose.tools import assert_almost_equal\n",
    "import numpy as np\n",
    "# A larger test matrix A \n",
    "A = np.array([[ 9.,  6.,  7.,  8.,  1.,  7.,  2.],\n",
    "       [ 8.,  2.,  6.,  5.,  1.,  5.,  3.],\n",
    "       [ 7.,  3.,  1.,  4.,  5., 10.,  1.],\n",
    "       [10.,  5.,  7.,  5.,  4.,  6.,  2.],\n",
    "       [ 5.,  5.,  2.,  6.,  4.,  2.,  7.]])\n",
    "# It's Echelon reduced form\n",
    "A1 = np.array([[10.0, 5.0, 7.0, 5.0, 4.0, 6.0, 2.0], \n",
    "               [0.0, 2.5, -1.5, 3.5, 2.0, -1.0, 6.0], \n",
    "               [0.0, 0.0, -4.2, 1.2, 2.6, 5.6, 0.8], \n",
    "               [0.0, 0.0, 0.0, 3.5714285714285716, -1.0952380952380956, -1.6666666666666679, 6.047619047619048], \n",
    "               [0.0, 0.0, 0.0, 0.0, -2.24, 5.199999999999999, -6.239999999999999]])\n",
    "eps = 2**7*np.finfo(A.dtype).eps\n",
    "assert_equal( (abs(Gauss_elimination(A)-A1) < eps).all(),True)"
   ]
  },
  {
   "cell_type": "code",
   "execution_count": 22,
   "metadata": {
    "deletable": false,
    "editable": false,
    "nbgrader": {
     "cell_type": "code",
     "checksum": "714b79621fd6b8aa5f6c3a3092f64ffe",
     "grade": true,
     "grade_id": "cell-1ba2e18248f7bd8d",
     "locked": true,
     "points": 5,
     "schema_version": 3,
     "solution": false,
     "task": false
    }
   },
   "outputs": [],
   "source": [
    "# Check that it works for another matrix\n",
    "# Marks: 5\n",
    "from nose.tools import assert_almost_equal\n",
    "import numpy as np\n"
   ]
  },
  {
   "cell_type": "code",
   "execution_count": 23,
   "metadata": {
    "deletable": false,
    "editable": false,
    "nbgrader": {
     "cell_type": "code",
     "checksum": "00c33d034cdc2fb0e9b3cdfcded24d43",
     "grade": true,
     "grade_id": "cell-89c6d18565f2e5db",
     "locked": true,
     "points": 5,
     "schema_version": 3,
     "solution": false,
     "task": false
    }
   },
   "outputs": [],
   "source": [
    "# check that it works for a column vector\n",
    "# Marks: 5\n",
    "from nose.tools import assert_almost_equal\n",
    "import numpy as np\n"
   ]
  }
 ],
 "metadata": {
  "kernelspec": {
   "display_name": "Python 3",
   "language": "python",
   "name": "python3"
  },
  "language_info": {
   "codemirror_mode": {
    "name": "ipython",
    "version": 3
   },
   "file_extension": ".py",
   "mimetype": "text/x-python",
   "name": "python",
   "nbconvert_exporter": "python",
   "pygments_lexer": "ipython3",
   "version": "3.8.8"
  }
 },
 "nbformat": 4,
 "nbformat_minor": 4
}
