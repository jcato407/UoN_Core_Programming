{
 "cells": [
  {
   "cell_type": "markdown",
   "metadata": {
    "deletable": false,
    "editable": false,
    "nbgrader": {
     "cell_type": "markdown",
     "checksum": "d7657f238f1828673c7d016c2151fba2",
     "grade": false,
     "grade_id": "cell-72b6a82dfb6e9c7d",
     "locked": true,
     "schema_version": 3,
     "solution": false,
     "task": false
    }
   },
   "source": [
    "# Coursework 2 - ACF  #\n",
    "\n",
    "This question is associated with the core module Analytical and Computational foundations (ACF).\n",
    "\n",
    "### Marks \n",
    "- There are 3 subquestions, each is worth 30 marks.\n",
    "- The number of marks asssociated with test-cell is indicated in a comment at the top of that cell.\n",
    "- The number of marks associated to a manually marked taks. (like drawing a graph) is indicated in the text immediately above this cell. \n",
    "\n",
    "#### How to Answer\n",
    "Write your code in the \"answer\" cell where it says \"# YOUR CODE HERE\"\n",
    "and remove both the line \"# YOUR CODE HERE\" and the line \"raise NotImplementedError()\"\n",
    "\n",
    "**Important**: Do not change the name or remove the existing function and write all your code \"inside\" the existing function, i.e. with at least one-tab's indentation.\n",
    "\n",
    "\n",
    "When you have written your code you should evaluate the cell and then evaluate the \"Test\" cells following it. If you don't see any errors then your code is (hopefully) correct and you can go on to the next question. \n",
    "\n",
    "If you see some errors then you have to go back and edit your code and try to fix the \"bug\". \n",
    "\n",
    "\n",
    "## Introduction\n",
    "The Secant Method can be used to find a root, $x_{∗}$, of a function $f(x)$ so that $f(x_{∗}) = 0$. This method is an adaptation of Newton’s method, where the derivative is estimated using the approximation:\n",
    "\n",
    "$$\n",
    "f′(x_k) \\simeq \\frac{f(x_k) − f(x_{k−1})}{x_k − x_{k−1}}.\n",
    "$$\n",
    "\n",
    "In the Secant Method a sequence of successive estimates for $x_{∗}$, labelled $\\{x_k\\}_{k\\ge1}$, are calculated using the formula\n",
    "\n",
    "$$\n",
    "x_{k+1} =x_{k} − \\frac{x_k −x_{k−1}}{f(x_k) - f(x_{k-1})}f(x_k).\n",
    "$$\n",
    "\n",
    "Geometrically $x_{k+1}$ is obtained from $x_k$ and $x_{k−1}$ by intersecting the straight line through $\\big( x_k, f(x_k)\\big)$ and $\\big( x_{k+1}, f(x_{k+1}) \\big)$ with the $x$-axis. Since each calculation of the new estimate, $x_{k+1}$, requires the values of the previous two estimates, $x_k$ and $x_{k−1}$, we must specify $x_0$ and $x_1$ initially, choosing values that are close to the root we seek. Ideally, we should choose $x_0$ and $x_1$ in a similar way to the initial endpoints of an interval for the bisection method, such that $f(x) = 0$ precisely once in the interval $(x_0,x_1)$, though this is not necessary for the secant method to work. \n"
   ]
  },
  {
   "cell_type": "markdown",
   "metadata": {
    "deletable": false,
    "editable": false,
    "nbgrader": {
     "cell_type": "markdown",
     "checksum": "2b30bbc5f046edeacafe514533c8b17e",
     "grade": false,
     "grade_id": "cell-588a6ede133b95a9",
     "locked": true,
     "schema_version": 3,
     "solution": false,
     "task": false
    }
   },
   "source": [
    "**(a) [30 Marks]**\n",
    "\n",
    "Write a function, 'secant_method', which takes as input a function $f$, two real numbers $x_0$ and $x_1$, a positive real number $tol$ and a positive integer $k_{max}$. This function should implement the Secant Method to find a root of a function $f$ using the two starting points $x_0$ and $x_1$. Successive estimates should be calculated until the relative error $e_k$ is less than $tol$ or $k>k_{max}$. \n",
    "Recall that \n",
    "$$\n",
    "e_k = \\left| \\frac{x_k - x_{k-1}}{x_k} \\right|.\n",
    "$$\n",
    "- If no root is found an *ArithmeticError* should be raised.\n",
    "- If $tol\\le0$ then a *ValueError* sould be raised.\n",
    "- If $k_{max}\\le 0$ then a *ValueError* should be raised.\n",
    "- If $x_0 == x_1$ then a *ValueError* should be raised. \n",
    "- Otherwise the function should return a tuple $(x_N,e_N,N)$ consisting of the final approximation, $x_{N}$, the estimated relative error, $e_N$ and the index of the approximation, $N$.\n"
   ]
  },
  {
   "cell_type": "code",
   "execution_count": 9,
   "metadata": {
    "deletable": false,
    "nbgrader": {
     "cell_type": "code",
     "checksum": "bb1ff5c19782b33dc7dc10690d51bee2",
     "grade": false,
     "grade_id": "cell-edaca2f2e848c806",
     "locked": false,
     "schema_version": 3,
     "solution": true,
     "task": false
    }
   },
   "outputs": [],
   "source": [
    "def secant_method(f,x0,x1,tol,kmax):\n",
    "    # YOUR CODE HERE\n",
    "    k = 1\n",
    "    # ERRORS AND TESTS\n",
    "    def Errors(x0,x1,tol,kmax,k):\n",
    "        if tol <= 0:\n",
    "            raise ValueError()\n",
    "        if kmax <= 0:\n",
    "            raise ValueError()\n",
    "        if x0 == x1:\n",
    "            raise ValueError()\n",
    "        if k > kmax:\n",
    "            raise ArithmeticError()\n",
    "    \n",
    "    \n",
    "    def Root_Found(x1,x0,tol):\n",
    "        ek = abs((x1-x0)/x1)\n",
    "        if ek < tol:\n",
    "            return True\n",
    "        else:\n",
    "            return False\n",
    "        \n",
    "    while 1 == 1:\n",
    "        \n",
    "        Errors(x0,x1,tol,kmax,k)\n",
    "        if Root_Found(x1,x0,tol) == True:\n",
    "            return (x1,abs((x1-x0)/x1),k)\n",
    "        \n",
    "        newx = x1 - ((x1-x0)/(f(x1)-f(x0)))*f(x1)\n",
    "        \n",
    "        x0 = x1\n",
    "        x1 = newx\n",
    "        k+=1\n",
    "        \n",
    "    raise NotImplementedError()"
   ]
  },
  {
   "cell_type": "code",
   "execution_count": 10,
   "metadata": {
    "deletable": false,
    "editable": false,
    "nbgrader": {
     "cell_type": "code",
     "checksum": "dc8425499129e8fc62f4509ea9ca9c77",
     "grade": true,
     "grade_id": "cell-5906707d5d3922e5",
     "locked": true,
     "points": 5,
     "schema_version": 3,
     "solution": false,
     "task": false
    }
   },
   "outputs": [],
   "source": [
    "# Test that the algorithm return a tuple of length 3\n",
    "# Marks: 5\n",
    "from nose.tools import assert_equal\n",
    "import numpy as np\n",
    "assert_equal(type(secant_method(np.sin,3,4,1e-12,100)),tuple)\n",
    "assert_equal(len(secant_method(np.sin,3,4,1e-12,100)),3)"
   ]
  },
  {
   "cell_type": "code",
   "execution_count": 11,
   "metadata": {
    "deletable": false,
    "editable": false,
    "nbgrader": {
     "cell_type": "code",
     "checksum": "c2c1488f684a31deb1f7f101c3872365",
     "grade": true,
     "grade_id": "cell-53cd92c94450f6eb",
     "locked": true,
     "points": 5,
     "schema_version": 3,
     "solution": false,
     "task": false
    }
   },
   "outputs": [],
   "source": [
    "# Tests that the algorithm find the zero at pi of sin(x)\n",
    "# Marks: 5\n",
    "from nose.tools import assert_almost_equal\n",
    "import numpy as np\n",
    "assert_almost_equal(secant_method(np.sin,3,4,1e-12,100)[0],np.pi,delta=1e-10)\n"
   ]
  },
  {
   "cell_type": "code",
   "execution_count": 12,
   "metadata": {
    "deletable": false,
    "editable": false,
    "nbgrader": {
     "cell_type": "code",
     "checksum": "97554ce57addb5b17a5b758ee56713bc",
     "grade": true,
     "grade_id": "cell-73a4f9e2fe1b463b",
     "locked": true,
     "points": 5,
     "schema_version": 3,
     "solution": false,
     "task": false
    }
   },
   "outputs": [],
   "source": [
    "# Tests that the algorithm raises ArithmeticError if no zero is found\n",
    "# Marks: 5\n",
    "from nose.tools import assert_raises\n",
    "import numpy as np\n",
    "# Test that exp has no zero\n",
    "assert_raises(ArithmeticError,secant_method,np.exp,3,4,1e-12,100)"
   ]
  },
  {
   "cell_type": "code",
   "execution_count": 13,
   "metadata": {
    "deletable": false,
    "editable": false,
    "nbgrader": {
     "cell_type": "code",
     "checksum": "76761c88a54caa4a95ef96aa0e142973",
     "grade": true,
     "grade_id": "cell-d07a10227b472236",
     "locked": true,
     "points": 5,
     "schema_version": 3,
     "solution": false,
     "task": false
    }
   },
   "outputs": [],
   "source": [
    "# Tests that the algorithm raises ValueError if tol is 0\n",
    "# Marks: 5\n",
    "from nose.tools import assert_raises\n",
    "import math\n",
    "import numpy as np\n",
    "assert_raises(ValueError,secant_method,np.sin,3,4,0.0,100)"
   ]
  },
  {
   "cell_type": "code",
   "execution_count": 14,
   "metadata": {
    "deletable": false,
    "editable": false,
    "nbgrader": {
     "cell_type": "code",
     "checksum": "8ef50e042d0aaa3d3d206c24d1f6f6f7",
     "grade": true,
     "grade_id": "cell-b74c974dab118738",
     "locked": true,
     "points": 5,
     "schema_version": 3,
     "solution": false,
     "task": false
    }
   },
   "outputs": [],
   "source": [
    "# Tests that the algorithm raises ValueError if x0=x1\n",
    "# Marks: 5\n",
    "from nose.tools import assert_raises\n",
    "import math\n",
    "import numpy as np\n",
    "assert_raises(ValueError,secant_method,np.sin,3,3,1e-10,-100)"
   ]
  },
  {
   "cell_type": "code",
   "execution_count": 15,
   "metadata": {
    "deletable": false,
    "editable": false,
    "nbgrader": {
     "cell_type": "code",
     "checksum": "301e6ed4d7ae1781c7f2d0ace182a94d",
     "grade": true,
     "grade_id": "cell-240dfd331616b1a5",
     "locked": true,
     "points": 5,
     "schema_version": 3,
     "solution": false,
     "task": false
    }
   },
   "outputs": [],
   "source": [
    "# Tests that the algorithm can find roots of another function\n",
    "# Marks: 5"
   ]
  },
  {
   "cell_type": "markdown",
   "metadata": {
    "deletable": false,
    "editable": false,
    "nbgrader": {
     "cell_type": "markdown",
     "checksum": "f0f215cfb2d9b24402c382f70631e12a",
     "grade": false,
     "grade_id": "cell-97311844701ec87a",
     "locked": true,
     "schema_version": 3,
     "solution": false,
     "task": false
    }
   },
   "source": [
    "**b) [30 Marks]**\n",
    "\n",
    "Modify the function in (a) so that it takes the same input, i.e. instead returns a list of approximations: \n",
    "\n",
    "Write a function, 'secant_method_list', which takes as input a function $f$, two real numbers $x_0$ and $x_1$, a positive real number $tol$ and a positive integer $k_{max}$. This function should implement the Secant Method to find a list of approximations to the root of a function $f$ using the two starting points $x_0$ and $x_1$. Successive estimates should be calculated until the relative error $e_k$ is less than $tol$ or $k>k_{max}$. \n",
    "Recall that \n",
    "$$\n",
    "e_k = \\left| \\frac{x_k - x_{k-1}}{x_k} \\right|.\n",
    "$$\n",
    "Input and exception handling should be as in (a), i.e.\n",
    "- If no root is found an *ArithmeticError* should be raised.\n",
    "- If $tol\\le0$ then a *ValueError* sould be raised.\n",
    "- If $k_{max}\\le 0$ then a *ValueError* should be raised.\n",
    "- If $x_0 == x_1$ then a *ValueError* should be raised. \n",
    "- Otherwise the function should return a list of tuples of the form \n",
    "\n",
    "$$[ (x_0,f(x_0)), (x_1,f(x_1)), ... , (x_N,f(x_N))].$$\n",
    "\n",
    "where the final tuple is the last approximation and satisfies \n",
    "$$\\left| \\frac{x_N - x_{N-1}}{x_N} \\right| < e.$$\n"
   ]
  },
  {
   "cell_type": "code",
   "execution_count": 26,
   "metadata": {
    "deletable": false,
    "nbgrader": {
     "cell_type": "code",
     "checksum": "d3fe7ccb6708c2dc68e7d722c6ff7c87",
     "grade": false,
     "grade_id": "cell-172e2b11a3c0a668",
     "locked": false,
     "schema_version": 3,
     "solution": true,
     "task": false
    }
   },
   "outputs": [],
   "source": [
    "def secant_method_list(f,x0,x1,tol,kmax):\n",
    "    # YOUR CODE HERE\n",
    "    k = 1\n",
    "    l = [(x0,f(x0)),(x1,f(x1))]\n",
    "    # ERRORS AND TESTS\n",
    "    def Errors(x0,x1,tol,kmax,k):\n",
    "        if tol <= 0:\n",
    "            raise ValueError()\n",
    "        if kmax <= 0:\n",
    "            raise ValueError()\n",
    "        if x0 == x1:\n",
    "            raise ValueError()\n",
    "        if k > kmax:\n",
    "            raise ArithmeticError()\n",
    "    \n",
    "    \n",
    "    def Root_Found(xN,xN1,tol):\n",
    "        ek = abs((xN-xN1)/xN)\n",
    "        if ek < tol:\n",
    "            return True\n",
    "        else:\n",
    "            return False\n",
    "        \n",
    "    while 1 == 1:\n",
    "        \n",
    "        Errors(l[k-1][0],l[k][0],tol,kmax,k)\n",
    "        if Root_Found(l[k][0],l[k-1][0],tol) == True:\n",
    "            return l\n",
    "        \n",
    "        newx = l[k][0] - ((l[k][0] - l[k-1][0])/(l[k][1] - l[k-1][1]))*l[k][1]\n",
    "        l.append((newx,f(newx)))        \n",
    "        k+=1\n",
    "        \n",
    "    raise NotImplementedError()"
   ]
  },
  {
   "cell_type": "code",
   "execution_count": 27,
   "metadata": {
    "deletable": false,
    "editable": false,
    "nbgrader": {
     "cell_type": "code",
     "checksum": "ff15e309856bd13356382ff688b27830",
     "grade": true,
     "grade_id": "cell-9df01dc170b561b9",
     "locked": true,
     "points": 5,
     "schema_version": 3,
     "solution": false,
     "task": false
    }
   },
   "outputs": [],
   "source": [
    "# Tests that the algorithm returns a list of tuples and that the last element is an approximation of a zero.\n",
    "# Marks: 5\n",
    "from nose.tools import assert_equal\n",
    "import numpy as np\n",
    "# Check that the return value has type list \n",
    "assert_equal(type(secant_method_list(np.sin,3,4,1e-12,100)),list)\n",
    "# Check that return value is a list of tuples of length 2 \n",
    "assert_equal(type(secant_method_list(np.sin,3,4,1e-12,100)[0]),tuple)\n",
    "# Check that the tuple has length 2\n",
    "assert_equal(len(secant_method_list(np.sin,3,4,1e-12,100)[0]),2)\n"
   ]
  },
  {
   "cell_type": "code",
   "execution_count": 28,
   "metadata": {
    "deletable": false,
    "editable": false,
    "nbgrader": {
     "cell_type": "code",
     "checksum": "3cb08eae191c60a335e03364589d5e3b",
     "grade": true,
     "grade_id": "cell-ba4410772ee182ac",
     "locked": true,
     "points": 5,
     "schema_version": 3,
     "solution": false,
     "task": false
    }
   },
   "outputs": [],
   "source": [
    "# Tests that the first element in the returned list is the starting x0\n",
    "# Marks: 5\n",
    "from nose.tools import assert_equal\n",
    "import numpy as np\n",
    "assert_equal(secant_method_list(np.sin,3,4,1e-12,100)[0][0],3)"
   ]
  },
  {
   "cell_type": "code",
   "execution_count": 29,
   "metadata": {
    "deletable": false,
    "editable": false,
    "nbgrader": {
     "cell_type": "code",
     "checksum": "8892c2340f6fdfa9d81a91d4546c9191",
     "grade": true,
     "grade_id": "cell-1f4db4594eaa7d34",
     "locked": true,
     "points": 5,
     "schema_version": 3,
     "solution": false,
     "task": false
    }
   },
   "outputs": [],
   "source": [
    "# Tests that the next-to last approximation is close but not too close \n",
    "# Marks: 5\n",
    "from nose.tools import assert_almost_equal\n",
    "import numpy as np\n",
    "assert_almost_equal(secant_method_list(np.sin,3,4,1e-12,100)[-2][0],np.pi,delta=1e-10)\n",
    "\n"
   ]
  },
  {
   "cell_type": "code",
   "execution_count": 30,
   "metadata": {
    "deletable": false,
    "editable": false,
    "nbgrader": {
     "cell_type": "code",
     "checksum": "41ab6ac736ac943d141f1e0b64be57b9",
     "grade": true,
     "grade_id": "cell-a2b7df8edc058837",
     "locked": true,
     "points": 5,
     "schema_version": 3,
     "solution": false,
     "task": false
    }
   },
   "outputs": [],
   "source": [
    "# Tests that the last approximation is closer but not too close \n",
    "# Marks: 5\n",
    "from nose.tools import assert_almost_equal\n",
    "import numpy as np\n",
    "assert_almost_equal(secant_method_list(np.sin,3,4,1e-12,100)[-2][0],np.pi,delta=1e-12)"
   ]
  },
  {
   "cell_type": "code",
   "execution_count": 31,
   "metadata": {
    "deletable": false,
    "editable": false,
    "nbgrader": {
     "cell_type": "code",
     "checksum": "b226a3fb69017ba5553e39cd4535a59f",
     "grade": true,
     "grade_id": "cell-a7e00b657ee90e5e",
     "locked": true,
     "points": 5,
     "schema_version": 3,
     "solution": false,
     "task": false
    }
   },
   "outputs": [],
   "source": [
    "# Tests that the algorithm can find roots of another function\n",
    "# Marks: 5"
   ]
  },
  {
   "cell_type": "code",
   "execution_count": 32,
   "metadata": {
    "deletable": false,
    "editable": false,
    "nbgrader": {
     "cell_type": "code",
     "checksum": "d8514aa8a5f092322b11c5555aa120ed",
     "grade": true,
     "grade_id": "cell-93d9243effd7c08f",
     "locked": true,
     "points": 5,
     "schema_version": 3,
     "solution": false,
     "task": false
    }
   },
   "outputs": [],
   "source": [
    "# Tests that the algorithm can find roots of another function\n",
    "# Marks: 5"
   ]
  },
  {
   "cell_type": "markdown",
   "metadata": {
    "deletable": false,
    "editable": false,
    "nbgrader": {
     "cell_type": "markdown",
     "checksum": "ebc1c31e530e567c86809656445e6b9f",
     "grade": false,
     "grade_id": "cell-d33c0d3f68f045fe",
     "locked": true,
     "schema_version": 3,
     "solution": false,
     "task": false
    }
   },
   "source": [
    "**c) [30 Marks]**\n",
    "\n",
    "Consider the rational function\n",
    "$$\n",
    "f(x) = \\frac{x^3-x^2+2x+1}{3x^2+2}\n",
    "$$\n",
    "\n",
    "Use the function from b) with initial approximations $x_0=-2$ and $x_1=1$ to compute a list of approximations, $x_0,x_1,\\ldots,x_N$ to the unique real zero of $f$ (which lies between $x_0$ and $x_1$). \n",
    "\n",
    "Illustrate the Secant Method by plotting \n",
    "\n",
    "- a) The curve of $f$.\n",
    "- b) The $x$-axis.\n",
    "- c) The five points $z_i=(x_i,f(x_i))$ for $0\\le i\\le 4$ on the curve,\n",
    "- d) The four straight lines (secants) between $z_0$ and $z_1$, $z_1$ and $z_2$, $z_2$ and $z_3$, and $z_3$ and $z_4$.\n",
    "\n",
    "The plot should have the following properties:\n",
    "- size (20,10),\n",
    "- be limited in both $x$ and $y$-directions in such a way that the relevant parts of the graphs and intersections are clearly visible. \n",
    "- have title \"Secant Method\"\n",
    "- have x-label \"x\"\n",
    "- have y-label \"y\"\n",
    "\n",
    "Insert the plotting code in the cell below and execute the plot. \n",
    "\n",
    "*Note:* \n",
    "- The convergence for these particular starting values is slow in the beginning so the first few points will not clearly illustrate the actual convergence. \n",
    "- If you couldn't complete the function `secant_method_list` in part (a) you can use the list of $x_k$ values below: \n",
    "\n",
    "```\n",
    "xk_list = [(-2, -0.8823529411764706), (1, 0.6), (-0.2142857142857142, 0.43565270935960626), (-3.43312101910829, -1.2071053485428982), (-1.067907655010679, -0.6282446220268515), (1.4990873195554006, 0.5125366680719312), (0.34577330341514423, 1.0913866439007789), (2.5202771748832404, 0.5944232424737134), (5.121224525005979, 1.126731007706626), (-0.38417708699829944, 0.017198731189609955), (-0.4695156791417744, -0.13974998009946765), (-0.3935286483734805, -0.0017696204621476153), (-0.39255410239564087, 0.00018620814380429187), (-0.3926468857801528, -2.0908434934148662e-07), (-0.3926467817149128, -2.465352397328274e-11), (-0.39264678170264083, 0.0)]\n",
    "```\n"
   ]
  },
  {
   "cell_type": "code",
   "execution_count": 33,
   "metadata": {
    "deletable": false,
    "nbgrader": {
     "cell_type": "code",
     "checksum": "5dc0afebd0edfe92f0b2d9a7433b6843",
     "grade": true,
     "grade_id": "cell-47ac4b00eade6e71",
     "locked": false,
     "points": 30,
     "schema_version": 3,
     "solution": true,
     "task": false
    },
    "scrolled": true
   },
   "outputs": [
    {
     "name": "stdout",
     "output_type": "stream",
     "text": [
      "[-2, 1, -0.2142857142857142, -3.43312101910829, -1.067907655010679]\n",
      "[-0.8823529411764706, 0.6, 0.43565270935960626, -1.2071053485428982, -0.6282446220268515]\n"
     ]
    },
    {
     "data": {
      "image/png": "[encoded data removed]",
      "text/plain": [
       "<Figure size 1440x720 with 1 Axes>"
      ]
     },
     "metadata": {
      "needs_background": "light"
     },
     "output_type": "display_data"
    }
   ],
   "source": [
    "# YOUR CODE HERE\n",
    "\n",
    "import numpy as np\n",
    "import matplotlib.pyplot as plt\n",
    "\n",
    "def f(x):\n",
    "    return ((x**3) - (x**2) + (2*x) + 1)/(3*(x**2) + 2)\n",
    "\n",
    "fig = plt.figure(figsize=(20,10))\n",
    "ax = fig.add_subplot(111)\n",
    "x = np.linspace(-3,3,1000)\n",
    "fx = ax.plot(x,f(x),\"red\")\n",
    "x_axis = ax.plot(x,np.zeros(1000),'k')\n",
    "\n",
    "z = [(-2, -0.8823529411764706), (1, 0.6), (-0.2142857142857142, 0.43565270935960626), (-3.43312101910829, -1.2071053485428982), (-1.067907655010679, -0.6282446220268515), (1.4990873195554006, 0.5125366680719312), (0.34577330341514423, 1.0913866439007789), (2.5202771748832404, 0.5944232424737134), (5.121224525005979, 1.126731007706626), (-0.38417708699829944, 0.017198731189609955), (-0.4695156791417744, -0.13974998009946765), (-0.3935286483734805, -0.0017696204621476153), (-0.39255410239564087, 0.00018620814380429187), (-0.3926468857801528, -2.0908434934148662e-07), (-0.3926467817149128, -2.465352397328274e-11), (-0.39264678170264083, 0.0)]\n",
    "zx = []\n",
    "zy = []\n",
    "for n in range(5):\n",
    "    zx.append(z[n][0])\n",
    "    zy.append(z[n][1])\n",
    "    \n",
    "print(zx)\n",
    "print(zy)\n",
    "\n",
    "z_scatter = ax.scatter(zx,zy)\n",
    "z_lines = ax.plot(zx,zy,\"blue\")\n",
    "\n",
    "\n",
    "ax.set_xlim(-5,5)\n",
    "ax.set_ylim(-2,2)\n",
    "\n",
    "ax.title.set_text(\"Secant Method\")\n",
    "ax.set_xlabel(r'$x$')\n",
    "ax.set_ylabel(r'$y$')\n",
    "\n",
    "\n",
    "plt.savefig(\"graph.png\")"
   ]
  },
  {
   "cell_type": "code",
   "execution_count": 39,
   "metadata": {
    "nbgrader": {
     "cell_type": "code",
     "checksum": "5dc0afebd0edfe92f0b2d9a7433b6843",
     "grade": true,
     "grade_id": "cell-47ac4b00eade6e71",
     "locked": false,
     "points": 30,
     "schema_version": 3,
     "solution": true,
     "task": false
    }
   },
   "outputs": [
    {
     "name": "stdout",
     "output_type": "stream",
     "text": [
      "[-2.0, 1.0, -0.0769230769230771, -2.51546391752577, -0.6852266302792829]\n",
      "[-1.0714285714285714, 0.6, 0.416196706519287, -1.2522345577270175, -0.34082168537590435]\n"
     ]
    },
    {
     "data": {
      "image/png": "[encoded data removed]",
      "text/plain": [
       "<Figure size 1440x720 with 1 Axes>"
      ]
     },
     "metadata": {
      "needs_background": "light"
     },
     "output_type": "display_data"
    }
   ],
   "source": [
    "# YOUR CODE HERE\n",
    "\n",
    "import numpy as np\n",
    "import matplotlib.pyplot as plt\n",
    "\n",
    "def f(x):\n",
    "    return (x**3 - x**2 + 2*x + 1)/(3*(x**2) + 2)\n",
    "\n",
    "fig = plt.figure(figsize=(20,10))\n",
    "ax = fig.add_subplot(111)\n",
    "x = np.linspace(-3,3,1000)\n",
    "fx = ax.plot(x,f(x),\"red\")\n",
    "x_axis = ax.plot(x,np.zeros(1000),'k')\n",
    "\n",
    "z = np.array(secant_method_list(f, -2 , 1 , 1e-12, 100))\n",
    "zx = []\n",
    "zy = []\n",
    "for n in range(5):\n",
    "    zx.append(z[n][0])\n",
    "    zy.append(z[n][1])\n",
    "    \n",
    "print(zx)\n",
    "print(zy)\n",
    "\n",
    "z_scatter = ax.scatter(np.array(zx),np.array(zy))\n",
    "z_lines = ax.plot(np.array(zx),np.array(zy),\"blue\")\n",
    "\n",
    "\n",
    "ax.set_xlim(-3,2)\n",
    "ax.set_ylim(-1.5,1.5)\n",
    "\n",
    "ax.title.set_text(\"Secant Method\")\n",
    "ax.set_xlabel(r'$x$')\n",
    "ax.set_ylabel(r'$y$')\n",
    "\n",
    "\n",
    "plt.savefig(\"graph.png\")"
   ]
  },
  {
   "cell_type": "code",
   "execution_count": 35,
   "metadata": {},
   "outputs": [
    {
     "data": {
      "text/plain": [
       "array([[-2.00000000e+00, -1.07142857e+00],\n",
       "       [ 1.00000000e+00,  6.00000000e-01],\n",
       "       [-7.69230769e-02,  4.16196707e-01],\n",
       "       [-2.51546392e+00, -1.25223456e+00],\n",
       "       [-6.85226630e-01, -3.40821685e-01],\n",
       "       [-8.11722612e-04,  4.99187454e-01],\n",
       "       [-4.07535078e-01, -1.95498065e-02],\n",
       "       [-3.92206773e-01,  5.80400504e-04],\n",
       "       [-3.92648723e-01, -2.56063575e-06],\n",
       "       [-3.92646782e-01, -3.22005794e-10],\n",
       "       [-3.92646782e-01,  1.80339735e-16],\n",
       "       [-3.92646782e-01,  4.50849338e-17]])"
      ]
     },
     "execution_count": 35,
     "metadata": {},
     "output_type": "execute_result"
    }
   ],
   "source": [
    "np.array(secant_method_list(f, -2 , 1 , 1e-12, 100))"
   ]
  }
 ],
 "metadata": {
  "kernelspec": {
   "display_name": "Python 3",
   "language": "python",
   "name": "python3"
  },
  "language_info": {
   "codemirror_mode": {
    "name": "ipython",
    "version": 3
   },
   "file_extension": ".py",
   "mimetype": "text/x-python",
   "name": "python",
   "nbconvert_exporter": "python",
   "pygments_lexer": "ipython3",
   "version": "3.8.8"
  }
 },
 "nbformat": 4,
 "nbformat_minor": 4
}
