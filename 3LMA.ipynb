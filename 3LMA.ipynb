{
 "cells": [
  {
   "cell_type": "markdown",
   "metadata": {
    "deletable": false,
    "editable": false,
    "nbgrader": {
     "cell_type": "markdown",
     "checksum": "0cadfd087ce03705268a9d13a1014870",
     "grade": false,
     "grade_id": "cell-93e294c23a20ade8",
     "locked": true,
     "schema_version": 3,
     "solution": false,
     "task": false
    }
   },
   "source": [
    "# Coursework 3 - LMA (Assessed) #\n",
    "\n",
    "This coursework corresponds to Linear Mathematics (LMA)\n",
    "\n",
    "### Marks \n",
    "- There are 3 subquestions, each worth 30 marks. \n",
    "- The marks are divided amongst different tests in each sub question.\n",
    "- The number of marks asssociated with an automated test-cell is indicated in a comment at the top of that cell. \n",
    "\n",
    "#### How to Answer\n",
    "Write your code in the \"answer\" cell where it says \"# YOUR CODE HERE\"\n",
    "and remove both the line \"# YOUR CODE HERE\" and the line \"raise NotImplementedError()\"\n",
    "\n",
    "**Important**: Do not change the name or remove the existing function, and write all your code \"inside\" the existing function, i.e. with at least one-tab's indentation.\n",
    "\n",
    "When you have written your code you should evaluate the cell and then evaluate the \"Test\" cells following it. If you don't see any errors then your code is (hopefully) correct and you can go on to the next question. \n",
    "\n",
    "If you see some errors then you have to go back and edit your code and try to fix the \"bug\". \n",
    "\n",
    "For all questions you are allowed to use any imported modules that you like.\n",
    "\n",
    "All plots should be done 'inline', in other words, do not use \"popup\" windows. With the default settings you just need to call 'plt.show()' at the end. \n"
   ]
  },
  {
   "cell_type": "markdown",
   "metadata": {
    "deletable": false,
    "editable": false,
    "nbgrader": {
     "cell_type": "markdown",
     "checksum": "30848d6f111666aa8d6eecc36902c08f",
     "grade": false,
     "grade_id": "cell-54e92d7c3afea33c",
     "locked": true,
     "schema_version": 3,
     "solution": false,
     "task": false
    }
   },
   "source": [
    "## Introduction\n",
    "\n",
    "The Gram-Schmidt process is an algorithm which can be used to construct a set of vectors $\\{\\mathbf{w}_i\\}$ which are **orthonormal**, in other words they are pairwise orthogonal to each other and have lengths equal to 1. This condition can be  expressed in terms of the standard Euclidean scalar (or \"dot\") product as \n",
    "\n",
    "$$\n",
    "\\mathbf{w}_i \\cdot \\mathbf{w}_j = \n",
    "\\begin{cases}\n",
    "1 & \\text{if } i = j,\\\\\n",
    "0 & \\text{if } i\\ne j.\n",
    "\\end{cases}\n",
    "$$\n",
    "\n",
    "If the input to the Gram-Schmidt process is a set of $n$ linearly independent vectors $\\{ \\mathbf{v}_i \\mid i=1,\\ldots,n\\}$ in $\\mathbb{R}^{n}$, then the output will be a set of $n$ orthonormal vectors $\\{\\mathbf{w}_i \\mid i=1,\\ldots,n\\}$ in $\\mathbb{R}^{n}$.\n",
    "\n",
    "In general, if the input vectors are not all linearly independent, then the output will be a set of $n$ vectors containing an orthonormal basis for the linear span of the vectors $\\{ \\mathbf{v}_i\\}$ together with a number of zero-vectors.\n",
    "\n",
    "The method is summarised by the following instructions:\n",
    "1. Construct an orthogonal set of vectors $\\{\\mathbf{w}_i\\}$ using the formula: $\\mathbf{w}_1=\\mathbf{v}_1$ and \n",
    "\n",
    "$$\n",
    "\\mathbf{w}_i = \\mathbf{v}_i - \\sum_{j=1}^{i-1} \\frac{\\mathbf{v}_i\\cdot \\mathbf{w}_j}{\\| \\mathbf{w}_j\\|^2}\\mathbf{w}_j,\\quad i>1.\n",
    "$$\n",
    "\n",
    "2. If $\\mathbf{w}_i$ from the previous step is not the zero vector $\\mathbf{0}$, normalise it to have length 1 by setting \n",
    "\n",
    "$$\n",
    "\\mathbf{w}_i = \\frac{\\mathbf{w}_i}{\\|\\mathbf{w}_i \\|}.\n",
    "$$\n"
   ]
  },
  {
   "cell_type": "markdown",
   "metadata": {
    "deletable": false,
    "editable": false,
    "nbgrader": {
     "cell_type": "markdown",
     "checksum": "89f107dec352e24474b766fb70907893",
     "grade": false,
     "grade_id": "cell-3633436f317474ca",
     "locked": true,
     "schema_version": 3,
     "solution": false,
     "task": false
    }
   },
   "source": [
    "**(a) [45 marks]**\n",
    "Write a function `gram_schmidt_np` which takes as input a list of length $n$ containing $n$ NumPy arrays, $\\{\\mathbf{v}_i\\}$, each of length $n$ and then uses the Gram-Schmidt process to construct an orthonormal set of vectors $\\{\\mathbf{w}_i\\}$, which is then returned (in order).\n",
    "\n",
    "- Your function should check that the input V is list of arrays of the same length and raise a ValueError if not.\n",
    "- In the normalisation step you can check if $w_i$ has norm less than $1\\epsilon=1.19\\cdot 10^{-7}$ instead of checking if it is exactly 0 and in this case just replace it by the zero vector instead of normalising it. \n",
    "\n",
    "Note: The number $\\epsilon$ is sometimes called \"machine-epsilon\" and can be obtained in NumPy for single precision floating point numbers as `np.finfo('float32').eps`)\n",
    "\n"
   ]
  },
  {
   "cell_type": "code",
   "execution_count": null,
   "metadata": {
    "deletable": false,
    "nbgrader": {
     "cell_type": "code",
     "checksum": "ebed4d2cdfe6c75caa70ff22de191105",
     "grade": false,
     "grade_id": "cell-2c038394d0ebff43",
     "locked": false,
     "schema_version": 3,
     "solution": true,
     "task": false
    }
   },
   "outputs": [],
   "source": [
    "import numpy as np\n",
    "def gram_schmidt_np(V):\n",
    "    # YOUR CODE HERE\n",
    "    raise NotImplementedError()"
   ]
  },
  {
   "cell_type": "code",
   "execution_count": null,
   "metadata": {
    "deletable": false,
    "editable": false,
    "nbgrader": {
     "cell_type": "code",
     "checksum": "3793a6885df69345481fce2dcb945001",
     "grade": true,
     "grade_id": "cell-0eb1f34611a7be75",
     "locked": true,
     "points": 10,
     "schema_version": 3,
     "solution": false,
     "task": false
    }
   },
   "outputs": [],
   "source": [
    "# Marks: 6\n",
    "from nose.tools import assert_almost_equal\n",
    "import numpy as np\n",
    "# Check that it works for a specific matrix V of linearly independent vectors.\n",
    "V1 = [np.array([1,3]), np.array([2,4])]\n",
    "W1 = [np.array([ 0.31622777,  0.9486833 ]), np.array([ 0.9486833 , -0.31622777])]\n",
    "assert_almost_equal(np.linalg.norm(np.array(W1)-gram_schmidt_np(V1)),0,delta=1e-8)"
   ]
  },
  {
   "cell_type": "code",
   "execution_count": null,
   "metadata": {
    "deletable": false,
    "editable": false,
    "nbgrader": {
     "cell_type": "code",
     "checksum": "7704574f0983556ec028a43fd86a96b2",
     "grade": true,
     "grade_id": "cell-e7e4ba4c4a50dab2",
     "locked": true,
     "points": 10,
     "schema_version": 3,
     "solution": false,
     "task": false
    }
   },
   "outputs": [],
   "source": [
    "# Marks: 3\n",
    "from nose.tools import assert_almost_equal\n",
    "import numpy as np\n",
    "# Check that it works for a case when vectors are linearly dependent\n",
    "V2 = [np.array([1,2]),np.array([2,4])]\n",
    "W2 = [np.array([0.4472136 , 0.89442719]), np.array([0., 0.])]\n",
    "assert_almost_equal(np.linalg.norm(np.array(W2)-gram_schmidt_np(V2)),0,delta=1e-8)"
   ]
  },
  {
   "cell_type": "code",
   "execution_count": null,
   "metadata": {
    "deletable": false,
    "editable": false,
    "nbgrader": {
     "cell_type": "code",
     "checksum": "91ef335a7dc65daa7f2f922ab178586a",
     "grade": true,
     "grade_id": "cell-7304f69f36376e3e",
     "locked": true,
     "points": 10,
     "schema_version": 3,
     "solution": false,
     "task": false
    }
   },
   "outputs": [],
   "source": [
    " Marks: 3\n",
    "from nose.tools import assert_almost_equal\n",
    "import numpy as np\n",
    "V3 = [np.array([1,4,7]),np.array([2,5,8]),np.array([3,6,10])]\n",
    "W3 = [np.array([0.12309149, 0.49236596, 0.86164044]), np.array([ 0.90453403,  0.30151134, -0.30151134]), \n",
    "      np.array([ 0.40824829, -0.81649658,  0.40824829])]\n",
    "             \n",
    "assert_almost_equal(np.linalg.norm(np.array(W3)-gram_schmidt_np(V3)),0,delta=1e-8)\n"
   ]
  },
  {
   "cell_type": "code",
   "execution_count": null,
   "metadata": {
    "deletable": false,
    "editable": false,
    "nbgrader": {
     "cell_type": "code",
     "checksum": "bcc06d6170a27a2e45d865a9145fb67d",
     "grade": true,
     "grade_id": "cell-ade454bdd04d761c",
     "locked": true,
     "points": 10,
     "schema_version": 3,
     "solution": false,
     "task": false
    }
   },
   "outputs": [],
   "source": [
    "# Marks: 3\n",
    "from nose.tools import assert_almost_equal\n",
    "import numpy as np"
   ]
  },
  {
   "cell_type": "code",
   "execution_count": null,
   "metadata": {
    "deletable": false,
    "editable": false,
    "nbgrader": {
     "cell_type": "code",
     "checksum": "f571b837f58b7490b3df4dc7dfa92809",
     "grade": true,
     "grade_id": "cell-d23c23d8b7f903cd",
     "locked": true,
     "points": 3,
     "schema_version": 3,
     "solution": false,
     "task": false
    }
   },
   "outputs": [],
   "source": [
    "# Marks: 3\n",
    "# Check that errors are raised for wrong input (vectors not of same length).\n",
    "from nose.tools import assert_raises\n",
    "assert_raises(ValueError,gram_schmidt_np,[np.array([1,2]),np.array([1,5,1]),np.array([7,8])])"
   ]
  },
  {
   "cell_type": "code",
   "execution_count": null,
   "metadata": {
    "deletable": false,
    "editable": false,
    "nbgrader": {
     "cell_type": "code",
     "checksum": "304ea92404168fbd4123084911d9952a",
     "grade": true,
     "grade_id": "cell-96ee3f8ec2cfbc48",
     "locked": true,
     "points": 2,
     "schema_version": 3,
     "solution": false,
     "task": false
    }
   },
   "outputs": [],
   "source": [
    "# Marks: 3\n",
    "# Check that errors are raised for wrong input (not a list)\n",
    "from nose.tools import assert_raises\n",
    "assert_raises(ValueError,gram_schmidt_np,np.array([1,2]))"
   ]
  },
  {
   "cell_type": "markdown",
   "metadata": {
    "deletable": false,
    "editable": false,
    "nbgrader": {
     "cell_type": "markdown",
     "checksum": "00276d2f3bf81e61c6b24ea4d1512412",
     "grade": false,
     "grade_id": "cell-2590229acd17542d",
     "locked": true,
     "schema_version": 3,
     "solution": false,
     "task": false
    }
   },
   "source": [
    "Instead of using NumPy for working with vectors it is also posible to use SymPy.\n",
    "\n",
    "**(b) [45 marks]** \n",
    "\n",
    "Write a function `gram_schmidt_sp` which takes as argument an $n \\times n$ square matrix $V$. The columns of $$V$$ represent the set of $n$-dimensional vectors $\\{\\mathbf{v}_i\\}$ and the function should use the Gram-Schmidt process to construct an orthonormal set of vectors $\\{\\mathbf{w}_i\\}$, which are then returned in the form of rows of a matrix W.\n",
    "\n",
    "- The input matrix V can be assumed to be of type sympy.Matrix \n",
    "- Your function should check that the input V is a square matrix of type sympy.Matrix, and raise a ValueError if not.\n",
    "- The output matrix W should also be of type sympy.Matrix.\n",
    "\n",
    "\n",
    "Note: while the algorithm is the same as above you will need to figure out for yourself how to extract columns from a SymPy matrix (the columns will themselves be $n \\times 1$ matrices), how to take the dot product and norm of a SymPy matrix and how to join rows to make a new SymPy matrix. \n",
    "(Hint: It is often easier to join columns and then take the transpose. The function sympy.Matrix.hstack can be useful.)\n",
    "\n"
   ]
  },
  {
   "cell_type": "code",
   "execution_count": null,
   "metadata": {
    "deletable": false,
    "nbgrader": {
     "cell_type": "code",
     "checksum": "7772ba544a4844c6c02ccbd4d3dc8d48",
     "grade": false,
     "grade_id": "cell-a26a550fe2ca1c0c",
     "locked": false,
     "schema_version": 3,
     "solution": true,
     "task": false
    }
   },
   "outputs": [],
   "source": [
    "import sympy\n",
    "def gram_schmidt_sp(V):\n",
    "    # YOUR CODE HERE\n",
    "    raise NotImplementedError()"
   ]
  },
  {
   "cell_type": "code",
   "execution_count": null,
   "metadata": {
    "deletable": false,
    "editable": false,
    "nbgrader": {
     "cell_type": "code",
     "checksum": "cc714e09a227c5c2828b84cf5de4641a",
     "grade": true,
     "grade_id": "cell-a61ea02026825428",
     "locked": true,
     "points": 10,
     "schema_version": 3,
     "solution": false,
     "task": false
    }
   },
   "outputs": [],
   "source": [
    "# Marks: 10\n",
    "from nose.tools import assert_equal\n",
    "import sympy\n",
    "# Test that it works for a specific matrix V\n",
    "V1 = sympy.Matrix([[1,2],[3,4]])\n",
    "W1 = sympy.Matrix([[sympy.sqrt(10)/10, 3*sympy.sqrt(10)/10], [3*sympy.sqrt(10)/10, -sympy.sqrt(10)/10]])\n",
    "assert_equal(W1-gram_schmidt_sp(V1),sympy.zeros(2,2))"
   ]
  },
  {
   "cell_type": "code",
   "execution_count": null,
   "metadata": {
    "deletable": false,
    "editable": false,
    "nbgrader": {
     "cell_type": "code",
     "checksum": "7a9b023a761d9d541fd0919901947f12",
     "grade": true,
     "grade_id": "cell-75aa51ccb385b6d8",
     "locked": true,
     "points": 10,
     "schema_version": 3,
     "solution": false,
     "task": false
    }
   },
   "outputs": [],
   "source": [
    "# Marks: 10\n",
    "from nose.tools import assert_equal\n",
    "import sympy\n",
    "# Check that it works for a case when vectors that are linearly dependent\n",
    "V2 = sympy.Matrix([[1,2],[2,4]])\n",
    "W2 = sympy.Matrix([[sympy.sqrt(5)/5, 2*sympy.sqrt(5)/5], [0, 0]])\n",
    "assert_equal(W2-gram_schmidt_sp(V2),sympy.zeros(2,2))\n"
   ]
  },
  {
   "cell_type": "code",
   "execution_count": null,
   "metadata": {
    "deletable": false,
    "editable": false,
    "nbgrader": {
     "cell_type": "code",
     "checksum": "30a34613025503a8b3e2955760056451",
     "grade": true,
     "grade_id": "cell-6b541eaac550c772",
     "locked": true,
     "points": 10,
     "schema_version": 3,
     "solution": false,
     "task": false
    }
   },
   "outputs": [],
   "source": [
    "# Marks: 10\n",
    "from nose.tools import assert_equal\n",
    "import sympy\n",
    "from sympy import sqrt\n",
    "# Hidden test that it works for another matrix input.\n",
    "V3 = sympy.Matrix([[1,2,3],[4,5,6],[7,8,10]])\n",
    "W3=sympy.Matrix([[sqrt(66)/66, 2*sqrt(66)/33, 7*sqrt(66)/66], \n",
    "                 [3*sqrt(11)/11, sqrt(11)/11, -sqrt(11)/11], \n",
    "                 [sqrt(6)/6, -sqrt(6)/3, sqrt(6)/6]])\n",
    "assert_equal(W3-gram_schmidt_sp(V3),sympy.zeros(3,3))"
   ]
  },
  {
   "cell_type": "code",
   "execution_count": null,
   "metadata": {
    "deletable": false,
    "editable": false,
    "nbgrader": {
     "cell_type": "code",
     "checksum": "331017de1aa54ec383c1121bd5d6e3a8",
     "grade": true,
     "grade_id": "cell-362bc19198870bc0",
     "locked": true,
     "points": 10,
     "schema_version": 3,
     "solution": false,
     "task": false
    }
   },
   "outputs": [],
   "source": [
    "# Marks: 10\n",
    "from nose.tools import assert_equal\n",
    "import sympy\n",
    "from sympy import sqrt\n",
    "# Hidden test that it works for another matrix input."
   ]
  },
  {
   "cell_type": "code",
   "execution_count": null,
   "metadata": {
    "deletable": false,
    "editable": false,
    "nbgrader": {
     "cell_type": "code",
     "checksum": "cff96f06d79cc3d7c53db164640b3416",
     "grade": true,
     "grade_id": "cell-51db1d9629d2a80f",
     "locked": true,
     "points": 2,
     "schema_version": 3,
     "solution": false,
     "task": false
    }
   },
   "outputs": [],
   "source": [
    "# Marks: 2\n",
    "from nose.tools import assert_raises\n",
    "import sympy\n",
    "# Check that errors are raised for wrong input.\n",
    "import sympy\n",
    "assert_raises(ValueError,gram_schmidt_sp,1)"
   ]
  },
  {
   "cell_type": "code",
   "execution_count": null,
   "metadata": {
    "deletable": false,
    "editable": false,
    "nbgrader": {
     "cell_type": "code",
     "checksum": "fb7201121c35bb750b2d125b44d35d06",
     "grade": true,
     "grade_id": "cell-289e3fed3ed188bb",
     "locked": true,
     "points": 3,
     "schema_version": 3,
     "solution": false,
     "task": false
    }
   },
   "outputs": [],
   "source": [
    "# Marks: 3\n",
    "from nose.tools import assert_raises\n",
    "import sympy\n",
    "# Check that errors are raised for wrong input.\n",
    "import sympy\n",
    "assert_raises(ValueError,gram_schmidt_sp,sympy.Matrix([[1,2],[3,4],[5,6]]))"
   ]
  }
 ],
 "metadata": {
  "kernelspec": {
   "display_name": "Python 3",
   "language": "python",
   "name": "python3"
  },
  "language_info": {
   "codemirror_mode": {
    "name": "ipython",
    "version": 3
   },
   "file_extension": ".py",
   "mimetype": "text/x-python",
   "name": "python",
   "nbconvert_exporter": "python",
   "pygments_lexer": "ipython3",
   "version": "3.8.8"
  }
 },
 "nbformat": 4,
 "nbformat_minor": 4
}
