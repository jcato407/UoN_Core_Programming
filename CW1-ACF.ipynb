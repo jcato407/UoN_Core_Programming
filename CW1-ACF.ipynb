{
 "cells": [
  {
   "cell_type": "markdown",
   "metadata": {
    "deletable": false,
    "editable": false,
    "nbgrader": {
     "cell_type": "markdown",
     "checksum": "330bdece22ab719dc3121efb6109fd6b",
     "grade": false,
     "grade_id": "cell-731ac646155705ac",
     "locked": true,
     "schema_version": 3,
     "solution": false,
     "task": false
    }
   },
   "source": [
    "# Coursework 1 - ACF  #\n",
    "\n",
    "This question is associated with the core module Analytical and Computational foundations (ACF).\n",
    "\n",
    "### Marks \n",
    "- There are 3 subquestions, each is worth 30 marks.\n",
    "- The number of marks asssociated with test-cell is indicated in a comment at the top of that cell.\n",
    "- The number of marks associated to a manually marked taks. (like drawing a graph) is indicated in the text immediately above this cell. \n",
    "\n",
    "#### How to Answer\n",
    "Write your code in the \"answer\" cell where it says \"# YOUR CODE HERE\"\n",
    "and remove both the line \"# YOUR CODE HERE\" and the line \"raise NotImplementedError()\"\n",
    "\n",
    "**Important**: Do not change the name or remove the existing function and write all your code \"inside\" the existing function, i.e. with at least one-tab's indentation.\n",
    "\n",
    "\n",
    "When you have written your code you should evaluate the cell and then evaluate the \"Test\" cells following it. If you don't see any errors then your code is (hopefully) correct and you can go on to the next question. \n",
    "\n",
    "If you see some errors then you have to go back and edit your code and try to fix the \"bug\". \n",
    "\n",
    "\n",
    "\n",
    "## Introduction\n",
    "\n",
    "The Babylonian (or Heron’s) method for computing the square root of \n",
    "$a\\in\\mathbb{R}^{+}$ is summarised by the iterative sequence $(x_{n})$, where $x_{0}$ is an arbitrary starting value (ideally, $x_{0}\\approx\\sqrt{a}$, but this is not required) and \n",
    "$$\n",
    "x_{n+1}=\\frac{1}{2}\\left(x_{n}+\\frac{a}{x_{n}}\\right).\n",
    "$$\n",
    "\n",
    "Successive values are computed for $x_{n}$ until the desired level of accuracy is reached. Hence, if we desire the maximum error to be $e$, we stop when $n=N$, where \n",
    "$$\n",
    "\\left|x_{N}^{2}-a\\right|<e.\n",
    "$$\n",
    "\n",
    "**a)**\n",
    "\n",
    "\n",
    "Write a Python function called ‘babylonian_square_root' that \n",
    "- Takes as input three numbers $a$, $e$ and $x_{0}$. \n",
    "- Uses \"assert\" to assert that  $a$ or $e$ are positive numbers.\n",
    "- Uses the Babylonian method to estimate $\\sqrt{a}$ with maximum error $e$. \n",
    "- Returns the tuple $(x_{N},N)$ where $x_{N}$ is the sought approximation.\n"
   ]
  },
  {
   "cell_type": "code",
   "execution_count": 1,
   "metadata": {
    "deletable": false,
    "nbgrader": {
     "cell_type": "code",
     "checksum": "95f341af42c7ca2dcfeb3e965f60b7d8",
     "grade": false,
     "grade_id": "cell-e5434e181ad04fdc",
     "locked": false,
     "schema_version": 3,
     "solution": true,
     "task": false
    }
   },
   "outputs": [],
   "source": [
    "def babylonian_square_root(a,e,x0):\n",
    "    # YOUR CODE HERE\n",
    "    N=0\n",
    "    assert a > 0, \"a and e must be positive real numbers\"\n",
    "    assert e > 0, \"a and e must be positive real numbers\"\n",
    "    while abs((x0**2)-a)>=e:\n",
    "        x0 = 0.5*(x0+(a/x0))\n",
    "        N=N+1\n",
    "    return (abs(x0),N)\n",
    "    raise NotImplementedError()"
   ]
  },
  {
   "cell_type": "code",
   "execution_count": 2,
   "metadata": {
    "deletable": false,
    "editable": false,
    "nbgrader": {
     "cell_type": "code",
     "checksum": "98bbdf5e51f5a2fca2e86d237bf2a1ee",
     "grade": true,
     "grade_id": "cell-009a5fd7ee1ec601",
     "locked": true,
     "points": 5,
     "schema_version": 3,
     "solution": false,
     "task": false
    }
   },
   "outputs": [],
   "source": [
    "# [5 marks]\n",
    "from nose.tools import assert_equal\n",
    "# Check that the function returns a tuple\n",
    "assert_equal(type(babylonian_square_root(2.0,1e-10,1)),tuple)\n"
   ]
  },
  {
   "cell_type": "code",
   "execution_count": 3,
   "metadata": {
    "deletable": false,
    "editable": false,
    "nbgrader": {
     "cell_type": "code",
     "checksum": "1390fc6eb61b5a8c51a892cc3937beab",
     "grade": true,
     "grade_id": "cell-ee435757b486f90c",
     "locked": true,
     "points": 5,
     "schema_version": 3,
     "solution": false,
     "task": false
    }
   },
   "outputs": [],
   "source": [
    "# [5 marks]\n",
    "from nose.tools import assert_equal\n",
    "# This cell contains hidden tests"
   ]
  },
  {
   "cell_type": "code",
   "execution_count": 4,
   "metadata": {
    "deletable": false,
    "editable": false,
    "nbgrader": {
     "cell_type": "code",
     "checksum": "7c6cad009a9516b2bf0659ca0392b771",
     "grade": true,
     "grade_id": "cell-f06b1dddf56d6998",
     "locked": true,
     "points": 5,
     "schema_version": 3,
     "solution": false,
     "task": false
    }
   },
   "outputs": [],
   "source": [
    "# [5 marks]\n",
    "from nose.tools import assert_almost_equal\n",
    "# Check that we return sqrt(2) if we start with 1\n",
    "assert_almost_equal(babylonian_square_root(2.0,1e-10,1)[0],1.4142135623730951,delta=1e-8)  \n"
   ]
  },
  {
   "cell_type": "code",
   "execution_count": 5,
   "metadata": {
    "deletable": false,
    "editable": false,
    "nbgrader": {
     "cell_type": "code",
     "checksum": "2bb587f079b2800f0db4b4dbcd19cf1a",
     "grade": true,
     "grade_id": "cell-6f67b568006fdf71",
     "locked": true,
     "points": 5,
     "schema_version": 3,
     "solution": false,
     "task": false
    },
    "scrolled": true
   },
   "outputs": [],
   "source": [
    "# [5 marks]\n",
    "from nose.tools import assert_almost_equal\n",
    "# check that we return sqrt(2) also for starting with -1 \n",
    "assert_almost_equal(babylonian_square_root(2.0,1e-10,-1)[0],1.4142135623730951,delta=1e-8)  "
   ]
  },
  {
   "cell_type": "code",
   "execution_count": 6,
   "metadata": {
    "deletable": false,
    "editable": false,
    "nbgrader": {
     "cell_type": "code",
     "checksum": "f4ebb6772c7676f8075803b180080663",
     "grade": true,
     "grade_id": "cell-3b285572fe5745df",
     "locked": true,
     "points": 5,
     "schema_version": 3,
     "solution": false,
     "task": false
    }
   },
   "outputs": [],
   "source": [
    "# [5 marks]\n",
    "from nose.tools import assert_almost_equal\n",
    "# This cell contains hidden tests"
   ]
  },
  {
   "cell_type": "code",
   "execution_count": 7,
   "metadata": {
    "deletable": false,
    "editable": false,
    "nbgrader": {
     "cell_type": "code",
     "checksum": "673474ed29da8d0d70486c6c6fe04429",
     "grade": true,
     "grade_id": "cell-e65190965d7048a0",
     "locked": true,
     "points": 5,
     "schema_version": 3,
     "solution": false,
     "task": false
    }
   },
   "outputs": [],
   "source": [
    "# [5 marks]\n",
    "from nose.tools import assert_raises\n",
    "import math\n",
    "assert_raises(AssertionError,babylonian_square_root,-2,1e-10,1)"
   ]
  },
  {
   "cell_type": "markdown",
   "metadata": {
    "deletable": false,
    "editable": false,
    "nbgrader": {
     "cell_type": "markdown",
     "checksum": "ed7dab8456c8556f165ae27ee274746f",
     "grade": false,
     "grade_id": "cell-af86584aee47ff9c",
     "locked": true,
     "schema_version": 3,
     "solution": false,
     "task": false
    }
   },
   "source": [
    "**b)** \n",
    "Write a modified function that returns the whole list of approximations $[x_0,x_1,x_2,\\ldots,x_n]$.\n"
   ]
  },
  {
   "cell_type": "code",
   "execution_count": 8,
   "metadata": {
    "deletable": false,
    "nbgrader": {
     "cell_type": "code",
     "checksum": "1a8948e37b92686f14a179ed65c6b527",
     "grade": false,
     "grade_id": "cell-86251888d5893711",
     "locked": false,
     "schema_version": 3,
     "solution": true,
     "task": false
    }
   },
   "outputs": [],
   "source": [
    "def babylonian_square_root_list(a,e,x0):\n",
    "    # YOUR CODE HERE\n",
    "    N=0\n",
    "    approx_list = []\n",
    "    approx_list.append(x0)\n",
    "    assert a > 0, \"a and e must be positive real numbers\"\n",
    "    assert e > 0, \"a and e must be positive real numbers\"\n",
    "    #print(abs((x0**2)-a))\n",
    "    while abs((x0**2)-a)>=e:\n",
    "        #print(abs((x0**2)-a))\n",
    "        x0 = 0.5*(x0+(a/x0))\n",
    "        #print(x0)\n",
    "        approx_list.append(x0)\n",
    "        N=N+1\n",
    "    return (approx_list)\n",
    "    raise NotImplementedError()"
   ]
  },
  {
   "cell_type": "code",
   "execution_count": 9,
   "metadata": {
    "deletable": false,
    "editable": false,
    "nbgrader": {
     "cell_type": "code",
     "checksum": "92d4016609e471954e2e3627c54058b9",
     "grade": true,
     "grade_id": "cell-f746e8c40e38b2a2",
     "locked": true,
     "points": 5,
     "schema_version": 3,
     "solution": false,
     "task": false
    }
   },
   "outputs": [],
   "source": [
    "# [5 marks]\n",
    "from nose.tools import assert_equal,assert_almost_equal\n",
    "# Check that the function returns a list\n",
    "assert_equal(type(babylonian_square_root_list(2.0,1e-10,1)),list)\n"
   ]
  },
  {
   "cell_type": "code",
   "execution_count": 10,
   "metadata": {
    "deletable": false,
    "editable": false,
    "nbgrader": {
     "cell_type": "code",
     "checksum": "10ee4dfb9e6bcf54161f4946a181affb",
     "grade": true,
     "grade_id": "cell-386f6a912c2ce14f",
     "locked": true,
     "points": 5,
     "schema_version": 3,
     "solution": false,
     "task": false
    }
   },
   "outputs": [],
   "source": [
    "# [5 marks]\n",
    "from nose.tools import assert_equal\n",
    "## Check that the first element is the initial element \n",
    "assert_almost_equal(babylonian_square_root_list(2.0,1e-10,1)[0],1.0,delta=1e-8)  \n"
   ]
  },
  {
   "cell_type": "code",
   "execution_count": 11,
   "metadata": {
    "deletable": false,
    "editable": false,
    "nbgrader": {
     "cell_type": "code",
     "checksum": "6c6733c98d94e5567421b63e80b7ce30",
     "grade": true,
     "grade_id": "cell-5f2507c1575fc797",
     "locked": true,
     "points": 5,
     "schema_version": 3,
     "solution": false,
     "task": false
    }
   },
   "outputs": [],
   "source": [
    "# [5 marks]\n",
    "from nose.tools import assert_equal,assert_almost_equal\n",
    "# Check that the last element in the list is a good approximation\n",
    "assert_almost_equal(babylonian_square_root_list(2.0,1e-10,1)[-1],1.4142135623730951,delta=1e-8)  \n"
   ]
  },
  {
   "cell_type": "code",
   "execution_count": 12,
   "metadata": {
    "deletable": false,
    "editable": false,
    "nbgrader": {
     "cell_type": "code",
     "checksum": "673f7fd0af4db341f727a6ea47e36629",
     "grade": true,
     "grade_id": "cell-0225be17d8c50f3c",
     "locked": true,
     "points": 5,
     "schema_version": 3,
     "solution": false,
     "task": false
    }
   },
   "outputs": [],
   "source": [
    "# [5 marks]\n",
    "from nose.tools import assert_equal,assert_almost_equal\n",
    "# This cell contains hidden tests"
   ]
  },
  {
   "cell_type": "code",
   "execution_count": 13,
   "metadata": {
    "deletable": false,
    "editable": false,
    "nbgrader": {
     "cell_type": "code",
     "checksum": "408b5a1f593ed6768f2821c394562e45",
     "grade": true,
     "grade_id": "cell-08ff22f9431d255b",
     "locked": true,
     "points": 5,
     "schema_version": 3,
     "solution": false,
     "task": false
    }
   },
   "outputs": [],
   "source": [
    "# [5 marks]\n",
    "from nose.tools import assert_equal,assert_almost_equal\n",
    "# This cell contains hidden tests"
   ]
  },
  {
   "cell_type": "code",
   "execution_count": 14,
   "metadata": {
    "deletable": false,
    "editable": false,
    "nbgrader": {
     "cell_type": "code",
     "checksum": "50bf9b6e4c81c74597580a9b179f1696",
     "grade": true,
     "grade_id": "cell-02d20b77649561ac",
     "locked": true,
     "points": 5,
     "schema_version": 3,
     "solution": false,
     "task": false
    }
   },
   "outputs": [],
   "source": [
    "# [5 marks]\n",
    "from nose.tools import assert_equal,assert_almost_equal\n",
    "# This cell contains hidden tests"
   ]
  },
  {
   "cell_type": "markdown",
   "metadata": {
    "deletable": false,
    "editable": false,
    "nbgrader": {
     "cell_type": "markdown",
     "checksum": "2b514aaf66c9699a3bbea11f3eea252a",
     "grade": false,
     "grade_id": "cell-6283f0cb0882e72f",
     "locked": true,
     "schema_version": 3,
     "solution": false,
     "task": false
    }
   },
   "source": [
    "**c)** Use the function from part b) to compute a list of approximations $(x_n)$ to $\\sqrt{20000}$ and use **pylab** to plot the points $x_n$ against $n$ as a scatterplot and in the same plot also add a horizontal red line corresponding to the value given by `math.sqrt(20000)` as well as appropriate legends for the plot and labels for the $x$ and $y$ axes. \n",
    "- Insert the code for drawing the plot in the function `draw_plot` below.\n",
    "- Generate the plot in the cell below by calling the function `draw_plot`."
   ]
  },
  {
   "cell_type": "code",
   "execution_count": 15,
   "metadata": {
    "deletable": false,
    "nbgrader": {
     "cell_type": "code",
     "checksum": "47da5e983bbad2589fd547370aec73a1",
     "grade": false,
     "grade_id": "cell-40dc0690bead99f7",
     "locked": false,
     "schema_version": 3,
     "solution": true,
     "task": false
    }
   },
   "outputs": [
    {
     "ename": "NotImplementedError",
     "evalue": "",
     "output_type": "error",
     "traceback": [
      "\u001b[1;31m---------------------------------------------------------------------------\u001b[0m",
      "\u001b[1;31mNotImplementedError\u001b[0m                       Traceback (most recent call last)",
      "\u001b[1;32m<ipython-input-15-d009884ce1aa>\u001b[0m in \u001b[0;36m<module>\u001b[1;34m\u001b[0m\n\u001b[0;32m     14\u001b[0m     \u001b[0mpylab\u001b[0m\u001b[1;33m.\u001b[0m\u001b[0mshow\u001b[0m\u001b[1;33m(\u001b[0m\u001b[1;33m)\u001b[0m\u001b[1;33m\u001b[0m\u001b[1;33m\u001b[0m\u001b[0m\n\u001b[0;32m     15\u001b[0m     \u001b[1;32mreturn\u001b[0m\u001b[1;33m\u001b[0m\u001b[1;33m\u001b[0m\u001b[0m\n\u001b[1;32m---> 16\u001b[1;33m \u001b[1;32mraise\u001b[0m \u001b[0mNotImplementedError\u001b[0m\u001b[1;33m(\u001b[0m\u001b[1;33m)\u001b[0m\u001b[1;33m\u001b[0m\u001b[1;33m\u001b[0m\u001b[0m\n\u001b[0m",
      "\u001b[1;31mNotImplementedError\u001b[0m: "
     ]
    }
   ],
   "source": [
    "import pylab\n",
    "def draw_plot(a):\n",
    "    data = babylonian_square_root_list(a,1e-10,1)\n",
    "    # YOUR CODE HERE\n",
    "    list_sqrt = []\n",
    "    for w in range(len(data)):\n",
    "        list_sqrt.append(math.sqrt(20000))\n",
    "    pylab.scatter(range(len(data)),data,label='$(x_n)$')    \n",
    "    pylab.plot(range(len(data)),list_sqrt,label='$\\sqrt{20000}$',color='red')\n",
    "\n",
    "    pylab.xlabel('$n$')\n",
    "    pylab.ylabel('$x_n$')\n",
    "    pylab.legend(loc='best')\n",
    "    pylab.show()\n",
    "    return\n",
    "raise NotImplementedError()"
   ]
  },
  {
   "cell_type": "code",
   "execution_count": 16,
   "metadata": {
    "deletable": false,
    "nbgrader": {
     "cell_type": "code",
     "checksum": "cceecb1a2802abdcb939296d3553ca42",
     "grade": true,
     "grade_id": "cell-fcbc463f945d83af",
     "locked": false,
     "points": 30,
     "schema_version": 3,
     "solution": true,
     "task": false
    }
   },
   "outputs": [
    {
     "data": {
      "image/png": "[encoded data removed]",
      "text/plain": [
       "<Figure size 432x288 with 1 Axes>"
      ]
     },
     "metadata": {
      "needs_background": "light"
     },
     "output_type": "display_data"
    }
   ],
   "source": [
    "# YOUR CODE HERE\n",
    "a = 20000\n",
    "draw_plot(a)\n",
    "#raise NotImplementedError()"
   ]
  }
 ],
 "metadata": {
  "kernelspec": {
   "display_name": "Python 3",
   "language": "python",
   "name": "python3"
  },
  "language_info": {
   "codemirror_mode": {
    "name": "ipython",
    "version": 3
   },
   "file_extension": ".py",
   "mimetype": "text/x-python",
   "name": "python",
   "nbconvert_exporter": "python",
   "pygments_lexer": "ipython3",
   "version": "3.8.8"
  }
 },
 "nbformat": 4,
 "nbformat_minor": 4
}
