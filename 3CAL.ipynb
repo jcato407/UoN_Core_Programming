{
 "cells": [
  {
   "cell_type": "markdown",
   "metadata": {
    "deletable": false,
    "editable": false,
    "nbgrader": {
     "cell_type": "markdown",
     "checksum": "f9287e2c48540a65edf0bc527d81fa38",
     "grade": false,
     "grade_id": "cell-93e294c23a20ade8",
     "locked": true,
     "schema_version": 3,
     "solution": false,
     "task": false
    }
   },
   "source": [
    "# Coursework 3 - CAL (Assessed) #\n",
    "\n",
    "This coursework corresponds to Calculus (CAL).\n",
    "\n",
    "### Marks \n",
    "- There are 3 subquestions, each worth 30 marks. \n",
    "- The marks are divided amongst different tests in each sub question.\n",
    "- The number of marks asssociated with an automated test-cell is indicated in a comment at the top of that cell. \n",
    "\n",
    "#### How to Answer\n",
    "Write your code in the \"answer\" cell where it says \"# YOUR CODE HERE\"\n",
    "and remove both the line \"# YOUR CODE HERE\" and the line \"raise NotImplementedError()\"\n",
    "\n",
    "**Important**: Do not change the name or remove the existing function, and write all your code \"inside\" the existing function, i.e. with at least one-tab's indentation.\n",
    "\n",
    "When you have written your code you should evaluate the cell and then evaluate the \"Test\" cells following it. If you don't see any errors then your code is (hopefully) correct and you can go on to the next question. \n",
    "\n",
    "If you see some errors then you have to go back and edit your code and try to fix the \"bug\". \n",
    "\n",
    "For all questions you are allowed to use any imported modules that you like.\n",
    "\n",
    "All plots should be done 'inline', in other words, do not use \"popup\" windows. With the default settings you just need to call 'plt.show()' at the end. \n"
   ]
  },
  {
   "cell_type": "markdown",
   "metadata": {
    "deletable": false,
    "editable": false,
    "nbgrader": {
     "cell_type": "markdown",
     "checksum": "79e64b554dcdef57cdf96756a50e1e87",
     "grade": false,
     "grade_id": "cell-f634e5d5616a9a72",
     "locked": true,
     "schema_version": 3,
     "solution": false,
     "task": false
    }
   },
   "source": [
    "## Question 2 [CAL]\n",
    "\n",
    "The sequence of functions $F_n(x,y)$ for ($n\\ge0$) is defined by the recurrence formula\n",
    "\n",
    "$$\n",
    "F_0(x,y)=1,\\quad F_1(x,y)=\\frac{x}{2} - y^2\n",
    "$$\n",
    "and \n",
    "$$\n",
    "2n^2 F_{n+1}(x,y) = 3nxyF_n(x,y) - (2n+1)F_{n-1}(x,y),\\quad n\\ge 1.\n",
    "$$\n",
    "\n",
    "**(a) [5 marks]** Write a recursive function (i.e. a function that calls itself) `evalFn` which evaluates the function $F_n$ with the arguments $x$ and $y$.\n",
    "- The function should return a float if the input is a scalar;\n",
    "- If the input x and y are both two-dimensional NumPy arrays then the output should also be a two-dimensional NumPy array;\n",
    "- If the input are numpy arrays of different shapes it should raise a ValueError.\n",
    "\n",
    "Hint: You might find it useful to replace $n+1$ by $m$ and solve for $F_m$."
   ]
  },
  {
   "cell_type": "code",
   "execution_count": 219,
   "metadata": {
    "deletable": false,
    "nbgrader": {
     "cell_type": "code",
     "checksum": "11418ff01f9776be914c407234dab07a",
     "grade": false,
     "grade_id": "cell-1f0a28112da0f41a",
     "locked": false,
     "schema_version": 3,
     "solution": true,
     "task": false
    }
   },
   "outputs": [],
   "source": [
    "import numpy as np\n",
    "def evalFn(n,x,y):\n",
    "    # YOUR CODE HERE\n",
    "    xyarray = False\n",
    "    if type(x) == np.ndarray and type(y) == np.ndarray:\n",
    "        xyarray = True\n",
    "        if x.shape != y.shape:\n",
    "            raise ValueError()\n",
    "    \n",
    "    if n == 0:\n",
    "        if xyarray == True:\n",
    "            return np.full(x.shape,1)\n",
    "        else:\n",
    "            return 1\n",
    "    if n == 1:\n",
    "        return ((0.5*x)-(y**2))\n",
    "    else:\n",
    "        return (3*(n-1)*x*y*(evalFn((n-1),x,y))-((2*(n-1))+1)*(evalFn((n-2),x,y)))/(2*((n-1)**2))\n",
    "    raise NotImplementedError()"
   ]
  },
  {
   "cell_type": "code",
   "execution_count": 220,
   "metadata": {
    "deletable": false,
    "editable": false,
    "nbgrader": {
     "cell_type": "code",
     "checksum": "ec76fdc41ca86a0ce2a162e2f7648ac7",
     "grade": true,
     "grade_id": "cell-e904974906967df0",
     "locked": true,
     "points": 3,
     "schema_version": 3,
     "solution": false,
     "task": false
    }
   },
   "outputs": [],
   "source": [
    "# 3 marks\n",
    "# Test that 'evalFn' returns a float if a scalar is input.\n",
    "from nose.tools import assert_equal\n",
    "assert_equal(type(evalFn(1,1,1)),float)"
   ]
  },
  {
   "cell_type": "code",
   "execution_count": 221,
   "metadata": {
    "deletable": false,
    "editable": false,
    "nbgrader": {
     "cell_type": "code",
     "checksum": "d02003a07844a499d04e9a6a6c911b12",
     "grade": true,
     "grade_id": "cell-8611d0e9fad64f34",
     "locked": true,
     "points": 3,
     "schema_version": 3,
     "solution": false,
     "task": false
    }
   },
   "outputs": [],
   "source": [
    "# 3 mark\n",
    "# Test that 'evalFn' outputs the correct values for some values of n\n",
    "from nose.tools import assert_equal,assert_almost_equal\n",
    "assert_almost_equal(evalFn(4,1,1),0.1875,delta=1e-10)"
   ]
  },
  {
   "cell_type": "code",
   "execution_count": 222,
   "metadata": {
    "deletable": false,
    "editable": false,
    "nbgrader": {
     "cell_type": "code",
     "checksum": "689fefd9ffebd77db93ef0b9df5af9a4",
     "grade": true,
     "grade_id": "cell-4f586f3852a5a124",
     "locked": true,
     "points": 3,
     "schema_version": 3,
     "solution": false,
     "task": false
    }
   },
   "outputs": [],
   "source": [
    "# 3 mark\n",
    "# Hidden tests that 'evalFn' outputs the correct values for some other values of n\n",
    "from nose.tools import assert_equal,assert_almost_equal\n",
    "assert_equal(evalFn(1,3,100),-9998.5)"
   ]
  },
  {
   "cell_type": "code",
   "execution_count": 223,
   "metadata": {
    "deletable": false,
    "editable": false,
    "nbgrader": {
     "cell_type": "code",
     "checksum": "d92639062464bad96b06a87df9adf838",
     "grade": true,
     "grade_id": "cell-17961f3c132d22ae",
     "locked": true,
     "points": 3,
     "schema_version": 3,
     "solution": false,
     "task": false
    }
   },
   "outputs": [],
   "source": [
    "# 3 mark\n",
    "# Hidden tests that 'evalFn' outputs the correct values for some other values of n\n",
    "from nose.tools import assert_equal,assert_almost_equal"
   ]
  },
  {
   "cell_type": "code",
   "execution_count": 224,
   "metadata": {
    "deletable": false,
    "editable": false,
    "nbgrader": {
     "cell_type": "code",
     "checksum": "292cc6b6c2e855636cdb4745f4d53794",
     "grade": true,
     "grade_id": "cell-6865d5b69b8cd92a",
     "locked": true,
     "points": 3,
     "schema_version": 3,
     "solution": false,
     "task": false
    }
   },
   "outputs": [],
   "source": [
    "# 3 marks\n",
    "# Test that the 'evalFn' returns a numpy array of correct shape if the inputs are numpy arrays.\n",
    "from nose.tools import assert_equal,assert_almost_equal,assert_raises,assert_true\n",
    "import numpy as np\n",
    "x = np.linspace(0,1,2)\n",
    "y = np.linspace(0,1,3)\n",
    "X,Y = np.meshgrid(x,y)\n",
    "assert_equal(type(evalFn(0,X,Y)),np.ndarray)\n"
   ]
  },
  {
   "cell_type": "code",
   "execution_count": 225,
   "metadata": {
    "deletable": false,
    "editable": false,
    "nbgrader": {
     "cell_type": "code",
     "checksum": "4ec0fcaa4f13bd007dd67f6ff5bab08c",
     "grade": true,
     "grade_id": "cell-d1323e2fdffa7d44",
     "locked": true,
     "points": 3,
     "schema_version": 3,
     "solution": false,
     "task": false
    }
   },
   "outputs": [],
   "source": [
    "# 3 marks\n",
    "from nose.tools import assert_equal,assert_almost_equal,assert_raises,assert_true\n",
    "import numpy as np"
   ]
  },
  {
   "cell_type": "code",
   "execution_count": 226,
   "metadata": {
    "deletable": false,
    "editable": false,
    "nbgrader": {
     "cell_type": "code",
     "checksum": "572fffeacd25bd7d8db4a1a616cc8bad",
     "grade": true,
     "grade_id": "cell-942128e3f1d2406e",
     "locked": true,
     "points": 3,
     "schema_version": 3,
     "solution": false,
     "task": false
    }
   },
   "outputs": [],
   "source": [
    "# 3 marks\n",
    "# Test that the 'evalFn' returns a numpy array of correct shape if the inputs are numpy arrays.\n",
    "from nose.tools import assert_equal,assert_almost_equal,assert_raises,assert_true\n",
    "import numpy as np\n",
    "x = np.linspace(0,1,2)\n",
    "y = np.linspace(0,1,3)\n",
    "X,Y = np.meshgrid(x,y)\n",
    "assert_equal(evalFn(1,X,Y).shape,(3,2),\"Function should return a 3 x 2 grid!\")"
   ]
  },
  {
   "cell_type": "code",
   "execution_count": 227,
   "metadata": {
    "deletable": false,
    "editable": false,
    "nbgrader": {
     "cell_type": "code",
     "checksum": "5f945eca85237139dd322d42d09ce1de",
     "grade": true,
     "grade_id": "cell-e47879c81586be00",
     "locked": true,
     "points": 3,
     "schema_version": 3,
     "solution": false,
     "task": false
    }
   },
   "outputs": [],
   "source": [
    "# 3 mark\n",
    "# Test that 'evalFn' returns the correct values for some input vectors.\n",
    "import numpy as np\n",
    "x = np.linspace(0,1,2)\n",
    "y = np.linspace(0,1,3)\n",
    "X,Y = np.meshgrid(x,y)\n",
    "assert_true( (evalFn(0,X,Y)==np.ones((3,2))).all())"
   ]
  },
  {
   "cell_type": "code",
   "execution_count": 228,
   "metadata": {
    "deletable": false,
    "editable": false,
    "nbgrader": {
     "cell_type": "code",
     "checksum": "5769a78a20ee8cf41dcfa606201405c5",
     "grade": true,
     "grade_id": "cell-6e1922c2e2829a04",
     "locked": true,
     "points": 3,
     "schema_version": 3,
     "solution": false,
     "task": false
    }
   },
   "outputs": [],
   "source": [
    "# 3 mark\n",
    "# Test that 'evalFn' returns the correct values for some input vectors.\n",
    "import numpy as np\n",
    "x = np.linspace(0,1,2)\n",
    "y = np.linspace(0,1,3)\n",
    "X,Y = np.meshgrid(x,y)\n",
    "assert_almost_equal(evalFn(3,X,Y)[2,1],-1.375,delta=1e-6)"
   ]
  },
  {
   "cell_type": "code",
   "execution_count": 110,
   "metadata": {
    "deletable": false,
    "editable": false,
    "nbgrader": {
     "cell_type": "code",
     "checksum": "b5df94250f31d86674f3183257520fe8",
     "grade": true,
     "grade_id": "cell-7ef7b518684fbde8",
     "locked": true,
     "points": 3,
     "schema_version": 3,
     "solution": false,
     "task": false
    }
   },
   "outputs": [],
   "source": [
    "# 3 marks\n",
    "# Test that 'evalFn' returns the correct values for some input vectors.\n",
    "import numpy as np"
   ]
  },
  {
   "cell_type": "markdown",
   "metadata": {
    "deletable": false,
    "editable": false,
    "nbgrader": {
     "cell_type": "markdown",
     "checksum": "d92ac262981689160f60b369453367c5",
     "grade": false,
     "grade_id": "cell-12fdd1d14f743e6b",
     "locked": true,
     "schema_version": 3,
     "solution": false,
     "task": false
    }
   },
   "source": [
    "**(b)**\n",
    "In addition to working numerically we can also use SymPy to study the functions $F_n$ symbolically and obtain explicit expressions.\n",
    "\n",
    "Use `SymPy` to write a function `symbolicFn` which gives an expression for $F_n(x,y)$ as a polynomial in $x$ and $y$ of the form \n",
    "\n",
    "$$\n",
    "\\sum_{i,j} a(i,j)x^i y^j,\n",
    "$$\n",
    "where $a(i,j)$ are simply some coefficients. An example of such an expression is \n",
    "$$\n",
    " xy + 2x^4y^2 + y^3\n",
    "$$\n",
    "where the coefficients would be $a(1,1)=1,a(4,2)=2,a(0,3)=1$ and all other $a(i,j)$ are zero. \n",
    "\n",
    "The function should take a non-negative integer $n$ and symbolic values for $x$ and $y$ (as given by e.g. `x, y = sympy.symbols('x y')`) as input and output a polynomial in $x$ and $y$ of the type `sympy.Poly` with domain the rational numbers (i.e. `sympy.QQ`).\n",
    "- If n is not a non-negative integer the function should raise a ValueError\n",
    "- If x or y are not symbolic expressions (i.e. of type `sympy.core.symbol.Symbol`) then a ValueError should be raised.\n",
    "\n",
    "Hints: you might find the functions .as_poly() and sympy.Poly useful."
   ]
  },
  {
   "cell_type": "code",
   "execution_count": 196,
   "metadata": {
    "deletable": false,
    "nbgrader": {
     "cell_type": "code",
     "checksum": "aa3c810bf31e46e77d34ad7c7123eb12",
     "grade": false,
     "grade_id": "cell-7c81740c09f6b81b",
     "locked": false,
     "schema_version": 3,
     "solution": true,
     "task": false
    }
   },
   "outputs": [],
   "source": [
    "import sympy\n",
    "def symbolicFn(n,x,y):\n",
    "    # YOUR CODE HERE\n",
    "    if n < 0:\n",
    "        raise ValueError()\n",
    "    if type(x) != sympy.core.symbol.Symbol and type(y) != sympy.core.symbol.Symbol:\n",
    "        raise ValueError()\n",
    "    \n",
    "    if n == 0:\n",
    "        return sympy.Poly(1,x,y,domain=sympy.QQ)\n",
    "    elif n == 1:\n",
    "        return sympy.Poly((0.5*x)-(y**2),x,y,domain=sympy.QQ)\n",
    "    else:\n",
    "        return sympy.poly((3*(n-1)*x*y*symbolicFn(n-1,x,y) - (2*(n-1) + 1)*symbolicFn(n-2,x,y))/(2*((n-1)**2)))\n",
    "    \n",
    "    raise NotImplementedError()"
   ]
  },
  {
   "cell_type": "code",
   "execution_count": 197,
   "metadata": {},
   "outputs": [
    {
     "name": "stdout",
     "output_type": "stream",
     "text": [
      "Poly(9/16*x**3*y**2 - 9/8*x**2*y**4 - 9/8*x*y - 5/16*x + 5/8*y**2, x, y, domain='QQ')\n"
     ]
    }
   ],
   "source": [
    "print(symbolicFn(3,x,y))"
   ]
  },
  {
   "cell_type": "code",
   "execution_count": 198,
   "metadata": {
    "deletable": false,
    "editable": false,
    "nbgrader": {
     "cell_type": "code",
     "checksum": "587622295eafef42838c1162b2e612b4",
     "grade": true,
     "grade_id": "cell-35a33229368f8986",
     "locked": true,
     "points": 6,
     "schema_version": 3,
     "solution": false,
     "task": false
    }
   },
   "outputs": [],
   "source": [
    "# 6 marks\n",
    "# Test that the above algorithm provides reasonable outcome.\n",
    "from nose.tools import assert_equal\n",
    "import sympy\n",
    "x, y = sympy.symbols('x y')\n",
    "# Check that we get back the constant 1 as a polynomial in x and y (even though the only power is x^0y^0)\n",
    "assert_equal(symbolicFn(0,x,y),sympy.Poly(1,x,y,domain=sympy.QQ)) \n"
   ]
  },
  {
   "cell_type": "code",
   "execution_count": 199,
   "metadata": {
    "deletable": false,
    "editable": false,
    "nbgrader": {
     "cell_type": "code",
     "checksum": "384795339177e9261402f952226f6afe",
     "grade": true,
     "grade_id": "cell-d4d1b00bedeca95c",
     "locked": true,
     "points": 6,
     "schema_version": 3,
     "solution": false,
     "task": false
    }
   },
   "outputs": [],
   "source": [
    "# 6 marks\n",
    "# Test that we handle wrong input\n",
    "from nose.tools import assert_raises\n",
    "import sympy\n",
    "x, y = sympy.symbols('x y')\n",
    "assert_raises(ValueError,symbolicFn,0,1,1)"
   ]
  },
  {
   "cell_type": "code",
   "execution_count": 200,
   "metadata": {
    "deletable": false,
    "editable": false,
    "nbgrader": {
     "cell_type": "code",
     "checksum": "9d40f1ce61993da8740ab8f66d53d9b2",
     "grade": true,
     "grade_id": "cell-981ab513ffc7b528",
     "locked": true,
     "points": 6,
     "schema_version": 3,
     "solution": false,
     "task": false
    }
   },
   "outputs": [],
   "source": [
    "# 6 marks\n",
    "# Check that we get back the correct polynomial F_1\n",
    "from nose.tools import assert_equal\n",
    "import sympy\n",
    "x, y = sympy.symbols('x y')\n",
    "# assert_equal(symbolicFn(1,x,y),sympy.Poly(x/2-y**2,x,y))\n",
    "assert_equal(symbolicFn(1,x,y),sympy.Poly(-y**2+x/2,x,y,domain=sympy.QQ))\n"
   ]
  },
  {
   "cell_type": "code",
   "execution_count": 201,
   "metadata": {
    "deletable": false,
    "editable": false,
    "nbgrader": {
     "cell_type": "code",
     "checksum": "57b61519ae4127c172e80982df5ce87c",
     "grade": true,
     "grade_id": "cell-fde1d11ca4a539a7",
     "locked": true,
     "points": 6,
     "schema_version": 3,
     "solution": false,
     "task": false
    }
   },
   "outputs": [],
   "source": [
    "# 6 marks\n",
    "# Check that we get back the correct polynomial F_3\n",
    "from nose.tools import assert_equal\n",
    "import sympy\n",
    "x, y = sympy.symbols('x y')\n",
    "assert_equal(symbolicFn(3,x,y),sympy.Poly(9/16*x**3*y**2 - 9/8*x**2*y**4 - 9/8*x*y - 5/16*x + 5/8*y**2,x,y,domain=sympy.QQ))"
   ]
  },
  {
   "cell_type": "code",
   "execution_count": 202,
   "metadata": {
    "deletable": false,
    "editable": false,
    "nbgrader": {
     "cell_type": "code",
     "checksum": "dac574e0f9638ac8baf8190c9578879e",
     "grade": true,
     "grade_id": "cell-f9e38d1a75e8b94d",
     "locked": true,
     "points": 6,
     "schema_version": 3,
     "solution": false,
     "task": false
    }
   },
   "outputs": [],
   "source": [
    "# 6 marks\n",
    "from nose.tools import assert_equal\n",
    "import sympy"
   ]
  },
  {
   "cell_type": "markdown",
   "metadata": {
    "deletable": false,
    "editable": false,
    "nbgrader": {
     "cell_type": "markdown",
     "checksum": "1d914ce2f1b2c6bbe208eae34bda6d5a",
     "grade": false,
     "grade_id": "cell-d20ef0efe75c99e8",
     "locked": true,
     "schema_version": 3,
     "solution": false,
     "task": false
    }
   },
   "source": [
    "**(c)**\n",
    "Consider the following function of two variables:\n",
    "$$\n",
    "G(x,y) = 1 + x^2 y^2 \n",
    "$$\n",
    "Use SymPy for the following:\n",
    "1.  Write a function `S` with a parameter $x$ to evaluate the function $S(x)$ given by the following integral:\n",
    "$$\n",
    "S(x) = \\int_{x^2}^{1} G(x,y) dy\n",
    "$$\n",
    "as a symbolic expression in $x$.\n",
    "2. Write a function `D(x,n)` which takes as arguments a symbol `x` and an integer $n$ to evaluate the $n$-th derivative of $S(x)$ with respect to $x$.\n",
    "3. Finally write a function `T` (without arguments) to evaluate the integeral $\\int_{0}^{1} S(x)dx$.\n",
    "\n",
    "The functions $S(x)$ and $D(x,n)$ should both return polynomials of the type `sympy.Poly`, variable `x` and domain `sympy.QQ`.\n",
    "\n",
    "Hint: \n",
    "- Note that the the output of \"sympy.integrate\" is not a SymPy polynomial.\n",
    "- Note that the function \"sympy.diff\" does not accept a SymPy polynomial as input. \n",
    "- To convert input and output you might find the functions `.as_expr` and `as_poly` useful.\n"
   ]
  },
  {
   "cell_type": "code",
   "execution_count": 214,
   "metadata": {
    "deletable": false,
    "nbgrader": {
     "cell_type": "code",
     "checksum": "a0a0b7815f670b0af231d06e2b17b0a2",
     "grade": false,
     "grade_id": "cell-0551ae10a9329aa5",
     "locked": false,
     "schema_version": 3,
     "solution": true,
     "task": false
    }
   },
   "outputs": [],
   "source": [
    "import sympy\n",
    "def S(x):\n",
    "    # YOUR CODE HERE\n",
    "    G = 1+(x**2)*(y**2)\n",
    "    S = (sympy.integrate(G,y)).as_expr\n",
    "    return sympy.Poly((S.subs({y:1}) - S.subs({y:x**2})), domain=sympy.QQ)\n",
    "    raise NotImplementedError()\n",
    "\n",
    "def D(x,n):\n",
    "    # YOUR CODE HERE\n",
    "    \n",
    "    raise NotImplementedError()\n",
    "\n",
    "def T(a):\n",
    "    # YOUR CODE HERE\n",
    "    raise NotImplementedError()\n"
   ]
  },
  {
   "cell_type": "code",
   "execution_count": 218,
   "metadata": {},
   "outputs": [
    {
     "data": {
      "text/latex": [
       "$\\displaystyle \\operatorname{Poly}{\\left( - \\frac{1}{3} x^{8} -  \\frac{2}{3} x^{2} + 1, x, domain=\\mathbb{Q} \\right)}$"
      ],
      "text/plain": [
       "Poly(-1/3*x**8 - 2/3*x**2 + 1, x, domain='QQ')"
      ]
     },
     "execution_count": 218,
     "metadata": {},
     "output_type": "execute_result"
    }
   ],
   "source": [
    "x, y = sympy.symbols('x,y')\n",
    "G = 1+(x**2)*(y**2)\n",
    "S = sympy.integrate(G,y)\n",
    "type(G)\n",
    "type(S)\n",
    "sympy.Poly((S.subs({y:1}) - S.subs({y:x**2})), domain=sympy.QQ)"
   ]
  },
  {
   "cell_type": "code",
   "execution_count": 216,
   "metadata": {
    "deletable": false,
    "editable": false,
    "nbgrader": {
     "cell_type": "code",
     "checksum": "6ad736e49b555a130b80d4594449057c",
     "grade": true,
     "grade_id": "cell-8aeacee668b6e1d8",
     "locked": true,
     "points": 5,
     "schema_version": 3,
     "solution": false,
     "task": false
    }
   },
   "outputs": [
    {
     "ename": "TypeError",
     "evalue": "'Add' object is not callable",
     "output_type": "error",
     "traceback": [
      "\u001b[1;31m---------------------------------------------------------------------------\u001b[0m",
      "\u001b[1;31mTypeError\u001b[0m                                 Traceback (most recent call last)",
      "\u001b[1;32m<ipython-input-216-4c37457ca262>\u001b[0m in \u001b[0;36m<module>\u001b[1;34m\u001b[0m\n\u001b[0;32m      3\u001b[0m \u001b[1;32mimport\u001b[0m \u001b[0msympy\u001b[0m\u001b[1;33m\u001b[0m\u001b[1;33m\u001b[0m\u001b[0m\n\u001b[0;32m      4\u001b[0m \u001b[0mx\u001b[0m\u001b[1;33m,\u001b[0m \u001b[0my\u001b[0m \u001b[1;33m=\u001b[0m \u001b[0msympy\u001b[0m\u001b[1;33m.\u001b[0m\u001b[0msymbols\u001b[0m\u001b[1;33m(\u001b[0m\u001b[1;34m'x,y'\u001b[0m\u001b[1;33m)\u001b[0m\u001b[1;33m\u001b[0m\u001b[1;33m\u001b[0m\u001b[0m\n\u001b[1;32m----> 5\u001b[1;33m \u001b[0massert_equal\u001b[0m\u001b[1;33m(\u001b[0m\u001b[0mS\u001b[0m\u001b[1;33m(\u001b[0m\u001b[0mx\u001b[0m\u001b[1;33m)\u001b[0m\u001b[1;33m,\u001b[0m\u001b[0msympy\u001b[0m\u001b[1;33m.\u001b[0m\u001b[0mPoly\u001b[0m\u001b[1;33m(\u001b[0m\u001b[1;33m-\u001b[0m\u001b[0mx\u001b[0m\u001b[1;33m**\u001b[0m\u001b[1;36m8\u001b[0m\u001b[1;33m/\u001b[0m\u001b[1;36m3\u001b[0m \u001b[1;33m-\u001b[0m \u001b[1;36m2\u001b[0m\u001b[1;33m*\u001b[0m\u001b[0mx\u001b[0m\u001b[1;33m**\u001b[0m\u001b[1;36m2\u001b[0m\u001b[1;33m/\u001b[0m\u001b[1;36m3\u001b[0m \u001b[1;33m+\u001b[0m \u001b[1;36m1\u001b[0m\u001b[1;33m,\u001b[0m\u001b[0mdomain\u001b[0m\u001b[1;33m=\u001b[0m\u001b[0msympy\u001b[0m\u001b[1;33m.\u001b[0m\u001b[0mQQ\u001b[0m\u001b[1;33m)\u001b[0m\u001b[1;33m)\u001b[0m\u001b[1;33m\u001b[0m\u001b[1;33m\u001b[0m\u001b[0m\n\u001b[0m",
      "\u001b[1;31mTypeError\u001b[0m: 'Add' object is not callable"
     ]
    }
   ],
   "source": [
    "# Marks: 6\n",
    "from nose.tools import assert_equal\n",
    "import sympy\n",
    "x, y = sympy.symbols('x,y')\n",
    "assert_equal(S(x),sympy.Poly(-x**8/3 - 2*x**2/3 + 1,domain=sympy.QQ))\n"
   ]
  },
  {
   "cell_type": "code",
   "execution_count": null,
   "metadata": {
    "deletable": false,
    "editable": false,
    "nbgrader": {
     "cell_type": "code",
     "checksum": "f95bde9d7665494a78f1bf89ca3eeb9a",
     "grade": true,
     "grade_id": "cell-f7d7cf3883847bda",
     "locked": true,
     "points": 5,
     "schema_version": 3,
     "solution": false,
     "task": false
    }
   },
   "outputs": [],
   "source": [
    "# Marks: 6\n",
    "from nose.tools import assert_equal\n",
    "x, y = sympy.symbols('x,y')\n",
    "assert_equal(D(x,1),sympy.Poly(-8/3*x**7 - 4/3*x, x, domain=sympy.QQ))"
   ]
  },
  {
   "cell_type": "code",
   "execution_count": null,
   "metadata": {
    "deletable": false,
    "editable": false,
    "nbgrader": {
     "cell_type": "code",
     "checksum": "c1793f3116aca14f29424c463b7a012a",
     "grade": true,
     "grade_id": "cell-6b2427e752a17691",
     "locked": true,
     "points": 5,
     "schema_version": 3,
     "solution": false,
     "task": false
    }
   },
   "outputs": [],
   "source": [
    "# Marks: 6\n",
    "from nose.tools import assert_equal"
   ]
  },
  {
   "cell_type": "code",
   "execution_count": null,
   "metadata": {
    "deletable": false,
    "editable": false,
    "nbgrader": {
     "cell_type": "code",
     "checksum": "fb349fd8c63c4e5e1e4bb48ef0ae4bab",
     "grade": true,
     "grade_id": "cell-3d5d93b52065bca7",
     "locked": true,
     "points": 5,
     "schema_version": 3,
     "solution": false,
     "task": false
    }
   },
   "outputs": [],
   "source": [
    "# Marks: 6\n",
    "from nose.tools import assert_equal\n",
    "x, y = sympy.symbols('x,y')\n",
    "assert_equal(D(x,9),sympy.Poly(0,x,domain=sympy.QQ))"
   ]
  },
  {
   "cell_type": "code",
   "execution_count": null,
   "metadata": {
    "deletable": false,
    "editable": false,
    "nbgrader": {
     "cell_type": "code",
     "checksum": "56ed0326e44c2e3f457500c1787b1f9e",
     "grade": true,
     "grade_id": "cell-f49b5de60e53b495",
     "locked": true,
     "points": 5,
     "schema_version": 3,
     "solution": false,
     "task": false
    }
   },
   "outputs": [],
   "source": [
    "# Marks: 6"
   ]
  },
  {
   "cell_type": "code",
   "execution_count": null,
   "metadata": {
    "deletable": false,
    "editable": false,
    "nbgrader": {
     "cell_type": "code",
     "checksum": "c9d1b81f62caceafb887b7ac4cf88cb8",
     "grade": true,
     "grade_id": "cell-c6a709dbc1b13f7c",
     "locked": true,
     "points": 5,
     "schema_version": 3,
     "solution": false,
     "task": false
    }
   },
   "outputs": [],
   "source": [
    "# Marks: 6\n",
    "from nose.tools import assert_equal\n",
    "x, y = sympy.symbols('x,y')\n",
    "assert_equal(T(sympy.Rational(1,2)),sympy.Rational(6527,13824))"
   ]
  }
 ],
 "metadata": {
  "kernelspec": {
   "display_name": "Python 3",
   "language": "python",
   "name": "python3"
  },
  "language_info": {
   "codemirror_mode": {
    "name": "ipython",
    "version": 3
   },
   "file_extension": ".py",
   "mimetype": "text/x-python",
   "name": "python",
   "nbconvert_exporter": "python",
   "pygments_lexer": "ipython3",
   "version": "3.8.8"
  }
 },
 "nbformat": 4,
 "nbformat_minor": 4
}
