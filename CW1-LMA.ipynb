{
 "cells": [
  {
   "cell_type": "markdown",
   "metadata": {
    "deletable": false,
    "editable": false,
    "nbgrader": {
     "cell_type": "markdown",
     "checksum": "2fa53f1d386eae1a56d200347018e48b",
     "grade": false,
     "grade_id": "cell-731ac646155705ac",
     "locked": true,
     "schema_version": 3,
     "solution": false,
     "task": false
    }
   },
   "source": [
    "# Coursework 1 - LMA  #\n",
    "\n",
    "This question is associated with the core module Linear Mathematics (LMA).\n",
    "\n",
    "### Marks \n",
    "- There are 3 subquestions, each is worth 30 marks.\n",
    "- The number of marks asssociated with test-cell is indicated in a comment at the top of that cell.\n",
    "- The number of marks associated to a manually marked taks. (like drawing a graph) is indicated in the text immediately above this cell. \n",
    "\n",
    "#### How to Answer\n",
    "Write your code in the \"answer\" cell where it says \"# YOUR CODE HERE\"\n",
    "and remove both the line \"# YOUR CODE HERE\" and the line \"raise NotImplementedError()\"\n",
    "\n",
    "**Important**: Do not change the name or remove the existing function and write all your code \"inside\" the existing function, i.e. with at least one-tab's indentation.\n",
    "\n",
    "\n",
    "When you have written your code you should evaluate the cell and then evaluate the \"Test\" cells following it. If you don't see any errors then your code is (hopefully) correct and you can go on to the next question. \n",
    "\n",
    "If you see some errors then you have to go back and edit your code and try to fix the \"bug\". \n",
    "\n",
    "## Introduction\n",
    "\n",
    "For this question we will deal with geometry of the plane and we will use tuples to denote points and vectors. \n",
    "More precisely, if $\\bf{v}$ is a vector or point in the plane we represent it by the tuple of coordinates $\\bf{v}=(x,y)$. A similar representation can of course be used for vectors in arbitrary dimensions. \n",
    "\n",
    "We know that a straight line $L$ in the plane is uniquely determined by either of the following:\n",
    "\n",
    "- Two different points $P$ and $Q$ that lie on the line. \n",
    "- A point $P$ on the line together with a direction vector $\\bf{v}$\n",
    "\n",
    "and we will make use of both of these definitions. \n",
    "\n",
    "**a)**\n",
    "Write a function that computes the scalar product of two vectors of arbitrary but equal length.  \n",
    "The function should Raise a ValueError error if the input are not tuples of equal length containing integers or floats. "
   ]
  },
  {
   "cell_type": "code",
   "execution_count": 1,
   "metadata": {
    "deletable": false,
    "nbgrader": {
     "cell_type": "code",
     "checksum": "68e95f24a48f18b9deed1554656677ee",
     "grade": false,
     "grade_id": "cell-928b75d38d6fe5f1",
     "locked": false,
     "schema_version": 3,
     "solution": true,
     "task": false
    }
   },
   "outputs": [],
   "source": [
    "def scalar_product(v1,v2):\n",
    "    r\"\"\"\n",
    "    Calculate the scalar (dot) product between two vectors, v1 and v2, of arbitrary length.\n",
    "    \"\"\"\n",
    "    # YOUR CODE HERE\n",
    "    assert type(v1) == tuple and type(v2) == tuple and len(v1) == len(v2)\n",
    "    v_dot = 0\n",
    "    for x in range(len(v1)):\n",
    "        v_dot += v1[x]*v2[x]\n",
    "    \n",
    "    return v_dot\n",
    "    raise NotImplementedError()\n"
   ]
  },
  {
   "cell_type": "code",
   "execution_count": null,
   "metadata": {},
   "outputs": [],
   "source": []
  },
  {
   "cell_type": "code",
   "execution_count": 2,
   "metadata": {
    "deletable": false,
    "editable": false,
    "nbgrader": {
     "cell_type": "code",
     "checksum": "cb9aca43b9950770ea81c17b15f59064",
     "grade": true,
     "grade_id": "cell-ce688c52a91885f5",
     "locked": true,
     "points": 5,
     "schema_version": 3,
     "solution": false,
     "task": false
    }
   },
   "outputs": [],
   "source": [
    "# [5 marks]\n",
    "from nose.tools import assert_equal\n",
    "assert_equal(scalar_product((1,2,0),(-2,1,-1)),0)"
   ]
  },
  {
   "cell_type": "code",
   "execution_count": 3,
   "metadata": {
    "deletable": false,
    "editable": false,
    "nbgrader": {
     "cell_type": "code",
     "checksum": "d24d21139ae4c7ad414b0e3e949331a1",
     "grade": true,
     "grade_id": "cell-0799593c3983ba38",
     "locked": true,
     "points": 5,
     "schema_version": 3,
     "solution": false,
     "task": false
    }
   },
   "outputs": [],
   "source": [
    "# [5 marks]\n",
    "from nose.tools import assert_equal\n",
    "assert_equal(scalar_product((1,2,1),(-2,1,-1)),-1)"
   ]
  },
  {
   "cell_type": "code",
   "execution_count": 4,
   "metadata": {
    "deletable": false,
    "editable": false,
    "nbgrader": {
     "cell_type": "code",
     "checksum": "d2a4018a7a177303e5eeb94b8731f93a",
     "grade": true,
     "grade_id": "cell-f475927cdf9d0677",
     "locked": true,
     "points": 5,
     "schema_version": 3,
     "solution": false,
     "task": false
    }
   },
   "outputs": [],
   "source": [
    "# [5 marks]\n",
    "from nose.tools import assert_equal\n",
    "# This cell contains hidden tests.\n"
   ]
  },
  {
   "cell_type": "code",
   "execution_count": 5,
   "metadata": {
    "deletable": false,
    "editable": false,
    "nbgrader": {
     "cell_type": "code",
     "checksum": "16e56af3a86edc4eff58a044dbd386cc",
     "grade": true,
     "grade_id": "cell-fc7bf5c03189a60d",
     "locked": true,
     "points": 5,
     "schema_version": 3,
     "solution": false,
     "task": false
    }
   },
   "outputs": [],
   "source": [
    "# [5 marks]\n",
    "from nose.tools import assert_equal\n",
    "# This cell contains hidden tests.\n"
   ]
  },
  {
   "cell_type": "code",
   "execution_count": 6,
   "metadata": {
    "deletable": false,
    "editable": false,
    "nbgrader": {
     "cell_type": "code",
     "checksum": "9670105d98ef3a22d427e9f86b6fd92e",
     "grade": true,
     "grade_id": "cell-294594a5f5da639e",
     "locked": true,
     "points": 5,
     "schema_version": 3,
     "solution": false,
     "task": false
    }
   },
   "outputs": [
    {
     "ename": "AssertionError",
     "evalue": "",
     "output_type": "error",
     "traceback": [
      "\u001b[1;31m---------------------------------------------------------------------------\u001b[0m",
      "\u001b[1;31mAssertionError\u001b[0m                            Traceback (most recent call last)",
      "\u001b[1;32m<ipython-input-6-33f91e855ce2>\u001b[0m in \u001b[0;36m<module>\u001b[1;34m\u001b[0m\n\u001b[0;32m      2\u001b[0m \u001b[1;32mfrom\u001b[0m \u001b[0mnose\u001b[0m\u001b[1;33m.\u001b[0m\u001b[0mtools\u001b[0m \u001b[1;32mimport\u001b[0m \u001b[0massert_raises\u001b[0m\u001b[1;33m\u001b[0m\u001b[1;33m\u001b[0m\u001b[0m\n\u001b[0;32m      3\u001b[0m \u001b[1;31m# Check that a ValueError is raised if the input is not tuples\u001b[0m\u001b[1;33m\u001b[0m\u001b[1;33m\u001b[0m\u001b[1;33m\u001b[0m\u001b[0m\n\u001b[1;32m----> 4\u001b[1;33m \u001b[0massert_raises\u001b[0m\u001b[1;33m(\u001b[0m\u001b[0mValueError\u001b[0m\u001b[1;33m,\u001b[0m\u001b[0mscalar_product\u001b[0m\u001b[1;33m,\u001b[0m\u001b[1;36m1\u001b[0m\u001b[1;33m,\u001b[0m\u001b[1;36m2\u001b[0m\u001b[1;33m)\u001b[0m \u001b[1;31m# not tuples as inout\u001b[0m\u001b[1;33m\u001b[0m\u001b[1;33m\u001b[0m\u001b[0m\n\u001b[0m",
      "\u001b[1;32m~\\anaconda3\\lib\\unittest\\case.py\u001b[0m in \u001b[0;36massertRaises\u001b[1;34m(self, expected_exception, *args, **kwargs)\u001b[0m\n\u001b[0;32m    814\u001b[0m         \u001b[0mcontext\u001b[0m \u001b[1;33m=\u001b[0m \u001b[0m_AssertRaisesContext\u001b[0m\u001b[1;33m(\u001b[0m\u001b[0mexpected_exception\u001b[0m\u001b[1;33m,\u001b[0m \u001b[0mself\u001b[0m\u001b[1;33m)\u001b[0m\u001b[1;33m\u001b[0m\u001b[1;33m\u001b[0m\u001b[0m\n\u001b[0;32m    815\u001b[0m         \u001b[1;32mtry\u001b[0m\u001b[1;33m:\u001b[0m\u001b[1;33m\u001b[0m\u001b[1;33m\u001b[0m\u001b[0m\n\u001b[1;32m--> 816\u001b[1;33m             \u001b[1;32mreturn\u001b[0m \u001b[0mcontext\u001b[0m\u001b[1;33m.\u001b[0m\u001b[0mhandle\u001b[0m\u001b[1;33m(\u001b[0m\u001b[1;34m'assertRaises'\u001b[0m\u001b[1;33m,\u001b[0m \u001b[0margs\u001b[0m\u001b[1;33m,\u001b[0m \u001b[0mkwargs\u001b[0m\u001b[1;33m)\u001b[0m\u001b[1;33m\u001b[0m\u001b[1;33m\u001b[0m\u001b[0m\n\u001b[0m\u001b[0;32m    817\u001b[0m         \u001b[1;32mfinally\u001b[0m\u001b[1;33m:\u001b[0m\u001b[1;33m\u001b[0m\u001b[1;33m\u001b[0m\u001b[0m\n\u001b[0;32m    818\u001b[0m             \u001b[1;31m# bpo-23890: manually break a reference cycle\u001b[0m\u001b[1;33m\u001b[0m\u001b[1;33m\u001b[0m\u001b[1;33m\u001b[0m\u001b[0m\n",
      "\u001b[1;32m~\\anaconda3\\lib\\unittest\\case.py\u001b[0m in \u001b[0;36mhandle\u001b[1;34m(self, name, args, kwargs)\u001b[0m\n\u001b[0;32m    200\u001b[0m                 \u001b[0mself\u001b[0m\u001b[1;33m.\u001b[0m\u001b[0mobj_name\u001b[0m \u001b[1;33m=\u001b[0m \u001b[0mstr\u001b[0m\u001b[1;33m(\u001b[0m\u001b[0mcallable_obj\u001b[0m\u001b[1;33m)\u001b[0m\u001b[1;33m\u001b[0m\u001b[1;33m\u001b[0m\u001b[0m\n\u001b[0;32m    201\u001b[0m             \u001b[1;32mwith\u001b[0m \u001b[0mself\u001b[0m\u001b[1;33m:\u001b[0m\u001b[1;33m\u001b[0m\u001b[1;33m\u001b[0m\u001b[0m\n\u001b[1;32m--> 202\u001b[1;33m                 \u001b[0mcallable_obj\u001b[0m\u001b[1;33m(\u001b[0m\u001b[1;33m*\u001b[0m\u001b[0margs\u001b[0m\u001b[1;33m,\u001b[0m \u001b[1;33m**\u001b[0m\u001b[0mkwargs\u001b[0m\u001b[1;33m)\u001b[0m\u001b[1;33m\u001b[0m\u001b[1;33m\u001b[0m\u001b[0m\n\u001b[0m\u001b[0;32m    203\u001b[0m         \u001b[1;32mfinally\u001b[0m\u001b[1;33m:\u001b[0m\u001b[1;33m\u001b[0m\u001b[1;33m\u001b[0m\u001b[0m\n\u001b[0;32m    204\u001b[0m             \u001b[1;31m# bpo-23890: manually break a reference cycle\u001b[0m\u001b[1;33m\u001b[0m\u001b[1;33m\u001b[0m\u001b[1;33m\u001b[0m\u001b[0m\n",
      "\u001b[1;32m<ipython-input-1-7b358f537f12>\u001b[0m in \u001b[0;36mscalar_product\u001b[1;34m(***failed resolving arguments***)\u001b[0m\n\u001b[0;32m      4\u001b[0m     \"\"\"\n\u001b[0;32m      5\u001b[0m     \u001b[1;31m# YOUR CODE HERE\u001b[0m\u001b[1;33m\u001b[0m\u001b[1;33m\u001b[0m\u001b[1;33m\u001b[0m\u001b[0m\n\u001b[1;32m----> 6\u001b[1;33m     \u001b[1;32massert\u001b[0m \u001b[0mtype\u001b[0m\u001b[1;33m(\u001b[0m\u001b[0mv1\u001b[0m\u001b[1;33m)\u001b[0m \u001b[1;33m==\u001b[0m \u001b[0mtuple\u001b[0m \u001b[1;32mand\u001b[0m \u001b[0mtype\u001b[0m\u001b[1;33m(\u001b[0m\u001b[0mv2\u001b[0m\u001b[1;33m)\u001b[0m \u001b[1;33m==\u001b[0m \u001b[0mtuple\u001b[0m \u001b[1;32mand\u001b[0m \u001b[0mlen\u001b[0m\u001b[1;33m(\u001b[0m\u001b[0mv1\u001b[0m\u001b[1;33m)\u001b[0m \u001b[1;33m==\u001b[0m \u001b[0mlen\u001b[0m\u001b[1;33m(\u001b[0m\u001b[0mv2\u001b[0m\u001b[1;33m)\u001b[0m\u001b[1;33m\u001b[0m\u001b[1;33m\u001b[0m\u001b[0m\n\u001b[0m\u001b[0;32m      7\u001b[0m     \u001b[0mv_dot\u001b[0m \u001b[1;33m=\u001b[0m \u001b[1;36m0\u001b[0m\u001b[1;33m\u001b[0m\u001b[1;33m\u001b[0m\u001b[0m\n\u001b[0;32m      8\u001b[0m     \u001b[1;32mfor\u001b[0m \u001b[0mx\u001b[0m \u001b[1;32min\u001b[0m \u001b[0mrange\u001b[0m\u001b[1;33m(\u001b[0m\u001b[0mlen\u001b[0m\u001b[1;33m(\u001b[0m\u001b[0mv1\u001b[0m\u001b[1;33m)\u001b[0m\u001b[1;33m)\u001b[0m\u001b[1;33m:\u001b[0m\u001b[1;33m\u001b[0m\u001b[1;33m\u001b[0m\u001b[0m\n",
      "\u001b[1;31mAssertionError\u001b[0m: "
     ]
    }
   ],
   "source": [
    "# [5 marks]\n",
    "from nose.tools import assert_raises\n",
    "# Check that a ValueError is raised if the input is not tuples\n",
    "assert_raises(ValueError,scalar_product,1,2) # not tuples as inout"
   ]
  },
  {
   "cell_type": "code",
   "execution_count": 7,
   "metadata": {
    "deletable": false,
    "editable": false,
    "nbgrader": {
     "cell_type": "code",
     "checksum": "0b076b1a5205c704e25bc15609b636b5",
     "grade": true,
     "grade_id": "cell-d70098b1237e1380",
     "locked": true,
     "points": 5,
     "schema_version": 3,
     "solution": false,
     "task": false
    }
   },
   "outputs": [],
   "source": [
    "# [5 marks]\n",
    "from nose.tools import assert_raises\n",
    "# This cell contains hidden tests."
   ]
  },
  {
   "cell_type": "markdown",
   "metadata": {
    "deletable": false,
    "editable": false,
    "nbgrader": {
     "cell_type": "markdown",
     "checksum": "40108e942b5a3446d1245a56b672f8cb",
     "grade": false,
     "grade_id": "cell-cbab3fd71e7a3728",
     "locked": true,
     "schema_version": 3,
     "solution": false,
     "task": false
    }
   },
   "source": [
    "**b)** Write a program that takes as input two points $P$ and $Q$ in the plane and returns a vector that is perpendicular to the line through $P$ and $Q$ \n"
   ]
  },
  {
   "cell_type": "code",
   "execution_count": 8,
   "metadata": {
    "deletable": false,
    "nbgrader": {
     "cell_type": "code",
     "checksum": "e45e65864f582dfd66efde36752d131a",
     "grade": false,
     "grade_id": "cell-4d0f9c5c5f7a0541",
     "locked": false,
     "schema_version": 3,
     "solution": true,
     "task": false
    }
   },
   "outputs": [],
   "source": [
    "import math\n",
    "def vector_perpendicular(P,Q):\n",
    "    \"\"\"\n",
    "    Find a vector that is perpendicular to the line between two points P and Q in the plane.  \n",
    "    \"\"\"\n",
    "    # YOUR CODE HERE\n",
    "    PQ = (Q[0]-P[0],Q[1]-P[1])\n",
    "    for a in range(5000):\n",
    "        for b in range(5000):\n",
    "            if a != 0 or b != 0:\n",
    "                if PQ[0]*a + PQ[1]*b == 0:\n",
    "                    return (a,b)\n",
    "                if PQ[0]*(-a) + PQ[1]*b == 0:\n",
    "                    return ((-a),b)\n",
    "                if PQ[0]*a + PQ[1]*(-b) == 0:\n",
    "                    return (a,(-b))\n",
    "                if PQ[0]*(-a) + PQ[1]*(-b) == 0:\n",
    "                    return ((-a),(-b))\n",
    "    raise NotImplementedError()"
   ]
  },
  {
   "cell_type": "code",
   "execution_count": 9,
   "metadata": {
    "deletable": false,
    "editable": false,
    "nbgrader": {
     "cell_type": "code",
     "checksum": "1b5f8bfbb654e041cc9aee1028977e77",
     "grade": false,
     "grade_id": "cell-4b06c567c8f45773",
     "locked": true,
     "schema_version": 3,
     "solution": false,
     "task": false
    }
   },
   "outputs": [],
   "source": [
    "# This function is used in the tests below to check whether or not two vectors are orthogonal.\n",
    "# If you run the tests on your own make sure to run this cell first. \n",
    "def are_orthogonal(v,w):\n",
    "    \"\"\"\n",
    "    Simple check to see if the two vectors v and w are orthogonal up to precision 1e-10.\n",
    "    \"\"\"\n",
    "    return abs(v[0]*w[0]+v[1]*w[1])<1e-10"
   ]
  },
  {
   "cell_type": "code",
   "execution_count": 10,
   "metadata": {
    "deletable": false,
    "editable": false,
    "nbgrader": {
     "cell_type": "code",
     "checksum": "ad5a3f95e83112bc90fad1d9ba780d23",
     "grade": true,
     "grade_id": "cell-e72bd17faa23394d",
     "locked": true,
     "points": 5,
     "schema_version": 3,
     "solution": false,
     "task": false
    }
   },
   "outputs": [],
   "source": [
    "# [5 marks]\n",
    "# Test that checks the function produces a vector that is orthogonal to the line.\n",
    "from nose.tools import assert_equal,assert_almost_equal\n",
    "assert_equal( are_orthogonal(vector_perpendicular((0,1),(1,1)),(1,0)),True) \n"
   ]
  },
  {
   "cell_type": "code",
   "execution_count": 11,
   "metadata": {
    "deletable": false,
    "editable": false,
    "nbgrader": {
     "cell_type": "code",
     "checksum": "b3ec2b82bdc35540ee31fb083d90eb6c",
     "grade": true,
     "grade_id": "cell-52b3bb6c6f56aee9",
     "locked": true,
     "points": 5,
     "schema_version": 3,
     "solution": false,
     "task": false
    }
   },
   "outputs": [],
   "source": [
    "# [5 marks]\n",
    "# Test that checks the function produces a vector that is orthogonal to the line.\n",
    "from nose.tools import assert_equal,assert_almost_equal\n",
    "assert_equal( are_orthogonal(vector_perpendicular((1,2),(1,3)),(0,1)),True)"
   ]
  },
  {
   "cell_type": "code",
   "execution_count": 12,
   "metadata": {
    "deletable": false,
    "editable": false,
    "nbgrader": {
     "cell_type": "code",
     "checksum": "e501d34f97835ed983145653fab53b38",
     "grade": true,
     "grade_id": "cell-4acea58acdf1b264",
     "locked": true,
     "points": 5,
     "schema_version": 3,
     "solution": false,
     "task": false
    }
   },
   "outputs": [],
   "source": [
    "# [5 marks]\n",
    "# Test that checks the function produces a vector that is orthogonal to the line.\n",
    "from nose.tools import assert_equal,assert_almost_equal\n",
    "assert_equal( are_orthogonal(vector_perpendicular((1,0),(1,1)),(0,1)),True)\n"
   ]
  },
  {
   "cell_type": "code",
   "execution_count": 13,
   "metadata": {
    "deletable": false,
    "editable": false,
    "nbgrader": {
     "cell_type": "code",
     "checksum": "ce722c7581a247d647bc71ca9c45a6f1",
     "grade": true,
     "grade_id": "cell-6d8b35c7a35fa33b",
     "locked": true,
     "points": 5,
     "schema_version": 3,
     "solution": false,
     "task": false
    }
   },
   "outputs": [],
   "source": [
    "# [5 marks]\n",
    "# Test that checks the function produces a vector that is orthogonal to the line.\n",
    "from nose.tools import assert_equal,assert_almost_equal\n",
    "# This cell contains hidden tests."
   ]
  },
  {
   "cell_type": "code",
   "execution_count": 14,
   "metadata": {
    "deletable": false,
    "editable": false,
    "nbgrader": {
     "cell_type": "code",
     "checksum": "3261504bb583a1f82871dd924d091ea0",
     "grade": true,
     "grade_id": "cell-321bd15b150dd805",
     "locked": true,
     "points": 5,
     "schema_version": 3,
     "solution": false,
     "task": false
    }
   },
   "outputs": [],
   "source": [
    "# [5 marks]\n",
    "from nose.tools import assert_equal,assert_almost_equal\n",
    "# This cell contains hidden tests."
   ]
  },
  {
   "cell_type": "code",
   "execution_count": 15,
   "metadata": {
    "deletable": false,
    "editable": false,
    "nbgrader": {
     "cell_type": "code",
     "checksum": "0cbedf887c2c00e75cfbb231e56bac67",
     "grade": true,
     "grade_id": "cell-5ce71af93ba476c0",
     "locked": true,
     "points": 5,
     "schema_version": 3,
     "solution": false,
     "task": false
    }
   },
   "outputs": [],
   "source": [
    "# [5 marks]\n",
    "from nose.tools import assert_equal,assert_almost_equal\n",
    "# This cell contains hidden tests."
   ]
  },
  {
   "cell_type": "markdown",
   "metadata": {
    "deletable": false,
    "editable": false,
    "nbgrader": {
     "cell_type": "markdown",
     "checksum": "71834d63485d1017a81543b533b2cf2e",
     "grade": false,
     "grade_id": "cell-f260d5f22e10e3a5",
     "locked": true,
     "schema_version": 3,
     "solution": false,
     "task": false
    }
   },
   "source": [
    "**c)** \n",
    "Write a function called `intersection_lines` that computes the point of intersection between two lines $L_1$ and $L_2$ in the plane. Both lines are given in the format $(P,v)$ where $P$ is a point and $v$ a vector. We use tuples of length 2 to represent both the point and the vector so the input parameter is a tuple of length 2 with each element being a tuple of length 2.  \n",
    "\n",
    "The function should return the point of intersection as a tuple (x,y) where x and y are floats. \n",
    "\n",
    "If the lines are parallell  so that they don't intersect then the function should raise a ValueError.\n",
    "\n",
    "**Hint for the calculation**\n",
    "If we are given the lines in parameter format\n",
    "\n",
    "$$\n",
    "L_1: s\\mapsto  P_1 + s\\mathbf{v_1} \\quad L_2: t\\mapsto P_2 + t\\mathbf{v_2}\n",
    "$$\n",
    "and want to find their intersection point then we need to solve the linear system of equations\n",
    " $L_1(s)=L_2(t)$ for $s$ and $t$.\n",
    "If $P_i=(a_i,c_i)$ and $\\mathbf{v}_i = (b_i,d_i)$ then the system of equations take the form:\n",
    "$$\n",
    "   a_1 + b_1 s = a_2 + b_2 t\\\\\n",
    "   c_1 + d_1 s = c_2 + d_2 t\n",
    "$$\n",
    "and the aim is to find $s$ and $t$ in terms of the other coefficients. \n",
    "You will also need to find out how you can tell from the coefficients in the linear equation if the two lines are parallel or not.\n",
    "\n",
    "It will be very helpful to work out the equations on a piece of paper instead of trying to program it directly. "
   ]
  },
  {
   "cell_type": "code",
   "execution_count": 16,
   "metadata": {
    "deletable": false,
    "nbgrader": {
     "cell_type": "code",
     "checksum": "1e0d6e6572845a5da65d15c4c9549ec6",
     "grade": false,
     "grade_id": "cell-447639baabe020c7",
     "locked": false,
     "schema_version": 3,
     "solution": true,
     "task": false
    }
   },
   "outputs": [],
   "source": [
    "def intersection_lines(L1,L2):\n",
    "    \"\"\"\n",
    "    Find the intersection point of the two lines L1 and L2 given by two tuples L1=(P1,v1) and L2=(P2,v2) \n",
    "    where the points P1, P2 and the vectors v1 and v2 are all represented by tuples of length 2. \n",
    "    \n",
    "    If the vectors v1 and v2 are parallell then we raise an assertion error. \n",
    "    \"\"\"\n",
    "    # YOUR CODE HERE\n",
    "    assert L1[1] != L2[1]\n",
    "    if L1[1][0] == 0 and L2[1][0] == 0:\n",
    "        assert 1==1\n",
    "    if L1[1][1] == 0 and L2[1][1] == 0:\n",
    "        assert 1==1\n",
    "    if L1[1][0] != 0 and L1[1][1] != 0 and L2[1][0] != 0 and L2[1][1] != 0:\n",
    "        assert L1[1][0]/L2[1][0] != L1[1][1]/L2[1][1]\n",
    "    \n",
    "    a1=L1[0][0]\n",
    "    b1=L1[1][0]\n",
    "    c1=L1[0][1]\n",
    "    d1=L1[1][1]\n",
    "    a2=L2[0][0]\n",
    "    b2=L2[1][0]\n",
    "    c2=L2[0][1]\n",
    "    d2=L2[1][1]\n",
    "\n",
    "        \n",
    "    t=(a1*d1-a2*d1+b1*c2-b1*c1)/(b2*d1-b1*d2)\n",
    "    s=(a2+b2*t-a1)/b1\n",
    "    return ((float(a1+s*b1)),(float(c1+d1*s)))\n",
    "    raise NotImplementedError()\n"
   ]
  },
  {
   "cell_type": "code",
   "execution_count": 17,
   "metadata": {
    "deletable": false,
    "editable": false,
    "nbgrader": {
     "cell_type": "code",
     "checksum": "0b5948c2478e099ca92fd8c1e949938f",
     "grade": true,
     "grade_id": "cell-8bfb239148e0fa59",
     "locked": true,
     "points": 5,
     "schema_version": 3,
     "solution": false,
     "task": false
    }
   },
   "outputs": [],
   "source": [
    "# [5 marks]\n",
    "from nose.tools import assert_equal\n",
    "assert_equal(intersection_lines(((1,1),(1,1)),((1,1),(0,1))),(1.0,1.0))\n",
    "   "
   ]
  },
  {
   "cell_type": "code",
   "execution_count": 18,
   "metadata": {
    "deletable": false,
    "editable": false,
    "nbgrader": {
     "cell_type": "code",
     "checksum": "9d19d192e035f48afe7e95e9298f1f81",
     "grade": true,
     "grade_id": "cell-b39645ad4022234e",
     "locked": true,
     "points": 5,
     "schema_version": 3,
     "solution": false,
     "task": false
    }
   },
   "outputs": [],
   "source": [
    "# [5 marks]\n",
    "from nose.tools import assert_equal\n",
    "assert_equal(intersection_lines(((1,-2),(1,1)),((1,1),(0,1))),(1.0,-2.0))\n"
   ]
  },
  {
   "cell_type": "code",
   "execution_count": 19,
   "metadata": {
    "deletable": false,
    "editable": false,
    "nbgrader": {
     "cell_type": "code",
     "checksum": "4ba4cc762869742c6cdf641b2e921600",
     "grade": true,
     "grade_id": "cell-d17b1866346a67bf",
     "locked": true,
     "points": 5,
     "schema_version": 3,
     "solution": false,
     "task": false
    }
   },
   "outputs": [],
   "source": [
    "# [5 marks]\n",
    "from nose.tools import assert_equal\n",
    "# This cell contains hidden tests"
   ]
  },
  {
   "cell_type": "code",
   "execution_count": 20,
   "metadata": {
    "deletable": false,
    "editable": false,
    "nbgrader": {
     "cell_type": "code",
     "checksum": "57a5c487f8cf1eda7470452fbb20d8a9",
     "grade": true,
     "grade_id": "cell-172e2dad1bf9b89e",
     "locked": true,
     "points": 5,
     "schema_version": 3,
     "solution": false,
     "task": false
    }
   },
   "outputs": [],
   "source": [
    "# [5 marks]\n",
    "from nose.tools import assert_equal\n",
    "assert_equal(intersection_lines(((-1,1),(-1,1)),((1,1),(1,1))),(0,0))"
   ]
  },
  {
   "cell_type": "code",
   "execution_count": 21,
   "metadata": {
    "deletable": false,
    "editable": false,
    "nbgrader": {
     "cell_type": "code",
     "checksum": "516b80f93b9956131c2b9e441d3cf69c",
     "grade": true,
     "grade_id": "cell-2e0f6de4ff56da0c",
     "locked": true,
     "points": 5,
     "schema_version": 3,
     "solution": false,
     "task": false
    }
   },
   "outputs": [
    {
     "ename": "AssertionError",
     "evalue": "",
     "output_type": "error",
     "traceback": [
      "\u001b[1;31m---------------------------------------------------------------------------\u001b[0m",
      "\u001b[1;31mAssertionError\u001b[0m                            Traceback (most recent call last)",
      "\u001b[1;32m<ipython-input-21-69f8b8440115>\u001b[0m in \u001b[0;36m<module>\u001b[1;34m\u001b[0m\n\u001b[0;32m      1\u001b[0m \u001b[1;31m# [5 marks]\u001b[0m\u001b[1;33m\u001b[0m\u001b[1;33m\u001b[0m\u001b[1;33m\u001b[0m\u001b[0m\n\u001b[0;32m      2\u001b[0m \u001b[1;32mfrom\u001b[0m \u001b[0mnose\u001b[0m\u001b[1;33m.\u001b[0m\u001b[0mtools\u001b[0m \u001b[1;32mimport\u001b[0m \u001b[0massert_raises\u001b[0m\u001b[1;33m\u001b[0m\u001b[1;33m\u001b[0m\u001b[0m\n\u001b[1;32m----> 3\u001b[1;33m \u001b[0massert_raises\u001b[0m\u001b[1;33m(\u001b[0m\u001b[0mValueError\u001b[0m\u001b[1;33m,\u001b[0m\u001b[0mintersection_lines\u001b[0m\u001b[1;33m,\u001b[0m\u001b[1;33m(\u001b[0m\u001b[1;33m(\u001b[0m\u001b[1;36m1\u001b[0m\u001b[1;33m,\u001b[0m\u001b[1;36m0\u001b[0m\u001b[1;33m)\u001b[0m\u001b[1;33m,\u001b[0m\u001b[1;33m(\u001b[0m\u001b[1;36m0\u001b[0m\u001b[1;33m,\u001b[0m\u001b[1;36m1\u001b[0m\u001b[1;33m)\u001b[0m\u001b[1;33m)\u001b[0m\u001b[1;33m,\u001b[0m\u001b[1;33m(\u001b[0m\u001b[1;33m(\u001b[0m\u001b[1;36m1\u001b[0m\u001b[1;33m,\u001b[0m\u001b[1;36m1\u001b[0m\u001b[1;33m)\u001b[0m\u001b[1;33m,\u001b[0m\u001b[1;33m(\u001b[0m\u001b[1;36m0\u001b[0m\u001b[1;33m,\u001b[0m\u001b[1;36m1\u001b[0m\u001b[1;33m)\u001b[0m\u001b[1;33m)\u001b[0m\u001b[1;33m)\u001b[0m\u001b[1;33m\u001b[0m\u001b[1;33m\u001b[0m\u001b[0m\n\u001b[0m",
      "\u001b[1;32m~\\anaconda3\\lib\\unittest\\case.py\u001b[0m in \u001b[0;36massertRaises\u001b[1;34m(self, expected_exception, *args, **kwargs)\u001b[0m\n\u001b[0;32m    814\u001b[0m         \u001b[0mcontext\u001b[0m \u001b[1;33m=\u001b[0m \u001b[0m_AssertRaisesContext\u001b[0m\u001b[1;33m(\u001b[0m\u001b[0mexpected_exception\u001b[0m\u001b[1;33m,\u001b[0m \u001b[0mself\u001b[0m\u001b[1;33m)\u001b[0m\u001b[1;33m\u001b[0m\u001b[1;33m\u001b[0m\u001b[0m\n\u001b[0;32m    815\u001b[0m         \u001b[1;32mtry\u001b[0m\u001b[1;33m:\u001b[0m\u001b[1;33m\u001b[0m\u001b[1;33m\u001b[0m\u001b[0m\n\u001b[1;32m--> 816\u001b[1;33m             \u001b[1;32mreturn\u001b[0m \u001b[0mcontext\u001b[0m\u001b[1;33m.\u001b[0m\u001b[0mhandle\u001b[0m\u001b[1;33m(\u001b[0m\u001b[1;34m'assertRaises'\u001b[0m\u001b[1;33m,\u001b[0m \u001b[0margs\u001b[0m\u001b[1;33m,\u001b[0m \u001b[0mkwargs\u001b[0m\u001b[1;33m)\u001b[0m\u001b[1;33m\u001b[0m\u001b[1;33m\u001b[0m\u001b[0m\n\u001b[0m\u001b[0;32m    817\u001b[0m         \u001b[1;32mfinally\u001b[0m\u001b[1;33m:\u001b[0m\u001b[1;33m\u001b[0m\u001b[1;33m\u001b[0m\u001b[0m\n\u001b[0;32m    818\u001b[0m             \u001b[1;31m# bpo-23890: manually break a reference cycle\u001b[0m\u001b[1;33m\u001b[0m\u001b[1;33m\u001b[0m\u001b[1;33m\u001b[0m\u001b[0m\n",
      "\u001b[1;32m~\\anaconda3\\lib\\unittest\\case.py\u001b[0m in \u001b[0;36mhandle\u001b[1;34m(self, name, args, kwargs)\u001b[0m\n\u001b[0;32m    200\u001b[0m                 \u001b[0mself\u001b[0m\u001b[1;33m.\u001b[0m\u001b[0mobj_name\u001b[0m \u001b[1;33m=\u001b[0m \u001b[0mstr\u001b[0m\u001b[1;33m(\u001b[0m\u001b[0mcallable_obj\u001b[0m\u001b[1;33m)\u001b[0m\u001b[1;33m\u001b[0m\u001b[1;33m\u001b[0m\u001b[0m\n\u001b[0;32m    201\u001b[0m             \u001b[1;32mwith\u001b[0m \u001b[0mself\u001b[0m\u001b[1;33m:\u001b[0m\u001b[1;33m\u001b[0m\u001b[1;33m\u001b[0m\u001b[0m\n\u001b[1;32m--> 202\u001b[1;33m                 \u001b[0mcallable_obj\u001b[0m\u001b[1;33m(\u001b[0m\u001b[1;33m*\u001b[0m\u001b[0margs\u001b[0m\u001b[1;33m,\u001b[0m \u001b[1;33m**\u001b[0m\u001b[0mkwargs\u001b[0m\u001b[1;33m)\u001b[0m\u001b[1;33m\u001b[0m\u001b[1;33m\u001b[0m\u001b[0m\n\u001b[0m\u001b[0;32m    203\u001b[0m         \u001b[1;32mfinally\u001b[0m\u001b[1;33m:\u001b[0m\u001b[1;33m\u001b[0m\u001b[1;33m\u001b[0m\u001b[0m\n\u001b[0;32m    204\u001b[0m             \u001b[1;31m# bpo-23890: manually break a reference cycle\u001b[0m\u001b[1;33m\u001b[0m\u001b[1;33m\u001b[0m\u001b[1;33m\u001b[0m\u001b[0m\n",
      "\u001b[1;32m<ipython-input-16-c9b29fb9cf47>\u001b[0m in \u001b[0;36mintersection_lines\u001b[1;34m(***failed resolving arguments***)\u001b[0m\n\u001b[0;32m      7\u001b[0m     \"\"\"\n\u001b[0;32m      8\u001b[0m     \u001b[1;31m# YOUR CODE HERE\u001b[0m\u001b[1;33m\u001b[0m\u001b[1;33m\u001b[0m\u001b[1;33m\u001b[0m\u001b[0m\n\u001b[1;32m----> 9\u001b[1;33m     \u001b[1;32massert\u001b[0m \u001b[0mL1\u001b[0m\u001b[1;33m[\u001b[0m\u001b[1;36m1\u001b[0m\u001b[1;33m]\u001b[0m \u001b[1;33m!=\u001b[0m \u001b[0mL2\u001b[0m\u001b[1;33m[\u001b[0m\u001b[1;36m1\u001b[0m\u001b[1;33m]\u001b[0m\u001b[1;33m\u001b[0m\u001b[1;33m\u001b[0m\u001b[0m\n\u001b[0m\u001b[0;32m     10\u001b[0m     \u001b[1;32mif\u001b[0m \u001b[0mL1\u001b[0m\u001b[1;33m[\u001b[0m\u001b[1;36m1\u001b[0m\u001b[1;33m]\u001b[0m\u001b[1;33m[\u001b[0m\u001b[1;36m0\u001b[0m\u001b[1;33m]\u001b[0m \u001b[1;33m==\u001b[0m \u001b[1;36m0\u001b[0m \u001b[1;32mand\u001b[0m \u001b[0mL2\u001b[0m\u001b[1;33m[\u001b[0m\u001b[1;36m1\u001b[0m\u001b[1;33m]\u001b[0m\u001b[1;33m[\u001b[0m\u001b[1;36m0\u001b[0m\u001b[1;33m]\u001b[0m \u001b[1;33m==\u001b[0m \u001b[1;36m0\u001b[0m\u001b[1;33m:\u001b[0m\u001b[1;33m\u001b[0m\u001b[1;33m\u001b[0m\u001b[0m\n\u001b[0;32m     11\u001b[0m         \u001b[1;32massert\u001b[0m \u001b[1;36m1\u001b[0m\u001b[1;33m==\u001b[0m\u001b[1;36m1\u001b[0m\u001b[1;33m\u001b[0m\u001b[1;33m\u001b[0m\u001b[0m\n",
      "\u001b[1;31mAssertionError\u001b[0m: "
     ]
    }
   ],
   "source": [
    "# [5 marks]\n",
    "from nose.tools import assert_raises\n",
    "assert_raises(ValueError,intersection_lines,((1,0),(0,1)),((1,1),(0,1)))"
   ]
  },
  {
   "cell_type": "code",
   "execution_count": 22,
   "metadata": {
    "deletable": false,
    "editable": false,
    "nbgrader": {
     "cell_type": "code",
     "checksum": "29416e60c2472158f83af41f9df62781",
     "grade": true,
     "grade_id": "cell-11e17db173f166cb",
     "locked": true,
     "points": 5,
     "schema_version": 3,
     "solution": false,
     "task": false
    }
   },
   "outputs": [],
   "source": [
    "# [5 marks]\n",
    "from nose.tools import assert_raises\n",
    "# This cell contains hidden tests\n"
   ]
  }
 ],
 "metadata": {
  "kernelspec": {
   "display_name": "Python 3",
   "language": "python",
   "name": "python3"
  },
  "language_info": {
   "codemirror_mode": {
    "name": "ipython",
    "version": 3
   },
   "file_extension": ".py",
   "mimetype": "text/x-python",
   "name": "python",
   "nbconvert_exporter": "python",
   "pygments_lexer": "ipython3",
   "version": "3.8.8"
  }
 },
 "nbformat": 4,
 "nbformat_minor": 4
}
