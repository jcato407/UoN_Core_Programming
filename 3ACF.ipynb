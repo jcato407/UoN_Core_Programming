{
 "cells": [
  {
   "cell_type": "markdown",
   "metadata": {
    "deletable": false,
    "editable": false,
    "nbgrader": {
     "cell_type": "markdown",
     "checksum": "fba169c8517036cf2480c7121c5b62dc",
     "grade": false,
     "grade_id": "cell-93e294c23a20ade8",
     "locked": true,
     "schema_version": 3,
     "solution": false,
     "task": false
    }
   },
   "source": [
    "# Coursework 3 - ACF (Assessed) #\n",
    "\n",
    "This coursework corresponds to the Analytical and Computational foundations (ACF).\n",
    "\n",
    "### Marks \n",
    "- There are 3 subquestions, each worth 30 marks. \n",
    "- The marks are divided amongst different tests in each sub question.\n",
    "- The number of marks asssociated with an automated test-cell is indicated in a comment at the top of that cell. \n",
    "\n",
    "#### How to Answer\n",
    "Write your code in the \"answer\" cell where it says \"# YOUR CODE HERE\"\n",
    "and remove both the line \"# YOUR CODE HERE\" and the line \"raise NotImplementedError()\"\n",
    "\n",
    "**Important**: Do not change the name or remove the existing function, and write all your code \"inside\" the existing function, i.e. with at least one-tab's indentation.\n",
    "\n",
    "When you have written your code you should evaluate the cell and then evaluate the \"Test\" cells following it. If you don't see any errors then your code is (hopefully) correct and you can go on to the next question. \n",
    "\n",
    "If you see some errors then you have to go back and edit your code and try to fix the \"bug\". \n",
    "\n",
    "For all questions you are allowed to use any imported modules that you like.\n",
    "\n",
    "All plots should be done 'inline', in other words, do not use \"popup\" windows.\n",
    "\n"
   ]
  },
  {
   "attachments": {
    "image.png": {
     "image/png": "[encoded data removed]"
    }
   },
   "cell_type": "markdown",
   "metadata": {
    "deletable": false,
    "editable": false,
    "nbgrader": {
     "cell_type": "markdown",
     "checksum": "80ead1d8b6fb5c6905830ffc70e4645f",
     "grade": false,
     "grade_id": "cell-52e189986d51edc6",
     "locked": true,
     "schema_version": 3,
     "solution": false,
     "task": false
    }
   },
   "source": [
    "## Question 1 [ACF]\n",
    "It is possible to use different methods to compute approximations to $\\pi$. \n",
    "One way is to use a so-called Monte Carlo method which uses random numbers to estimate $\\pi$. \n",
    "Consider the figure below, which shows the unit disc inscribed in the square $[-1,1]\\times[-1,1]$.\n",
    "\n",
    "![image.png](attachment:image.png)\n",
    "\n",
    "Denote the areas of the square and disc $A_s$ and $A_d$, respectively. Then of course $A_s=4$ and $A_d=\\pi$ so \n",
    "\n",
    "$$\n",
    "\\frac{A_d}{A_s} = \\frac{\\pi}{4}.\n",
    "$$\n",
    "\n",
    "In the right-hand figure, a set of $N_{total}$ random points (uniformly distributed) have been plotted on the unit square. The points inside and outside the disc are coloured green and red, respectively. If the number of points inside the disc are denoted $N_{disc}$, then the ratio of $N_{disc}$ to $N_{total}$ is an approximation of the ratio of areas above, namely\n",
    "$$\n",
    "\\frac{N_{disc}}{N_{total}} \\approx \\frac{\\pi}{4} \\Rightarrow \\pi = 4 \\frac{N_{disc}}{N_{total}}.\n",
    "$$\n"
   ]
  },
  {
   "cell_type": "markdown",
   "metadata": {
    "deletable": false,
    "editable": false,
    "nbgrader": {
     "cell_type": "markdown",
     "checksum": "6746391e109567353e4c6214ed2d4085",
     "grade": false,
     "grade_id": "cell-7e252cfa575b19a4",
     "locked": true,
     "schema_version": 3,
     "solution": false,
     "task": false
    }
   },
   "source": [
    "**(a) [4 marks]** \n",
    "\n",
    "Write a function `estimate_pi_monte_carlo` which implements an algorithm for estimating $\\pi$ by generating a sequence of $N_{total}$ uniformly distributed random numbers in the square $[-1,1]\\times [-1,1]$, counting how many of those points land inside the unit circle, and then returning an approximation to $\\pi$ given by the formula above.\n",
    "\n",
    "The function should:\n",
    "- take the number 'Ntotal' as input and raise a ValueError if the input is not a positive integer;\n",
    "- return a rational number in the form of a `sympy.Rational`"
   ]
  },
  {
   "cell_type": "code",
   "execution_count": null,
   "metadata": {
    "deletable": false,
    "nbgrader": {
     "cell_type": "code",
     "checksum": "40fe78510993e7bcc150771b702d3665",
     "grade": false,
     "grade_id": "cell-f8768f98ae6eea2d",
     "locked": false,
     "schema_version": 3,
     "solution": true,
     "task": false
    }
   },
   "outputs": [],
   "source": [
    "import random\n",
    "import sympy\n",
    "def estimate_pi_monte_carlo(Ntotal):\n",
    "    # YOUR CODE HERE\n",
    "    raise NotImplementedError()\n",
    "    "
   ]
  },
  {
   "cell_type": "code",
   "execution_count": null,
   "metadata": {
    "deletable": false,
    "editable": false,
    "nbgrader": {
     "cell_type": "code",
     "checksum": "270034c87d8cde496c3df519130e0c9a",
     "grade": true,
     "grade_id": "cell-b600b1d60f339163",
     "locked": true,
     "points": 6,
     "schema_version": 3,
     "solution": false,
     "task": false
    }
   },
   "outputs": [],
   "source": [
    "# 6 mark\n",
    "from nose.tools import assert_equal\n",
    "import sympy\n",
    "# Test that we return a float\n",
    "assert_equal(type(estimate_pi_monte_carlo(100)),sympy.Rational)"
   ]
  },
  {
   "cell_type": "code",
   "execution_count": null,
   "metadata": {
    "deletable": false,
    "editable": false,
    "nbgrader": {
     "cell_type": "code",
     "checksum": "18d6269ef2265727c19b2ea5cb731016",
     "grade": true,
     "grade_id": "cell-40a19e6dd2dc005e",
     "locked": true,
     "points": 6,
     "schema_version": 3,
     "solution": false,
     "task": false
    }
   },
   "outputs": [],
   "source": [
    "# 6 marks\n",
    "from nose.tools import assert_almost_equal\n",
    "import math\n",
    "# Check that the correct value is output\n",
    "# Correct approximations might be bad by chance so we put in an error tolerance of 0.5\n",
    "assert_almost_equal(estimate_pi_monte_carlo(100000),math.pi,delta=0.5) "
   ]
  },
  {
   "cell_type": "code",
   "execution_count": null,
   "metadata": {
    "deletable": false,
    "editable": false,
    "nbgrader": {
     "cell_type": "code",
     "checksum": "45b3579890f7603c4c1d0cacb754066f",
     "grade": true,
     "grade_id": "cell-d372fe6a1875cc31",
     "locked": true,
     "points": 6,
     "schema_version": 3,
     "solution": false,
     "task": false
    }
   },
   "outputs": [],
   "source": [
    "# 6 mark\n",
    "from nose.tools import assert_raises\n",
    "# Check that ValueError is raised on wrong input\n",
    "assert_raises(ValueError,estimate_pi_monte_carlo,1.0)"
   ]
  },
  {
   "cell_type": "code",
   "execution_count": null,
   "metadata": {
    "deletable": false,
    "editable": false,
    "nbgrader": {
     "cell_type": "code",
     "checksum": "039473f861c1c27d388cc18da43b3e62",
     "grade": true,
     "grade_id": "cell-99eed131272830b7",
     "locked": true,
     "points": 6,
     "schema_version": 3,
     "solution": false,
     "task": false
    }
   },
   "outputs": [],
   "source": [
    "# 6 mark\n",
    "from nose.tools import assert_raises\n",
    "# Check that ValueError is raised on wrong input\n",
    "assert_raises(ValueError,estimate_pi_monte_carlo,2.0)"
   ]
  },
  {
   "cell_type": "code",
   "execution_count": null,
   "metadata": {
    "deletable": false,
    "editable": false,
    "nbgrader": {
     "cell_type": "code",
     "checksum": "4c8633bb66e7a3c70dff12f4fcc23da6",
     "grade": true,
     "grade_id": "cell-40e44c07b982ef98",
     "locked": true,
     "points": 6,
     "schema_version": 3,
     "solution": false,
     "task": false
    }
   },
   "outputs": [],
   "source": [
    "# 6 marks\n",
    "# Hidden test\n",
    "from nose.tools import assert_almost_equal\n",
    "import math"
   ]
  },
  {
   "cell_type": "markdown",
   "metadata": {
    "deletable": false,
    "editable": false,
    "nbgrader": {
     "cell_type": "markdown",
     "checksum": "24850289952e89538ca3474e9eed34e0",
     "grade": false,
     "grade_id": "cell-256b8a2615cb6901",
     "locked": true,
     "points": 30,
     "schema_version": 3,
     "solution": false,
     "task": true
    }
   },
   "source": [
    "**(b) [30 marks]** \n",
    "Illustrate the Monte Carlo method of approximating $\\pi$ by writing a function `draw_monte_carlo` which takes as input $N_{total}$ and draws the figures included above with two subplots of the unit square. \n",
    "- the left subplot should contain a green quarter circle and the rest red;\n",
    "- the right subplot should contain a scatter plot of $N_{total}$ uniformly distributed random points;\n",
    "- the points inside the unit circle should be coloured green and points outside coloured red;\n",
    "- the unit circle itself should be coloured blue;\n",
    "- the plot should have relevant labels, centered title and tick marks.\n",
    "\n",
    "Write the function in the next cell and call the function in the following cell to render it.\n",
    "\n",
    "Hint: you might find the functions `matplotlib.patches.Circle` and `matplotlib.patches.Rectangle` useful."
   ]
  },
  {
   "cell_type": "code",
   "execution_count": null,
   "metadata": {
    "deletable": false,
    "nbgrader": {
     "cell_type": "code",
     "checksum": "2aded4e141d0a85115afff7df634cb0f",
     "grade": false,
     "grade_id": "cell-4768e29ec4fffecb",
     "locked": false,
     "schema_version": 3,
     "solution": true,
     "task": false
    }
   },
   "outputs": [],
   "source": [
    "import random\n",
    "import numpy as np\n",
    "import matplotlib.pyplot as plt\n",
    "from matplotlib.patches import Circle,Rectangle\n",
    "def draw_monte_carlo(Ntotal):\n",
    "    # YOUR CODE HERE\n",
    "    raise NotImplementedError()\n",
    "    plt.show()"
   ]
  },
  {
   "cell_type": "code",
   "execution_count": null,
   "metadata": {},
   "outputs": [],
   "source": [
    "# Call the function to draw the plot here\n",
    "draw_monte_carlo(200)"
   ]
  },
  {
   "cell_type": "markdown",
   "metadata": {
    "deletable": false,
    "editable": false,
    "nbgrader": {
     "cell_type": "markdown",
     "checksum": "ab218fd4c1c341f4ea8d2bfc714206d1",
     "grade": false,
     "grade_id": "cell-9141d48524e280cb",
     "locked": true,
     "schema_version": 3,
     "solution": false,
     "task": false
    }
   },
   "source": [
    "**(d) [30 marks]** \n",
    "There are many many ways to approximate $\\pi$. One of the most efficient algorithms is using the following partial sums:\n",
    "\n",
    "$$\n",
    "S_n = 12\\sum _{k=0}^{\\infty }{\\frac {(-1)^{k}(6k)!(13591409+545140134k)}{(3k)!(k!)^{3}640320^{3k+3/2}}}.\n",
    "$$\n",
    "\n",
    "It is know that $S_n \\to \\frac{1}{\\pi}$ as $n\\to \\infty$ and the convergence is very rapid. This series was discovered by the Chudnovsky brothers in 1988 and uses an approach first discovered by Ramanujan. Versions of this algorithm  are used for all record-breaking calculations for digits of $\\pi$. \n",
    "\n",
    "Write a function `estimate_pi_chudnovsky` which uses this formula to approximate $\\pi$. \n",
    "The function should use `SymPy`, take a non-negative integer $n$ as input and return an estimate of $\\pi$ given as a NumPy Float with at least 1000 digits precision. Your function should also raise a ValueError if the input is not a non-negative integer. \n",
    "\n"
   ]
  },
  {
   "cell_type": "code",
   "execution_count": 2,
   "metadata": {
    "deletable": false,
    "nbgrader": {
     "cell_type": "code",
     "checksum": "54f1c2e910adb52da062a9336544fe08",
     "grade": false,
     "grade_id": "cell-4759cc606fe3683d",
     "locked": false,
     "schema_version": 3,
     "solution": true,
     "task": false
    }
   },
   "outputs": [
    {
     "ename": "IndentationError",
     "evalue": "expected an indented block (<ipython-input-2-87c3e4a67db4>, line 8)",
     "output_type": "error",
     "traceback": [
      "\u001b[1;36m  File \u001b[1;32m\"<ipython-input-2-87c3e4a67db4>\"\u001b[1;36m, line \u001b[1;32m8\u001b[0m\n\u001b[1;33m    raise NotImplementedError()\u001b[0m\n\u001b[1;37m    ^\u001b[0m\n\u001b[1;31mIndentationError\u001b[0m\u001b[1;31m:\u001b[0m expected an indented block\n"
     ]
    }
   ],
   "source": [
    "import sympy\n",
    "def estimate_pi_chudnovsky(n):\n",
    "    # YOUR CODE HERE\n",
    "    if n < 0:\n",
    "        raise ValueError()\n",
    "    for k in n:\n",
    "        \n",
    "    raise NotImplementedError()"
   ]
  },
  {
   "cell_type": "code",
   "execution_count": 3,
   "metadata": {},
   "outputs": [
    {
     "ename": "NameError",
     "evalue": "name 'estimate_pi_chndnovsky' is not defined",
     "output_type": "error",
     "traceback": [
      "\u001b[1;31m---------------------------------------------------------------------------\u001b[0m",
      "\u001b[1;31mNameError\u001b[0m                                 Traceback (most recent call last)",
      "\u001b[1;32m<ipython-input-3-0b1ae5ec393a>\u001b[0m in \u001b[0;36m<module>\u001b[1;34m\u001b[0m\n\u001b[1;32m----> 1\u001b[1;33m \u001b[0mestimate_pi_chndnovsky\u001b[0m\u001b[1;33m(\u001b[0m\u001b[1;36m2\u001b[0m\u001b[1;33m)\u001b[0m\u001b[1;33m\u001b[0m\u001b[1;33m\u001b[0m\u001b[0m\n\u001b[0m",
      "\u001b[1;31mNameError\u001b[0m: name 'estimate_pi_chndnovsky' is not defined"
     ]
    }
   ],
   "source": [
    "estimate_pi_chndnovsky(2)"
   ]
  },
  {
   "cell_type": "code",
   "execution_count": 17,
   "metadata": {
    "scrolled": true
   },
   "outputs": [
    {
     "name": "stdout",
     "output_type": "stream",
     "text": [
      "[13591409.00000000000000000000000000000000000000000000000000000000000000000000000000000000000000000000000000000000000000000000000000000000000000000000000000000000000000000000000000000000000000000000000000000000000000000000000000000000000000000000000000000000000000000000000000000000000000000000000000000000000000000000000000000000000000000000000000000000000000000000000000000000000000000000000000000000000000000000000000000000000000000000000000000000000000000000000000000000000000000000000000000000000000000000000000000000000000000000000000000000000000000000000000000000000000000000000000000000000000000000000000000000000000000000000000000000000000000000000000000000000000000000000000000000000000000000000000000000000000000000000000000000000000000000000000000000000000000000000000000000000000000000000000000000000000000000000000000000000000000000000000000000000000000000000000000000000000000000000000000000000000000000000000000000000000000000000000000000000000000000000000000000000000000000000000000000, 10330954614.00000000000000000000000000000000000000000000000000000000000000000000000000000000000000000000000000000000000000000000000000000000000000000000000000000000000000000000000000000000000000000000000000000000000000000000000000000000000000000000000000000000000000000000000000000000000000000000000000000000000000000000000000000000000000000000000000000000000000000000000000000000000000000000000000000000000000000000000000000000000000000000000000000000000000000000000000000000000000000000000000000000000000000000000000000000000000000000000000000000000000000000000000000000000000000000000000000000000000000000000000000000000000000000000000000000000000000000000000000000000000000000000000000000000000000000000000000000000000000000000000000000000000000000000000000000000000000000000000000000000000000000000000000000000000000000000000000000000000000000000000000000000000000000000000000000000000000000000000000000000000000000000000000000000000000000000000000000000000000000000000000000000000000000000000000]\n",
      "10344546023.00000000000000000000000000000000000000000000000000000000000000000000000000000000000000000000000000000000000000000000000000000000000000000000000000000000000000000000000000000000000000000000000000000000000000000000000000000000000000000000000000000000000000000000000000000000000000000000000000000000000000000000000000000000000000000000000000000000000000000000000000000000000000000000000000000000000000000000000000000000000000000000000000000000000000000000000000000000000000000000000000000000000000000000000000000000000000000000000000000000000000000000000000000000000000000000000000000000000000000000000000000000000000000000000000000000000000000000000000000000000000000000000000000000000000000000000000000000000000000000000000000000000000000000000000000000000000000000000000000000000000000000000000000000000000000000000000000000000000000000000000000000000000000000000000000000000000000000000000000000000000000000000000000000000000000000000000000000000000000000000000000000000000000000000000000\n"
     ]
    }
   ],
   "source": [
    "import sympy\n",
    "n = 2\n",
    "l = []\n",
    "for k in range(n):\n",
    "    l.append(sympy.Float(1**k * sympy.factorial(6*k) * 13591409+545140134*k).evalf(1000))\n",
    "print(l)\n",
    "print(sum(l))"
   ]
  },
  {
   "cell_type": "code",
   "execution_count": 29,
   "metadata": {
    "scrolled": true
   },
   "outputs": [
    {
     "name": "stdout",
     "output_type": "stream",
     "text": [
      "[512384047.9960007667541503906250000000000000000000000000000000000000000000000000000000000000000000000000000000000000000000000000000000000000000000000000000000000000000000000000000000000000000000000000000000000000000000000000000000000000000000000000000000000000000000000000000000000000000000000000000000000000000000000000000000000000000000000000000000000000000000000000000000000000000000000000000000000000000000000000000000000000000000000000000000000000000000000000000000000000000000000000000000000000000000000000000000000000000000000000000000000000000000000000000000000000000000000000000000000000000000000000000000000000000000000000000000000000000000000000000000000000000000000000000000000000000000000000000000000000000000000000000000000000000000000000000000000000000000000000000000000000000000000000000000000000000000000000000000000000000000000000000000000000000000000000000000000000000000000000000000000000000000000000000000000000000000000000000000000000000000000000000000000000000000000000000000000, 807119893435638739340623872.0000000000000000000000000000000000000000000000000000000000000000000000000000000000000000000000000000000000000000000000000000000000000000000000000000000000000000000000000000000000000000000000000000000000000000000000000000000000000000000000000000000000000000000000000000000000000000000000000000000000000000000000000000000000000000000000000000000000000000000000000000000000000000000000000000000000000000000000000000000000000000000000000000000000000000000000000000000000000000000000000000000000000000000000000000000000000000000000000000000000000000000000000000000000000000000000000000000000000000000000000000000000000000000000000000000000000000000000000000000000000000000000000000000000000000000000000000000000000000000000000000000000000000000000000000000000000000000000000000000000000000000000000000000000000000000000000000000000000000000000000000000000000000000000000000000000000000000000000000000000000000000000000000000000000000000000000000000000000000000000000000000000000]\n",
      "807119893435638739853007919.9960007667541503906250000000000000000000000000000000000000000000000000000000000000000000000000000000000000000000000000000000000000000000000000000000000000000000000000000000000000000000000000000000000000000000000000000000000000000000000000000000000000000000000000000000000000000000000000000000000000000000000000000000000000000000000000000000000000000000000000000000000000000000000000000000000000000000000000000000000000000000000000000000000000000000000000000000000000000000000000000000000000000000000000000000000000000000000000000000000000000000000000000000000000000000000000000000000000000000000000000000000000000000000000000000000000000000000000000000000000000000000000000000000000000000000000000000000000000000000000000000000000000000000000000000000000000000000000000000000000000000000000000000000000000000000000000000000000000000000000000000000000000000000000000000000000000000000000000000000000000000000000000000000000000000000000000000000000000000000000000000000000000\n"
     ]
    }
   ],
   "source": [
    "n = 2\n",
    "l = []\n",
    "for k in range(n):\n",
    "    l.append(sympy.Float(sympy.factorial(3*k) * sympy.factorial(k) ** 3 * 640320**(sympy.Float(3*k + 3/2))).evalf(1000))\n",
    "print(l)\n",
    "print(sum(l))"
   ]
  },
  {
   "cell_type": "code",
   "execution_count": 39,
   "metadata": {},
   "outputs": [
    {
     "data": {
      "text/latex": [
       "$\\displaystyle 0.00000000000000001279977695757762880757012354251762452948254959208401505440906175404171606777263929027045787899492640795409113065302786251466679718963753556438250109032029306068543352642087254362380653161265909321438031266367208641960831088398435839074961226144289161659066983824597055642356471517615504772198269534663983507089959577613394505837569170553493311151582318815713746762866296511307426908159417109563343625332440038513550837361893972885829506260560539332193787048490978909400658392931783356184781737922983338055561413904153012010778719645242678133492614991435201974186362186425799435176081181607350256175452941540827429308124523425878074727412101253369960815827811966882634686892286852056421226546453991975043659796443047104943869231295838733506485879616679546006343523219721656395675493821056329056238709756508041445889259859448315970018273627915916452564370984571058460396905695407465779600132891038534434388736570930624880769451083869120903743905319593415106381901956158241858819473895851398345727941246$"
      ],
      "text/plain": [
       "0.00000000000000001279977695757762880757012354251762452948254959208401505440906175404171606777263929027045787899492640795409113065302786251466679718963753556438250109032029306068543352642087254362380653161265909321438031266367208641960831088398435839074961226144289161659066983824597055642356471517615504772198269534663983507089959577613394505837569170553493311151582318815713746762866296511307426908159417109563343625332440038513550837361893972885829506260560539332193787048490978909400658392931783356184781737922983338055561413904153012010778719645242678133492614991435201974186362186425799435176081181607350256175452941540827429308124523425878074727412101253369960815827811966882634686892286852056421226546453991975043659796443047104943869231295838733506485879616679546006343523219721656395675493821056329056238709756508041445889259859448315970018273627915916452564370984571058460396905695407465779600132891038534434388736570930624880769451083869120903743905319593415106381901956158241858819473895851398345727941246"
      ]
     },
     "execution_count": 39,
     "metadata": {},
     "output_type": "execute_result"
    }
   ],
   "source": [
    "n=2\n",
    "l = []\n",
    "for k in range(n):\n",
    "    l.append(sympy.Float(1**k * sympy.factorial(6*k) * 13591409+545140134*k).evalf(1000)/sympy.Float(sympy.factorial(3*k) * sympy.factorial(k) ** 3 * 640320**(sympy.Float(3*k + 3/2))).evalf(1000))\n",
    "l[1]"
   ]
  },
  {
   "cell_type": "code",
   "execution_count": null,
   "metadata": {
    "deletable": false,
    "editable": false,
    "nbgrader": {
     "cell_type": "code",
     "checksum": "330205f9dd0ffb0efd2da4c87ec132e4",
     "grade": true,
     "grade_id": "cell-ab6341e170269af2",
     "locked": true,
     "points": 6,
     "schema_version": 3,
     "solution": false,
     "task": false
    }
   },
   "outputs": [],
   "source": [
    "# 6 marks\n",
    "# Test that the function returns a float\n",
    "import sympy\n",
    "from nose.tools import assert_equal\n",
    "assert_equal(type(estimate_pi_chudnovsky(10)),sympy.core.numbers.Float)\n"
   ]
  },
  {
   "cell_type": "code",
   "execution_count": null,
   "metadata": {
    "deletable": false,
    "editable": false,
    "nbgrader": {
     "cell_type": "code",
     "checksum": "d30adbcbe90b942125584e86f997fa93",
     "grade": true,
     "grade_id": "cell-d25fba4cc2c8bd22",
     "locked": true,
     "points": 6,
     "schema_version": 3,
     "solution": false,
     "task": false
    }
   },
   "outputs": [],
   "source": [
    "# 6 marks\n",
    "# Test that the return value has at least 1000 digits\n",
    "import sympy\n",
    "from nose.tools import assert_equal\n",
    "assert_equal(len(str(estimate_pi_chudnovsky(10)))>1000,True)"
   ]
  },
  {
   "cell_type": "code",
   "execution_count": null,
   "metadata": {
    "deletable": false,
    "editable": false,
    "nbgrader": {
     "cell_type": "code",
     "checksum": "cb076f1e563f8ef16f746e0a7428246d",
     "grade": true,
     "grade_id": "cell-822ff06599582e0b",
     "locked": true,
     "points": 6,
     "schema_version": 3,
     "solution": false,
     "task": false
    }
   },
   "outputs": [],
   "source": [
    "# 6 marks\n",
    "# Test that two terms give 41 correct digits\n",
    "from nose.tools import assert_almost_equal\n",
    "import sympy\n",
    "assert_almost_equal(estimate_pi_chudnovsky(2),sympy.pi.evalf(100),delta=1e-41) "
   ]
  },
  {
   "cell_type": "code",
   "execution_count": null,
   "metadata": {
    "deletable": false,
    "editable": false,
    "nbgrader": {
     "cell_type": "code",
     "checksum": "4e479da0b0f939541c40b24c9433079a",
     "grade": true,
     "grade_id": "cell-1d871481464ba187",
     "locked": true,
     "points": 6,
     "schema_version": 3,
     "solution": false,
     "task": false
    }
   },
   "outputs": [],
   "source": [
    "# 6 marks\n",
    "# Check that ValueError is raised for incorrect input.\n",
    "from nose.tools import assert_raises\n",
    "assert_raises(ValueError,estimate_pi_chudnovsky,-1)"
   ]
  },
  {
   "cell_type": "code",
   "execution_count": null,
   "metadata": {
    "deletable": false,
    "editable": false,
    "nbgrader": {
     "cell_type": "code",
     "checksum": "80f082bab80843a0d8f13e5b185cd1ce",
     "grade": true,
     "grade_id": "cell-d0adfaa1a1f5ca4d",
     "locked": true,
     "points": 6,
     "schema_version": 3,
     "solution": false,
     "task": false
    }
   },
   "outputs": [],
   "source": [
    "# marks 6\n",
    "from nose.tools import assert_raises\n",
    "# 6 marks\n",
    "# Test that two terms give 41 correct digits\n",
    "from nose.tools import assert_almost_equal\n",
    "import sympy"
   ]
  }
 ],
 "metadata": {
  "kernelspec": {
   "display_name": "Python 3",
   "language": "python",
   "name": "python3"
  },
  "language_info": {
   "codemirror_mode": {
    "name": "ipython",
    "version": 3
   },
   "file_extension": ".py",
   "mimetype": "text/x-python",
   "name": "python",
   "nbconvert_exporter": "python",
   "pygments_lexer": "ipython3",
   "version": "3.8.8"
  }
 },
 "nbformat": 4,
 "nbformat_minor": 4
}
